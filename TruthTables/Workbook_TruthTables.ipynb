{
 "cells": [
  {
   "cell_type": "markdown",
   "metadata": {},
   "source": [
    "# Truth Tables Tutorial Workbook\n",
    "\n",
    "**What is this workbook?**\n",
    "A workbook is a collection of problems, accompanied by solutions to them. \n",
    "The explanations focus on the logical steps required to solve a problem; they illustrate the concepts that need to be applied to come up with a solution to the problem, explaining the mathematical steps required. \n",
    "\n",
    "Note that a workbook should not be the primary source of knowledge on the subject matter; it assumes that you've already read a tutorial or a textbook and that you are now seeking to improve your problem-solving skills. You should attempt solving the tasks of the respective kata first, and turn to the workbook only if stuck. While a textbook emphasizes knowledge acquisition, a workbook emphasizes skill acquisition.\n",
    "\n",
    "This workbook describes the solutions to the problems offered in the [Truth Tables tutorial](./TruthTables.ipynb). \n",
    "Since the tasks are offered as programming problems, the explanations also cover some elements of Python that might be non-obvious for a first-time user.\n",
    "\n",
    "**What you should know for this workbook**\n",
    "\n",
    "1. Truth tables.\n",
    "2. Basic Python knowledge is helpful but not necessary."
   ]
  },
  {
   "cell_type": "markdown",
   "metadata": {},
   "source": [
    "### Task 1. Projective functions (elementary variables)\n",
    "\n",
    "**Goal:** \n",
    "Describe the three projective functions $x_1$, $x_2$, $x_3$ represented by integers. Each of them is a 3-input function, i.e.,  $f(x) : \\{0,1\\}^{3} \\rightarrow \\{0,1\\}$\n",
    "\n",
    "We use the following convention:\n",
    "- $x_1$ is the least significant input.\n",
    "- $x_3$ is the most significant input.\n",
    "\n",
    "> The function $x_1$ (least significant input) is given as an example. \n",
    "The function is true for assignments $001$, $011$, $101$, and $111$, since for all these assignments their least significant bit $x_1 = 1$.\n",    
    "\n",    
    "If $x_1 = 0b10101010$, what are the values of $x_2$ and $x_3$?"
   ]
  },
  {
    "cell_type": "markdown",
    "metadata": {},
    "source": [
     "### Solution\n",     
     "The value of $x_2$ is `0b11001100` and the value of $x_3$ is `0b11110000`."     
    ]
  },
  {
   "cell_type": "markdown",
   "metadata": {},
   "source": [
    "### Task 2. \"Exactly 1 bit is true\" function\n",
    "\n",
    "**Goal:** \n",
    "Describe a 3-input function $f(x_3,x_2,x_1)$ represented by an integer which is true if and only if exactly 1 bit out of $x_1$, $x_2$ or $x_3$ is true.\n",
    "\n",
    "If $f = 0$, what are the values of $x_1$, $x_2$, and $x_3$?"
   ]
  },
  {
    "cell_type": "markdown",
    "metadata": {},
    "source": [
     "### Solution\n",     
     "The function is false for assignments $000$, $011$, $101$, $110$, $111$, since for all these assignments either zero or more than one bit is true."     
    ]
  },  
  {
   "cell_type": "markdown",
   "metadata": {},
   "source": [
    "### Task 3. \"Exactly 2 bits are true\" function\n",
    "\n",
    "**Goal:** \n",
    "Describe a 3-input function $f(x_3,x_2,x_1)$ represented by an integer which is true if and only if exactly 2 bits out of $x_1$, $x_2$ or $x_3$ are true.\n",
    "\n",
    "If $f = 0$, what are the values of $x_1$, $x_2$, and $x_3$?"
   ]
  },
  {
    "cell_type": "markdown",
    "metadata": {},
    "source": [
     "### Solution\n",     
     "The function is false for assignments $000$, $001$, $010$, $100$, $111$, since all these assignments do not have exactly 2 bits as true."     
    ]
  },   
  {
   "cell_type": "markdown",
   "metadata": {},
   "source": [
    "### Task 4. Compute AND of two truth tables\n",
    "**Goal:** \n",
    "Compute a truth table that computes the conjunction (AND)\n",
    "of two truth tables.  Find a way to perform the computation\n",
    "directly on the integer representations of the truth tables,\n",
    "i.e., without accessing the bits individually."
   ]
  },
  {
    "cell_type": "markdown",
    "metadata": {},
    "source": [
     "### Solution\n",     
     "We can use &&& operator to compute the conjunction (AND) of two truth tables such as: tt1 &&& tt2."     
    ]
  },
  {
   "cell_type": "markdown",
   "metadata": {},
   "source": [
    "### Task 5. Compute OR of two truth tables\n",
    "**Goal:** \n",
    "Compute a truth table that computes the disjunction (OR)\n",
    "of two truth tables."
   ]
  },
  {
    "cell_type": "markdown",
    "metadata": {},
    "source": [
     "### Solution\n",     
     "We can use ||| operator to compute the disjunction (OR) of two truth tables such as: tt1 ||| tt2."     
    ]
  },
  {
   "cell_type": "markdown",
   "metadata": {},
   "source": [
    "### Task 6. Compute XOR of two truth tables\n",
    "**Goal:** \n",
    "Compute a truth table that computes the exclusive-OR (XOR)\n",
    "of two truth tables."
   ]
  },
  {
    "cell_type": "markdown",
    "metadata": {},
    "source": [
     "### Solution\n",     
     "We can use ^^^ operator to compute the exclusive-OR (XOR) of two truth tables such as: tt1 ^^^ tt2."     
    ]
  },
  {
   "cell_type": "markdown",
   "metadata": {},
   "source": [
    "### Task 7. Compute NOT of a truth table\n",
    "**Goal:** \n",
    "Compute a truth table that computes negation of a truth\n",
    "table."
   ]
  },
  {
    "cell_type": "markdown",
    "metadata": {},
    "source": [
     "### Solution\n",     
     "We can use ~~~ operator to compute the negation (NOT) a truth table such as: ~~~tt"     
    ]
  },
  {
   "cell_type": "markdown",
   "metadata": {},
   "source": [
    "### Task 8. Build if-then-else truth table\n",
    "**Goal:** \n",
    "Compute the truth table of the if-then-else function `ttCond ? ttThen | ttElse`\n",
    "(`if ttCond then ttThen else ttElse`) by making use of the truth table operations\n",
    "defined in the previous four tasks."
   ]
  },
  {
    "cell_type": "markdown",
    "metadata": {},
    "source": [
     "### Solution\n", 
     "We can use the following formula to satisfy If/Else conditional function: (~~~ttCond &&& ttThen) ||| (ttCond &&& ttElse)"    
    ]
  },
  {
   "cell_type": "markdown",
   "metadata": {},
   "source": [
    "### Task 9. Find all true input assignments in a truth table\n",
    "**Goal:** \n",
    "Return an array that contains all input assignments in a truth table\n",
    "that have a true truth value.  These input assignments are called minterms.\n",
    "The order of assignments in the return does not matter."
   ]
  },
  {
    "cell_type": "markdown",
    "metadata": {},
    "source": [
     "### Solution\n",     
     "In progress..."     
    ]
  },
  {
   "cell_type": "markdown",
   "metadata": {},
   "source": [
    "### Task 10. Apply truth table as a quantum operation\n",
    "**Goal:** \n",
    "Apply the X operation on the target qubit, if and only if\n",
    "the classical state of the controls is a minterm of the truth table."
   ]
  },
  {
    "cell_type": "markdown",
    "metadata": {},
    "source": [
     "### Solution\n",     
     "In progress..."     
    ]
  }
 ],
 "metadata": {
  "kernelspec": {
   "display_name": "Q#",
   "language": "qsharp",
   "name": "iqsharp"
  },
  "language_info": {
   "file_extension": ".qs",
   "mimetype": "text/x-qsharp",
   "name": "qsharp",
   "version": "0.14"
  }
 },
 "nbformat": 4,
 "nbformat_minor": 2
}
