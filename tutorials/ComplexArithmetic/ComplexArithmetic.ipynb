{
 "cells": [
  {
   "cell_type": "markdown",
   "metadata": {},
   "source": [
    "# Complex Arithmetic\n",
    "\n",
    "This is a tutorial designed to introduce you to complex arithmetic.\n",
    "This topic isn't particularly expansive, but it's important to understand it to be able to work with quantum computing.\n",
    "\n",
    "This tutorial covers the following topics:\n",
    "\n",
    "* Imaginary and complex numbers\n",
    "* Basic complex arithmetic\n",
    "* Complex plane\n",
    "* Modulus operator\n",
    "* Imaginary exponents\n",
    "* Polar representation\n",
    "\n",
    "If you need to look up some formulas quickly, you can find them in [this cheatsheet](https://github.com/microsoft/QuantumKatas/blob/main/quickref/qsharp-quick-reference.pdf).\n",
    "\n",
    "If you are curious to learn more, you can find more information at [Wikipedia](https://en.wikipedia.org/wiki/Complex_number)."
   ]
  },
  {
   "cell_type": "markdown",
   "metadata": {},
   "source": [
    "This notebook has several tasks that require you to write Python code to test your understanding of the concepts. If you are not familiar with Python, [here](https://docs.python.org/3/tutorial/index.html) is a good introductory tutorial for it. \n",
    "\n",
    "Let's start by importing some useful mathematical functions and constants, and setting up a few things necessary for testing the exercises. **Do not skip this step**.\n",
    "\n",
    "Click the cell with code below this block of text and press `Ctrl+Enter` (`⌘+Enter` on Mac)."
   ]
  },
  {
   "cell_type": "code",
   "execution_count": null,
   "metadata": {},
   "outputs": [],
   "source": [
    "# Run this cell using Ctrl+Enter (⌘+Enter on Mac).\n",
    "from testing import exercise\n",
    "from typing import Tuple\n",
    "\n",
    "import math\n",
    "\n",
    "Complex = Tuple[float, float]\n",
    "Polar = Tuple[float, float]"
   ]
  },
  {
   "cell_type": "markdown",
   "metadata": {},
   "source": [
    "# Algebraic Perspective\n",
    "\n",
    "## Imaginary numbers\n",
    "\n",
    "For some purposes, real numbers aren't enough. Probably the most famous example is this equation:\n",
    "\n",
    "$$x^{2} = -1$$\n",
    "\n",
    "which has no solution for $x$ among real numbers. If, however, we abandon that constraint, we can do something interesting - we can define our own number. Let's say there exists some number that solves that equation. Let's call that number $i$.\n",
    "\n",
    "$$i^{2} = -1$$\n",
    "\n",
    "As we said before, $i$ can't be a real number. In that case, we'll call it an **imaginary unit**. However, there is no reason for us to define it as acting any different from any other number, other than the fact that $i^2 = -1$:\n",
    "\n",
    "$$i + i = 2i$$\n",
    "$$i - i = 0$$\n",
    "$$-1 \\cdot i = -i$$\n",
    "$$(-i)^{2} = -1$$\n",
    "\n",
    "We'll call the number $i$ and its real multiples **imaginary numbers**.\n",
    "\n",
    "> A good video introduction on imaginary numbers can be found  [here](https://youtu.be/SP-YJe7Vldo)."
   ]
  },
  {
   "cell_type": "markdown",
   "metadata": {},
   "source": [
    "### <span style=\"color:blue\">Exercise 1</span>: Powers of $i$.\n",
    "\n",
    "**Input:** An even integer $n$.\n",
    "\n",
    "**Goal:** Return the $n$th power of $i$, or $i^n$.\n",
    "\n",
    "> Fill in the missing code (denoted by `...`) and run the cell below to test your work."
   ]
  },
  {
   "cell_type": "code",
   "execution_count": null,
   "metadata": {},
   "outputs": [],
   "source": [
    "@exercise\n",
    "def imaginary_power(n : int) -> int:\n",
    "    # If n is divisible by 4\n",
    "    if n % 4 == 0:\n",
    "        return ...\n",
    "    else:\n",
    "        return ..."
   ]
  },
  {
   "cell_type": "markdown",
   "metadata": {},
   "source": [
    "*Can't come up with a solution? See the explained solution in the [Complex Arithmetic Workbook](./Workbook_ComplexArithmetic.ipynb#Exercise-1:-Powers-of-$i$.).*"
   ]
  },
  {
   "cell_type": "markdown",
   "metadata": {},
   "source": [
    "## Complex Numbers\n",
    "\n",
    "Adding imaginary numbers to each other is quite simple, but what happens when we add a real number to an imaginary number? The result of that addition will be partly real and partly imaginary, otherwise known as a **complex number**. A complex number is simply the real part and the imaginary part being treated as a single number. Complex numbers are generally written as the sum of their two parts: $a + bi$, where both $a$ and $b$ are real numbers. For example, $3 + 4i$, or $-5 - 7i$ are valid complex numbers. Note that purely real or purely imaginary numbers can also be written as complex numbers: $2$ is $2 + 0i$, and $-3i$ is $0 - 3i$.\n",
    "\n",
    "When performing operations on complex numbers, it is often helpful to treat them as polynomials in terms of $i$."
   ]
  },
  {
   "cell_type": "markdown",
   "metadata": {},
   "source": [
    "### <span style=\"color:blue\">Exercise 2</span>: Complex addition.\n",
    "\n",
    "**Inputs:**\n",
    "\n",
    "1. A complex number $x = a + bi$, represented as a tuple `(a, b)`.\n",
    "2. A complex number $y = c + di$, represented as a tuple `(c, d)`.\n",
    "\n",
    "**Goal:** Return the sum of these two numbers $x + y = z = g + hi$, represented as a tuple `(g, h)`.\n",
    "\n",
    "> A tuple is a pair of numbers.\n",
    "> You can make a tuple by putting two numbers in parentheses like this: `(3, 4)`.\n",
    "> * You can access the $n$th element of tuple `x` like so: `x[n]`\n",
    "> * For this tutorial, complex numbers are represented as tuples where the first element is the real part, and the second element is the real coefficient of the imaginary part\n",
    "> * For example, $1 + 2i$ would be represented by a tuple `(1, 2)`, and $7 - 5i$ would be represented by `(7, -5)`.\n",
    ">\n",
    "> You can find more details about Python's tuple data type in the [official documentation](https://docs.python.org/3/library/stdtypes.html#tuples).\n",
    "\n",
    "<br/>\n",
    "<details>\n",
    "    <summary><strong>Need a hint? Click here</strong></summary>\n",
    "    Remember, adding complex numbers is just like adding polynomials. Add components of the same type - add the real part to the real part, add the complex part to the complex part. <br>\n",
    "    A video explanation can be found <a href=\"https://www.youtube.com/watch?v=SfbjqVyQljk\">here</a>.\n",
    "</details>"
   ]
  },
  {
   "cell_type": "code",
   "execution_count": null,
   "metadata": {},
   "outputs": [],
   "source": [
    "@exercise\n",
    "def complex_add(x : Complex, y : Complex) -> Complex:\n",
    "    # You can extract elements from a tuple like this\n",
    "    a = x[0]\n",
    "    b = x[1]\n",
    "    \n",
    "    c = y[0]\n",
    "    d = y[1]\n",
    "    \n",
    "    # This creates a new variable and stores the real component into it\n",
    "    real = a + c\n",
    "    # Replace the ... with code to calculate the imaginary component\n",
    "    imaginary = ...\n",
    "    \n",
    "    # You can create a tuple like this\n",
    "    ans = (real, imaginary)\n",
    "    \n",
    "    return ans"
   ]
  },
  {
   "cell_type": "markdown",
   "metadata": {},
   "source": [
    "*Can't come up with a solution? See the explained solution in the [Complex Arithmetic Workbook](./Workbook_ComplexArithmetic.ipynb#Exercise-2:-Complex-addition.).*"
   ]
  },
  {
   "cell_type": "markdown",
   "metadata": {},
   "source": [
    "### <span style=\"color:blue\">Exercise 3</span>: Complex multiplication.\n",
    "\n",
    "**Inputs:**\n",
    "\n",
    "1. A complex number $x = a + bi$, represented as a tuple `(a, b)`.\n",
    "2. A complex number $y = c + di$, represented as a tuple `(c, d)`.\n",
    "\n",
    "**Goal:** Return the product of these two numbers $x \\cdot y = z = g + hi$, represented as a tuple `(g, h)`.\n",
    "\n",
    "<br/>\n",
    "<details>\n",
    "    <summary><strong>Need a hint? Click here</strong></summary>\n",
    "    Remember, multiplying complex numbers is just like multiplying polynomials. Distribute one of the complex numbers:\n",
    "    \n",
    "$$(a + bi)(c + di) = a(c + di) + bi(c + di)$$\n",
    "\n",
    "Then multiply through, and group the real and imaginary terms together. \n",
    "<br/>\n",
    "A video explanation can be found <a href=\"https://www.youtube.com/watch?v=cWn6g8Qqvs4\">here</a>.\n",
    "</details>"
   ]
  },
  {
   "cell_type": "code",
   "execution_count": null,
   "metadata": {},
   "outputs": [],
   "source": [
    "@exercise\n",
    "def complex_mult(x : Complex, y : Complex) -> Complex:\n",
    "    # Fill in your own code\n",
    "    return ..."
   ]
  },
  {
   "cell_type": "markdown",
   "metadata": {},
   "source": [
    "*Can't come up with a solution? See the explained solution in the [Complex Arithmetic Workbook](./Workbook_ComplexArithmetic.ipynb#Exercise-3:-Complex-multiplication.).*"
   ]
  },
  {
   "cell_type": "markdown",
   "metadata": {},
   "source": [
    "## Complex Conjugate\n",
    "\n",
    "Before we discuss any other complex operations, we have to cover the **complex conjugate**. The conjugate is a simple operation: given a complex number $x = a + bi$, its complex conjugate is $\\overline{x} = a - bi$.\n",
    "\n",
    "The conjugate allows us to do some interesting things. The first and probably most important is multiplying a complex number by its conjugate:\n",
    "\n",
    "$$x \\cdot \\overline{x} = (a + bi)(a - bi)$$\n",
    "\n",
    "Notice that the second expression is a difference of squares:\n",
    "\n",
    "$$(a + bi)(a - bi) = a^2 - (bi)^2 = a^2 - b^2i^2 = a^2 + b^2$$\n",
    "\n",
    "This means that a complex number multiplied by its conjugate always produces a non-negative real number.\n",
    "\n",
    "Another property of the conjugate is that it distributes over both complex addition and complex multiplication:\n",
    "\n",
    "$$\\overline{x + y} = \\overline{x} + \\overline{y}$$\n",
    "$$\\overline{x \\cdot y} = \\overline{x} \\cdot \\overline{y}$$"
   ]
  },
  {
   "cell_type": "markdown",
   "metadata": {},
   "source": [
    "### <span style=\"color:blue\">Exercise 4</span>: Complex conjugate.\n",
    "\n",
    "**Input:** A complex number $x = a + bi$, represented as a tuple `(a, b)`.\n",
    "\n",
    "**Goal:** Return $\\overline{x} = g + hi$, the complex conjugate of $x$, represented as a tuple `(g, h)`.\n",
    "\n",
    "<br/>\n",
    "<details>\n",
    "    <summary><b>Need a hint? Click here</b></summary>\n",
    "    A video explanation can be found <a href=\"https://www.youtube.com/watch?v=BZxZ_eEuJBM\">here</a>.\n",
    "</details>"
   ]
  },
  {
   "cell_type": "code",
   "execution_count": null,
   "metadata": {},
   "outputs": [],
   "source": [
    "@exercise\n",
    "def conjugate(x : Complex) -> Complex:\n",
    "    return ..."
   ]
  },
  {
   "cell_type": "markdown",
   "metadata": {},
   "source": [
    "*Can't come up with a solution? See the explained solution in the [Complex Arithmetic Workbook](./Workbook_ComplexArithmetic.ipynb#Exercise-4:-Complex-conjugate.).*"
   ]
  },
  {
   "cell_type": "markdown",
   "metadata": {},
   "source": [
    "## Complex Division\n",
    "\n",
    "The next use for the conjugate is complex division. Let's take two complex numbers: $x = a + bi$ and $y = c + di \\neq 0$ (not even complex numbers let you divide by $0$). What does $\\frac{x}{y}$ mean?\n",
    "\n",
    "Let's expand $x$ and $y$ into their component forms:\n",
    "\n",
    "$$\\frac{x}{y} = \\frac{a + bi}{c + di}$$\n",
    "\n",
    "Unfortunately, it isn't very clear what it means to divide by a complex number. We need some way to move either all real parts or all imaginary parts into the numerator. And thanks to the conjugate, we can do just that. Using the fact that any number (except $0$) divided by itself equals $1$, and any number multiplied by $1$ equals itself, we get:\n",
    "\n",
    "$$\\frac{x}{y} = \\frac{x}{y} \\cdot 1 = \\frac{x}{y} \\cdot \\frac{\\overline{y}}{\\overline{y}} = \\frac{x\\overline{y}}{y\\overline{y}} = \\frac{(a + bi)(c - di)}{(c + di)(c - di)} = \\frac{(a + bi)(c - di)}{c^2 + d^2}$$\n",
    "\n",
    "By doing this, we re-wrote our division problem to have a complex multiplication expression in the numerator, and a real number in the denominator. We already know how to multiply complex numbers, and dividing a complex number by a real number is as simple as dividing both parts of the complex number separately:\n",
    "\n",
    "$$\\frac{a + bi}{r} = \\frac{a}{r} + \\frac{b}{r}i$$"
   ]
  },
  {
   "cell_type": "markdown",
   "metadata": {},
   "source": [
    "### <span style=\"color:blue\">Exercise 5</span>: Complex division.\n",
    "\n",
    "**Inputs:**\n",
    "\n",
    "1. A complex number $x = a + bi$, represented as a tuple `(a, b)`.\n",
    "2. A complex number $y = c + di \\neq 0$, represented as a tuple `(c, d)`.\n",
    "\n",
    "**Goal:** Return the result of the division $\\frac{x}{y} = \\frac{a + bi}{c + di} = g + hi$, represented as a tuple `(g, h)`.\n",
    "\n",
    "<br/>\n",
    "<details>\n",
    "    <summary><b>Need a hint? Click here</b></summary>\n",
    "    A video explanation can be found <a href=\"https://www.youtube.com/watch?v=Z8j5RDOibV4\">here</a>.\n",
    "</details>"
   ]
  },
  {
   "cell_type": "code",
   "execution_count": null,
   "metadata": {},
   "outputs": [],
   "source": [
    "@exercise\n",
    "def complex_div(x : Complex, y : Complex) -> Complex:\n",
    "    return ..."
   ]
  },
  {
   "cell_type": "markdown",
   "metadata": {},
   "source": [
    "*Can't come up with a solution? See the explained solution in the [Complex Arithmetic Workbook](./Workbook_ComplexArithmetic.ipynb#Exercise-5:-Complex-division.).*"
   ]
  },
  {
   "cell_type": "markdown",
   "metadata": {},
   "source": [
    "# Geometric Perspective\n",
    "\n",
    "## The Complex Plane\n",
    "\n",
    "You may recall that real numbers can be represented geometrically using the [number line](https://en.wikipedia.org/wiki/Number_line) - a line on which each point represents a real number. We can extend this representation to include imaginary and complex numbers, which gives rise to an entirely different number line: the imaginary number line, which only intersects with the real number line at $0$.\n",
    "\n",
    "A complex number has two components - a real component and an imaginary component. As you no doubt noticed from the exercises, these can be represented by two real numbers - the real component, and the real coefficient of the imaginary component. This allows us to map complex numbers onto a two-dimensional plane - the **complex plane**. The most common mapping is the obvious one: $a + bi$ can be represented by the point $(a, b)$ in the **Cartesian coordinate system**.\n",
    "\n",
    "![Complex Plane Explanation](img/complex_plane.png)\n",
    "\n",
    "This mapping allows us to apply complex arithmetic to geometry, and, more importantly, apply geometric concepts to complex numbers. Many properties of complex numbers become easier to understand when viewed through a geometric lens."
   ]
  },
  {
   "cell_type": "markdown",
   "metadata": {},
   "source": [
    "## Modulus\n",
    "\n",
    "One such property is the **modulus** operator. This operator generalizes the **absolute value** operator on real numbers to the complex plane. Just like the absolute value of a number is its distance from $0$, the modulus of a complex number is its distance from $0 + 0i$. Using the distance formula, if $x = a + bi$, then:\n",
    "\n",
    "$$|x| = \\sqrt{a^2 + b^2}$$\n",
    "\n",
    "There is also a slightly different, but algebraically equivalent definition:\n",
    "\n",
    "$$|x| = \\sqrt{x \\cdot \\overline{x}}$$\n",
    "\n",
    "Like the conjugate, the modulus distributes over multiplication.\n",
    "\n",
    "$$|x \\cdot y| = |x| \\cdot |y|$$\n",
    "\n",
    "Unlike the conjugate, however, the modulus doesn't distribute over addition. Instead, the interaction of the two comes from the triangle inequality:\n",
    "\n",
    "$$|x + y| \\leq |x| + |y|$$"
   ]
  },
  {
   "cell_type": "markdown",
   "metadata": {},
   "source": [
    "### <span style=\"color:blue\">Exercise 6</span>: Modulus.\n",
    "\n",
    "**Input:** A complex number $x = a + bi$, represented as a tuple `(a, b)`.\n",
    "\n",
    "**Goal:** Return the modulus of this number, $|x|$.\n",
    "\n",
    "> Python's exponentiation operator is `**`, so $2^3$ is `2 ** 3` in Python.\n",
    ">\n",
    "> You will probably need some mathematical functions to solve the next few tasks. They are available in Python's math library. You can find the full list and detailed information in the [official documentation](https://docs.python.org/3/library/math.html).\n",
    "\n",
    "<details>\n",
    "    <summary><strong>Need a hint? Click here</strong></summary>\n",
    "    In particular, you might be interested in <a href=https://docs.python.org/3/library/math.html#math.sqrt>Python's square root function.</a><br>\n",
    "    A video explanation can be found <a href=\"https://www.youtube.com/watch?v=FwuPXchH2rA\">here</a>.\n",
    "</details>"
   ]
  },
  {
   "cell_type": "code",
   "execution_count": null,
   "metadata": {},
   "outputs": [],
   "source": [
    "@exercise\n",
    "def modulus(x : Complex) -> float:\n",
    "    return ..."
   ]
  },
  {
   "cell_type": "markdown",
   "metadata": {},
   "source": [
    "*Can't come up with a solution? See the explained solution in the [Complex Arithmetic Workbook](./Workbook_ComplexArithmetic.ipynb#Exercise-6:-Modulus.).*"
   ]
  },
  {
   "cell_type": "markdown",
   "metadata": {},
   "source": [
    "## Imaginary Exponents\n",
    "\n",
    "The next complex operation we're going to need is exponentiation. Raising an imaginary number to an integer power is a fairly simple task, but raising a number to an imaginary power, or raising an imaginary (or complex) number to a real power isn't quite as simple.\n",
    "\n",
    "Let's start with raising real numbers to imaginary powers. Specifically, let's start with a rather special real number - Euler's constant, $e$:\n",
    "\n",
    "$$e^{i\\theta} = \\cos \\theta + i\\sin \\theta$$\n",
    "\n",
    "(Here and later in this tutorial $\\theta$ is measured in radians.)\n",
    "\n",
    "Explaining why that happens is somewhat beyond the scope of this tutorial, as it requires some calculus, so we won't do that here. If you are curious, you can see [this video](https://youtu.be/v0YEaeIClKY) for a beautiful intuitive explanation, or [the Wikipedia article](https://en.wikipedia.org/wiki/Euler%27s_formula#Proofs) for a more mathematically rigorous proof.\n",
    "\n",
    "Here are some examples of this formula in action:\n",
    "\n",
    "$$e^{i\\pi/4} = \\frac{1}{\\sqrt{2}} + \\frac{i}{\\sqrt{2}} \\\\\n",
    "e^{i\\pi/2} = i \\\\\n",
    "e^{i\\pi} = -1 \\\\\n",
    "e^{2i\\pi} = 1$$\n",
    "\n",
    "> One interesting consequence of this is Euler's Identity:\n",
    ">\n",
    "> $$e^{i\\pi} + 1 = 0$$\n",
    ">\n",
    "> While this doesn't have any notable uses, it is still an interesting identity to consider, as it combines 5 fundamental constants of algebra into one expression.\n",
    "\n",
    "We can also calculate complex powers of $e$ as follows:\n",
    "\n",
    "$$e^{a + bi} = e^a \\cdot e^{bi}$$\n",
    "\n",
    "Finally, using logarithms to express the base of the exponent as $r = e^{\\ln r}$, we can use this to find complex powers of any positive real number."
   ]
  },
  {
   "cell_type": "markdown",
   "metadata": {},
   "source": [
    "### <span style=\"color:blue\">Exercise 7</span>: Complex exponents.\n",
    "\n",
    "**Input:** A complex number $x = a + bi$, represented as a tuple `(a, b)`.\n",
    "\n",
    "**Goal:** Return the complex number $e^x = e^{a + bi} = g + hi$, represented as a tuple `(g, h)`.\n",
    "\n",
    "> Euler's constant $e$ is available in the [math library](https://docs.python.org/3/library/math.html#math.e),\n",
    "> as are [Python's trigonometric functions](https://docs.python.org/3/library/math.html#trigonometric-functions)."
   ]
  },
  {
   "cell_type": "code",
   "execution_count": null,
   "metadata": {},
   "outputs": [],
   "source": [
    "@exercise\n",
    "def complex_exp(x : Complex) -> Complex:\n",
    "    return ..."
   ]
  },
  {
   "cell_type": "markdown",
   "metadata": {},
   "source": [
    "*Can't come up with a solution? See the explained solution in the [Complex Arithmetic Workbook](./Workbook_ComplexArithmetic.ipynb#Exercise-7:-Complex-exponents.).*"
   ]
  },
  {
   "cell_type": "markdown",
   "metadata": {},
   "source": [
    "### <span style=\"color:blue\">Exercise 8</span>*: Complex powers of real numbers.\n",
    "\n",
    "**Inputs:**\n",
    "\n",
    "1. A non-negative real number $r$.\n",
    "2. A complex number $x = a + bi$, represented as a tuple `(a, b)`.\n",
    "\n",
    "**Goal:** Return the complex number $r^x = r^{a + bi} = g + hi$, represented as a tuple `(g, h)`.\n",
    "\n",
    "> Remember, you can use functions you have defined previously\n",
    "\n",
    "<br/>\n",
    "<details>\n",
    "    <summary><strong>Need a hint? Click here</strong></summary>\n",
    "    You can use the fact that $r = e^{\\ln r}$ to convert exponent bases. Remember though, $\\ln r$ is only defined for positive numbers - make sure to check for $r = 0$ separately!\n",
    "</details>"
   ]
  },
  {
   "cell_type": "code",
   "execution_count": null,
   "metadata": {},
   "outputs": [],
   "source": [
    "@exercise\n",
    "def complex_exp_real(r : float, x : Complex) -> Complex:\n",
    "    return ..."
   ]
  },
  {
   "cell_type": "markdown",
   "metadata": {},
   "source": [
    "<i>Can't come up with a solution? See the explained solution in the [Complex Arithmetic Workbook](./Workbook_ComplexArithmetic.ipynb#Exercise-8*:-Complex-powers-of-real-numbers.).</i>"
   ]
  },
  {
   "cell_type": "markdown",
   "metadata": {},
   "source": [
    "## Polar coordinates\n",
    "\n",
    "Consider the expression $e^{i\\theta} = \\cos\\theta + i\\sin\\theta$. Notice that if we map this number onto the complex plane, it will land on a **unit circle** around $0 + 0i$. This means that its modulus is always $1$. You can also verify this algebraically: $\\cos^2\\theta + \\sin^2\\theta = 1$.\n",
    "\n",
    "Using this fact we can represent complex numbers using **polar coordinates**. In a polar coordinate system, a point is represented by two numbers: its direction from origin, represented by an angle from the $x$ axis, and how far away it is in that direction.\n",
    "\n",
    "Another way to think about this is that we're taking a point that is $1$ unit away (which is on the unit circle) in the specified direction, and multiplying it by the desired distance. And to get the point on the unit circle, we can use $e^{i\\theta}$.\n",
    "\n",
    "A complex number of the format $r \\cdot e^{i\\theta}$ will be represented by a point which is $r$ units away from the origin, in the direction specified by the angle $\\theta$.\n",
    "\n",
    "![Polar Coordinates Visual Explanation](img/complex_polar.png)\n",
    "\n",
    "Sometimes $\\theta$ will be referred to as the number's **phase**."
   ]
  },
  {
   "cell_type": "markdown",
   "metadata": {},
   "source": [
    "### <span style=\"color:blue\">Exercise 9</span>: Cartesian to polar conversion.\n",
    "\n",
    "**Input:** A complex number $x = a + bi$, represented as a tuple `(a, b)`.\n",
    "\n",
    "**Goal:** Return the polar representation of $x = re^{i\\theta}$, i.e., the distance from origin $r$ and phase $\\theta$ as a tuple `(r, θ)`.\n",
    "\n",
    "* $r$ should be non-negative: $r \\geq 0$\n",
    "* $\\theta$ should be between $-\\pi$ and $\\pi$: $-\\pi < \\theta \\leq \\pi$\n",
    "\n",
    "<br/>\n",
    "<details>\n",
    "    <summary><strong>Need a hint? Click here</strong></summary>\n",
    "    <a href=https://docs.python.org/3/library/math.html#math.atan2>Python has a separate function</a> for calculating $\\theta$ for this purpose.<br>\n",
    "    A video explanation can be found <a href=\"https://www.youtube.com/watch?v=8RasCV_Lggg\">here</a>.\n",
    "</details>"
   ]
  },
  {
   "cell_type": "code",
   "execution_count": null,
   "metadata": {},
   "outputs": [],
   "source": [
    "@exercise\n",
    "def polar_convert(x : Complex) -> Polar:\n",
    "    r = ...\n",
    "    theta = ...\n",
    "    \n",
    "    return (r, theta)"
   ]
  },
  {
   "cell_type": "markdown",
   "metadata": {},
   "source": [
    "*Can't come up with a solution? See the explained solution in the [Complex Arithmetic Workbook](./Workbook_ComplexArithmetic.ipynb#Exercise-9:-Cartesian-to-polar-conversion.).*"
   ]
  },
  {
   "cell_type": "markdown",
   "metadata": {},
   "source": [
    "### <span style=\"color:blue\">Exercise 10</span>: Polar to Cartesian conversion.\n",
    "\n",
    "**Input:** A complex number $x = re^{i\\theta}$, represented in polar form as a tuple `(r, θ)`.\n",
    "\n",
    "**Goal:** Return the Cartesian representation of $x = a + bi$, represented as a tuple `(a, b)`."
   ]
  },
  {
   "cell_type": "code",
   "execution_count": null,
   "metadata": {},
   "outputs": [],
   "source": [
    "@exercise\n",
    "def cartesian_convert(x : Polar) -> Complex:\n",
    "    return ..."
   ]
  },
  {
   "cell_type": "markdown",
   "metadata": {},
   "source": [
    "*Can't come up with a solution? See the explained solution in the [Complex Arithmetic Workbook](./Workbook_ComplexArithmetic.ipynb#Exercise-10:-Polar-to-Cartesian-conversion.).*"
   ]
  },
  {
   "cell_type": "markdown",
   "metadata": {},
   "source": [
    "### <span style=\"color:blue\">Exercise 11</span>: Polar multiplication.\n",
    "\n",
    "**Inputs:**\n",
    "\n",
    "1. A complex number $x = r_{1}e^{i\\theta_1}$ represented in polar form as a tuple `(r1, θ1)`.\n",
    "2. A complex number $y = r_{2}e^{i\\theta_2}$ represented in polar form as a tuple `(r2, θ2)`.\n",
    "\n",
    "**Goal:** Return the result of the multiplication $x \\cdot y = z = r_3e^{i\\theta_3}$, represented in polar form as a tuple `(r3, θ3)`.\n",
    "\n",
    "* $r_3$ should be non-negative: $r_3 \\geq 0$\n",
    "* $\\theta_3$ should be between $-\\pi$ and $\\pi$: $-\\pi < \\theta_3 \\leq \\pi$\n",
    "* Try to avoid converting the numbers into Cartesian form.\n",
    "\n",
    "<br/>\n",
    "<details>\n",
    "    <summary><strong>Need a hint? Click here</strong></summary>\n",
    "    Remember, a number written in polar form already involves multiplication. What is $r_1e^{i\\theta_1} \\cdot r_2e^{i\\theta_2}$?\n",
    "</details><details>\n",
    "    <summary><strong>Need another hint? Click here</strong></summary>\n",
    "    Is your θ not coming out correctly? Remember you might have to check your boundaries and adjust it to be in the range requested.\n",
    "</details>"
   ]
  },
  {
   "cell_type": "code",
   "execution_count": null,
   "metadata": {},
   "outputs": [],
   "source": [
    "@exercise\n",
    "def polar_mult(x : Polar, y : Polar) -> Polar:\n",
    "    return ..."
   ]
  },
  {
   "cell_type": "markdown",
   "metadata": {},
   "source": [
    "*Can't come up with a solution? See the explained solution in the [Complex Arithmetic Workbook](./Workbook_ComplexArithmetic.ipynb#Exercise-11:-Polar-multiplication.).*"
   ]
  },
  {
   "cell_type": "markdown",
   "metadata": {},
   "source": [
    "### <span style=\"color:blue\">Exercise 12</span>**: Arbitrary complex exponents.\n",
    "\n",
    "You now know enough about complex numbers to figure out how to raise a complex number to a complex power.\n",
    "\n",
    "**Inputs:**\n",
    "\n",
    "1. A complex number $x = a + bi$, represented as a tuple `(a, b)`.\n",
    "2. A complex number $y = c + di$, represented as a tuple `(c, d)`.\n",
    "\n",
    "**Goal:** Return the result of raising $x$ to the power of $y$: $x^y = (a + bi)^{c + di} = z = g + hi$, represented as a tuple `(g, h)`.\n",
    "\n",
    "<br/>\n",
    "<details>\n",
    "    <summary><strong>Need a hint? Click here</strong></summary>\n",
    "    Convert $x$ to polar form, and raise the result to the power of $y$.\n",
    "</details>"
   ]
  },
  {
   "cell_type": "code",
   "execution_count": null,
   "metadata": {},
   "outputs": [],
   "source": [
    "@exercise\n",
    "def complex_exp_arbitrary(x : Complex, y : Complex) -> Complex:\n",
    "    return ..."
   ]
  },
  {
   "cell_type": "markdown",
   "metadata": {},
   "source": [
    "*Can't come up with a solution? See the explained solution in the [Complex Arithmetic Workbook](./Workbook_ComplexArithmetic.ipynb#Exercise-12**:-Arbitrary-complex-exponents.).*"
   ]
  },
  {
   "cell_type": "markdown",
   "metadata": {},
   "source": [
    "## Conclusion\n",
    "\n",
    "Congratulations! You should now know enough complex arithmetic to get started with quantum computing. When you are ready, you can move on to the next tutorial in this series, covering [linear algebra](../LinearAlgebra/LinearAlgebra.ipynb)."
   ]
  }
 ],
 "metadata": {
  "kernelspec": {
   "display_name": "Python 3",
   "language": "python",
   "name": "python3"
  },
  "language_info": {
   "codemirror_mode": {
    "name": "ipython",
    "version": 3
   },
   "file_extension": ".py",
   "mimetype": "text/x-python",
   "name": "python",
   "nbconvert_exporter": "python",
   "pygments_lexer": "ipython3",
   "version": "3.7.3"
  }
 },
 "nbformat": 4,
 "nbformat_minor": 2
}
