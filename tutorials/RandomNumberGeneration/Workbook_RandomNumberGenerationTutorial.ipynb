{
 "cells": [
  {
   "cell_type": "markdown",
   "id": "de2a01f0",
   "metadata": {},
   "source": [
    "# Quantum Random Number Generation Workbook\n",
    "\n",
    "**What is this workbook?**\n",
    "A workbook is a collection of problems, accompanied by solutions to them. \n",
    "The explanations focus on the logical steps required to solve a problem; they illustrate the concepts that need to be applied to come up with a solution to the problem, explaining the mathematical steps required. \n",
    "\n",
    "Note that a workbook should not be the primary source of knowledge on the subject matter; it assumes that you've already read a tutorial or a textbook and that you are now seeking to improve your problem-solving skills. You should attempt solving the tasks of the respective kata first, and turn to the workbook only if stuck. While a textbook emphasizes knowledge acquisition, a workbook emphasizes skill acquisition.\n",
    "\n",
    "This workbook describes the solutions to the problems offered in the [Random Number Generation Tutorial](./RandomNumberGenerationTutorial.ipynb). \n",
    "Since the tasks are offered as programming problems, the explanations also cover some elements of Q# that might be non-obvious for a first-time user.\n",
    "\n",
    "**What you should know for this workbook**\n",
    "\n",
    "You should be familiar with the following concepts before tackling the Quantum Random Number Generation Tutorial (and this workbook):\n",
    "\n",
    "1. The concept of qubit and measurement\n",
    "2. Single qubit gates"
   ]
  },
  {
   "cell_type": "markdown",
   "id": "3a818402",
   "metadata": {},
   "source": [
    "## <span style=\"color:blue\">Exercise 1</span>: Generate a single random bit\n",
    "\n",
    "**Input:** None.\n",
    "\n",
    "**Goal:** Generate a $0$ or $1$ with equal probability.\n",
    "\n",
    "<details>\n",
    "    <summary><strong>Need a hint? Click here</strong></summary>\n",
    "    Use the allocated qubit, apply a quantum gate to it, measure it and use the result to return a $0$ or $1$.\n",
    "</details>\n",
    "\n",
    "**Stretch goal:** Can you find a different way to implement this operation?\n",
    "\n",
    "<details>\n",
    "    <summary><strong>Need a hint? Click here</strong></summary>\n",
    "    What are the different quantum states that produce $0$ and $1$ measurement results with the same probability? How would measuring the qubit in a different basis change the result? \n",
    "</details>\n"
   ]
  },
  {
   "cell_type": "markdown",
   "id": "6368dcd7",
   "metadata": {},
   "source": [
    "### Solution\n",
    "\n",
    "The state of single qubit can be represented two-dimensional column vector $\\begin{bmatrix} \\alpha\\\\ \\beta \\end{bmatrix}$. Where $\\alpha$ and $\\beta$ are complex numbers. When we measure the qubit, we get either 0 with probability $|\\alpha|^2$ (or) 1 with probability $|\\beta|^2$. Essentially we can control probablity of measurement outcome by setting right amplitudes of basis states $\\alpha$ and $\\beta$. \n",
    "\n",
    "When we initilize qubit, amplitudes $\\alpha$ and $\\beta$ are 1 and 0 respectively. Now our goal is set equal amplitudes for $\\alpha$ and $\\beta$ for absolute randomness. We can achieve that by simply applying Hadamard gate on the base state.\n",
    "\n",
    "$$\n",
    "H|0\\rangle=\n",
    "\\frac{1}{\\sqrt{2}}\\begin{bmatrix}\n",
    "   1 & 1 \\\\\n",
    "   1 & -1\n",
    "  \\end{bmatrix}\n",
    " \\begin{bmatrix}\n",
    "   1\\\\\n",
    "   0\\\\\n",
    "  \\end{bmatrix}\n",
    "=\n",
    "\\frac{1}{\\sqrt{2}}\\begin{bmatrix}\n",
    "   1 \\cdot 1 + 1 \\cdot 0 \\\\\n",
    "   1 \\cdot 1 + (-1) \\cdot 0\n",
    "  \\end{bmatrix}\n",
    "=\n",
    "  \\frac{1}{\\sqrt{2}}\\begin{bmatrix}\n",
    "   1\\\\\n",
    "   1\n",
    "  \\end{bmatrix}\n",
    "$$\n",
    "\n",
    "Now, both 0 and 1 outcomes are with equal probablity of $|\\frac{1}{\\sqrt{2}}|^2 = \\frac{1}{2}$.\n",
    "\n",
    "> Note: Since probablity is mod squared of amplitude, we will get same randomness by applying Hadamard gate on $|1\\rangle$. Try it out as optional exercise."
   ]
  },
  {
   "cell_type": "code",
   "execution_count": 2,
   "id": "f41d8e8c",
   "metadata": {},
   "outputs": [
    {
     "name": "stdout",
     "output_type": "stream",
     "text": [
      "Testing one random bit generation...\n",
      "Test passed\n"
     ]
    },
    {
     "data": {
      "application/x-qsharp-data": "\"Success!\"",
      "text/plain": [
       "Success!"
      ]
     },
     "execution_count": 2,
     "metadata": {},
     "output_type": "execute_result"
    }
   ],
   "source": [
    "%kata T1_RandomBit\n",
    "\n",
    "operation RandomBit () : Int {\n",
    "    // Allocate single qubit\n",
    "    use q = Qubit();\n",
    "    \n",
    "    // Set qubit in superposition state\n",
    "    H(q);\n",
    "    \n",
    "    // Measuring state of qubit and return integer value of result\n",
    "    return (M(q) == Zero) ? 0 | 1;\n",
    "}"
   ]
  },
  {
   "cell_type": "markdown",
   "id": "32591a36",
   "metadata": {},
   "source": [
    "## <span style=\"color:blue\">Exercise 2</span>: Generate a random two-bit number\n",
    "\n",
    "Now that you can generate a single random bit, you can use that logic to create random multi-bit numbers. Let's try first to make a two-bit number by combining two randomly generated bits.\n",
    "\n",
    "**Input:** None.\n",
    "\n",
    "**Goal:** Generate a random number in the range $[0, 3]$ with an equal probability of getting each of the four numbers.\n",
    "\n",
    "**Stretch goal:** Can you do this without allocating qubits in this operation?\n",
    "\n",
    "<details>\n",
    "    <summary><strong>Need a hint? Click here</strong></summary>\n",
    "    Remember that you can use the previously defined operations.\n",
    "</details>"
   ]
  },
  {
   "cell_type": "markdown",
   "id": "e9d4f69c",
   "metadata": {},
   "source": [
    "### Solution\n",
    "\n",
    "Reusing `RandomBit` operation from [Exercise 1](#Exercise-1:-Generate-a-single-random-bit), calling twice to generate random two-bit number."
   ]
  },
  {
   "cell_type": "code",
   "execution_count": 7,
   "id": "46368ef1",
   "metadata": {},
   "outputs": [
    {
     "name": "stdout",
     "output_type": "stream",
     "text": [
      "Expecting only one Q# operation in code. Using the first one\n",
      "Testing two random bits generation...\n",
      "Unexpected number generated. Expected values from 0 to 3, generated -1\n",
      "Unexpected number generated. Expected values from 0 to 3, generated -1\n",
      "Unexpected number generated. Expected values from 0 to 3, generated -1\n"
     ]
    },
    {
     "name": "stderr",
     "output_type": "stream",
     "text": [
      "Failed to generate sufficiently random integer\n",
      "Try again!\n"
     ]
    }
   ],
   "source": [
    "%kata T2_RandomTwoBits\n",
    "\n",
    "operation RandomBit () : Int {\n",
    "    // Allocate single qubit\n",
    "    use q = Qubit();\n",
    "    \n",
    "    // Set qubit in superposition state\n",
    "    H(q);\n",
    "    \n",
    "    // Measuring state of qubit and return integer value of result\n",
    "    return (M(q) == Zero) ? 0 | 1;\n",
    "}\n",
    "\n",
    "operation RandomTwoBits () : Int {\n",
    "    return 2 * RandomBit() + RandomBit();\n",
    "}"
   ]
  },
  {
   "cell_type": "markdown",
   "id": "69315416",
   "metadata": {},
   "source": [
    "## <span style=\"color:blue\">Exercise 3</span>: Generate a number of arbitrary size\n",
    "\n",
    "Let's take it a step further and generate an $N$-bit number. \n",
    "\n",
    "> Remember that you can use previously defined operations in your solution.\n",
    "\n",
    "**Input:** An integer $N$ ($1 \\le N \\le 10$).\n",
    "\n",
    "**Goal:** Generate a random number in the range $[0, 2^N - 1]$ with an equal probability of getting each of the numbers in this range.\n",
    "\n",
    "> Useful Q# documentation: \n",
    "> * [`for` loops](https://docs.microsoft.com/azure/quantum/user-guide/language/statements/iterations), \n",
    "> * [mutable variables](https://docs.microsoft.com/azure/quantum/user-guide/language/typesystem/immutability), \n",
    "> * [exponents](https://docs.microsoft.com/qsharp/api/qsharp/microsoft.quantum.math.powi)."
   ]
  },
  {
   "cell_type": "markdown",
   "id": "0b6ca4ea",
   "metadata": {},
   "source": [
    "### Solution\n",
    "\n"
   ]
  },
  {
   "cell_type": "code",
   "execution_count": 4,
   "id": "2d7c6758",
   "metadata": {},
   "outputs": [
    {
     "name": "stdout",
     "output_type": "stream",
     "text": [
      "Expecting only one Q# operation in code. Using the first one\n",
      "Testing N = 1...\n",
      "Unexpected number generated. Expected values from 0 to 1, generated -1\n",
      "Unexpected number generated. Expected values from 0 to 1, generated -1\n",
      "Unexpected number generated. Expected values from 0 to 1, generated -1\n"
     ]
    },
    {
     "name": "stderr",
     "output_type": "stream",
     "text": [
      "Failed to generate sufficiently random integer\n",
      "Try again!\n"
     ]
    }
   ],
   "source": [
    "%kata T3_RandomNBits \n",
    "\n",
    "open Microsoft.Quantum.Math;\n",
    "\n",
    "operation RandomBit () : Int {\n",
    "    // Allocate single qubit\n",
    "    use q = Qubit();\n",
    "    \n",
    "    // Set qubit in superposition state\n",
    "    H(q);\n",
    "    \n",
    "    // Measuring state of qubit and return integer value of result\n",
    "    return (M(q) == Zero) ? 0 | 1;\n",
    "}\n",
    "\n",
    "operation RandomNBits (N : Int) : Int {\n",
    "    // Set max as 2 ^ N - 1\n",
    "    let max = PowI(2, N) - 1;\n",
    "\n",
    "    // Declare result variable with mutable binding\n",
    "    mutable result = 0;\n",
    "\n",
    "    repeat {\n",
    "        set result = 0;\n",
    "\n",
    "        for index in 1 .. N {\n",
    "            set result = (result * 2) + RandomBit();\n",
    "        }\n",
    "    } until (result <= max);\n",
    "\n",
    "    return result;\n",
    "}"
   ]
  },
  {
   "cell_type": "markdown",
   "id": "e0363ec2",
   "metadata": {},
   "source": [
    "## <span style=\"color:blue\">Exercise 4</span>: Generate a weighted bit!\n",
    "\n",
    "In each of the above exercises, all generated numbers were equally likely. Now let's create an operation that will return a random bit with different probabilities of outcomes. \n",
    "\n",
    "> Remember that by setting amplitudes of basis states $\\alpha$ and $\\beta$, we can control the probability of getting measurement outcomes $0$ and $1$ when the qubit is measured.\n",
    "\n",
    "**Input:** \n",
    "A floating-point number $x$, $0 \\le x \\le 1$. \n",
    "\n",
    "**Goal:** Generate $0$ or $1$ with probability of $0$ equal to $x$ and probability of $1$ equal to $1 - x$.\n",
    "\n",
    "> Useful Q# documentation: \n",
    "> * [`Math` namespace](https://docs.microsoft.com/qsharp/api/qsharp/microsoft.quantum.math)\n",
    "> * [`ArcCos` function](https://docs.microsoft.com/qsharp/api/qsharp/microsoft.quantum.math.arccos)\n",
    "> * [`Sqrt` function](https://docs.microsoft.com/qsharp/api/qsharp/microsoft.quantum.math.sqrt)\n"
   ]
  },
  {
   "cell_type": "markdown",
   "id": "8656006c",
   "metadata": {},
   "source": [
    "### Solution\n",
    "\n"
   ]
  },
  {
   "cell_type": "code",
   "execution_count": 4,
   "id": "fcb1799c",
   "metadata": {},
   "outputs": [
    {
     "name": "stdout",
     "output_type": "stream",
     "text": [
      "Testing generating zero with 0% probability...\n",
      "Test passed for generating zero with 0% probability\n",
      "Testing generating zero with 25% probability...\n",
      "Test passed for generating zero with 25% probability\n",
      "Testing generating zero with 50% probability...\n",
      "Test passed for generating zero with 50% probability\n",
      "Testing generating zero with 75% probability...\n",
      "Test passed for generating zero with 75% probability\n",
      "Testing generating zero with 100% probability...\n",
      "Test passed for generating zero with 100% probability\n"
     ]
    },
    {
     "data": {
      "application/x-qsharp-data": "\"Success!\"",
      "text/plain": [
       "Success!"
      ]
     },
     "execution_count": 4,
     "metadata": {},
     "output_type": "execute_result"
    }
   ],
   "source": [
    "%kata T4_WeightedRandomBit\n",
    "\n",
    "open Microsoft.Quantum.Math;\n",
    "\n",
    "operation WeightedRandomBit (x : Double) : Int {\n",
    "    // Set theta as \n",
    "    let theta = 2.0 *  ArcCos(Sqrt(x));\n",
    "\n",
    "    // Allocate single qubit\n",
    "    use q = Qubit();\n",
    "\n",
    "    // Set qubit in superposition state which aligns with given probabilities\n",
    "    Ry(theta, q);\n",
    "\n",
    "    // Measuring state of qubit and return integer value of result\n",
    "    return M(q) == Zero ? 0 | 1;\n",
    "}"
   ]
  },
  {
   "cell_type": "markdown",
   "id": "82e05283",
   "metadata": {},
   "source": [
    "## <span style=\"color:blue\">Exercise 5</span>: Generate a random number between min and max\n",
    "\n",
    "In exercise 3, we generated numbers in the range $[0, 2^N-1]$ $(1 \\leq N \\leq 10)$. Now let's create an operation that will return a random number in the range $[min, max]$. \n",
    "\n",
    "**Input:** \n",
    "Two integers $min$ and $max$ ($0 \\leq min \\leq max \\leq 2^{10}-1$).\n",
    "\n",
    "**Goal:** Generate a random number in the range $[min, max]$ with an equal probability of getting each of the numbers in this range.\n",
    "\n",
    "> Useful Q# documentation: \n",
    "> * [`BitSizeI` function](https://docs.microsoft.com/en-us/qsharp/api/qsharp/microsoft.quantum.math.bitsizei)"
   ]
  },
  {
   "cell_type": "markdown",
   "id": "663bc636",
   "metadata": {},
   "source": [
    "### Solution\n",
    "\n"
   ]
  },
  {
   "cell_type": "code",
   "execution_count": 5,
   "id": "9dba8758",
   "metadata": {},
   "outputs": [
    {
     "name": "stdout",
     "output_type": "stream",
     "text": [
      "Expecting only one Q# operation in code. Using the first one\n",
      "Testing for min = 1 and max = 3...\n",
      "Unexpected number generated. Expected values from 1 to 3, generated -1\n",
      "Unexpected number generated. Expected values from 1 to 3, generated -1\n",
      "Unexpected number generated. Expected values from 1 to 3, generated -1\n"
     ]
    },
    {
     "name": "stderr",
     "output_type": "stream",
     "text": [
      "Failed to generate sufficiently random integer\n",
      "Try again!\n"
     ]
    }
   ],
   "source": [
    "%kata T5_RandomNumberInRange\n",
    "\n",
    "open Microsoft.Quantum.Math;\n",
    "\n",
    "operation RandomBit () : Int {\n",
    "    // Allocate single qubit\n",
    "    use q = Qubit();\n",
    "    \n",
    "    // Set qubit in superposition state\n",
    "    H(q);\n",
    "    \n",
    "    // Measuring state of qubit and return integer value of result\n",
    "    return (M(q) == Zero) ? 0 | 1;\n",
    "}\n",
    "\n",
    "operation RandomNumberInRange (min : Int, max : Int) : Int {\n",
    "    // Set N as bitsize of max\n",
    "    let N = BitSizeI(max);\n",
    "\n",
    "    // Declare result variable with mutable binding\n",
    "    mutable result = 0;\n",
    "    \n",
    "    repeat {\n",
    "        set result = 0;\n",
    "\n",
    "        for index in 1 .. N {\n",
    "            set result = (result * 2) + RandomBit();\n",
    "        }\n",
    "    } until (result >= min and result <= max);\n",
    "\n",
    "    return result;\n",
    "}"
   ]
  }
 ],
 "metadata": {
  "kernelspec": {
   "display_name": "Q#",
   "language": "qsharp",
   "name": "python397jvsc74a57bd014c3e56b66ef9510473afa497f82c7327768413245b0a072dd00e5e2b81ba611"
  },
  "language_info": {
   "file_extension": ".qs",
   "mimetype": "text/x-qsharp",
   "name": "qsharp",
   "version": "0.14"
  }
 },
 "nbformat": 4,
 "nbformat_minor": 5
}
