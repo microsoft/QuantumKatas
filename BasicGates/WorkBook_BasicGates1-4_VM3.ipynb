{
 "cells": [
  {
   "cell_type": "markdown",
   "id": "imported-rates",
   "metadata": {},
   "source": [
    "# Basic Gates Kata Workbook"
   ]
  },
  {
   "cell_type": "markdown",
   "id": "multiple-departure",
   "metadata": {},
   "source": [
    "###  What is this workbook?\n",
    "A workbook is a collection of problems, accompanied by solutions to them. The explanations focus on the logical steps required to solve a problem; that is they illustrate the concepts that need to be applied to come up with a solution to the problem whilst explaining the mathematical steps required.\n",
    "\n",
    "Note that a workbook should not be the primary source of knowledge on the subject matter; it assumes that you've already read a tutorial or a textbook and that you are now seeking to improve your problem-solving skills. You should attempt solving the tasks of the respective kata first, and turn to the workbook only if stuck or for reinforcement. While a textbook emphasizes knowledge acquisition, a workbook emphasizes skill acquisition.\n",
    "\n",
    "This workbook describes the solutions to the problems offered in the [Basic Gates Kata](./BasicGates.ipynb). \n",
    "Since the tasks are offered as programming problems, the explanations also cover some elements of Q# that might be non-obvious for a novitiate."
   ]
  },
  {
   "cell_type": "markdown",
   "id": "funky-warrior",
   "metadata": {},
   "source": [
    "### What you should know for this workbook"
   ]
  },
  {
   "cell_type": "markdown",
   "id": "graduate-tuition",
   "metadata": {},
   "source": [
    "You should be familiar with the following concepts and associated techniques **prior to** beginning work on the Basic Gates Quantum Kata."
   ]
  },
  {
   "cell_type": "markdown",
   "id": "guided-india",
   "metadata": {},
   "source": [
    "1. [The concept and properties of a qubit.](../tutorials/Qubit/Qubit.ipynb)\n",
    "2. [Single-qubit gates.](../tutorials/SingleQubitGates/SingleQubitGates.ipynb)\n",
    "\n",
    "3. To understand the action of each of the gates from its matrix representation, a little familiarity with linear algebra is necessary, specifically multiplying column vectors by matrices.  You can refresh this knowledge [here](../tutorials/LinearAlgebra/LinearAlgebra.ipynb)."
   ]
  },
  {
   "cell_type": "markdown",
   "id": "minor-frequency",
   "metadata": {},
   "source": [
    "As noted on the Basic Gates Kata, all operations in this section have `is Adj+Ctl` in their signature.  \n",
    "This means that they should be implemented in a way that allows Q# to compute their adjoint and controlled variants automatically.  \n",
    "Since each task is solved using only intrinsic gates, you should not need to make any special effort over this.  "
   ]
  },
  {
   "cell_type": "markdown",
   "id": "a89f99b4-6880-41aa-bda7-245b81cdcdf3",
   "metadata": {},
   "source": [
    "Although the detailed solutions are presented here, you may wish to peek and then use linear algebra to check the steps of those solutions."
   ]
  },
  {
   "cell_type": "markdown",
   "id": "identified-smell",
   "metadata": {},
   "source": [
    "(You can also consult the complete Quantum Kata learning path for appropriate Katas as hosted on Github [here](https://github.com/microsoft/QuantumKatas#readme))"
   ]
  },
  {
   "cell_type": "markdown",
   "id": "induced-sugar",
   "metadata": {},
   "source": [
    "***"
   ]
  },
  {
   "cell_type": "markdown",
   "id": "cognitive-pollution",
   "metadata": {},
   "source": [
    "# Part 1. Single-Qubit Gates\n"
   ]
  },
  {
   "cell_type": "markdown",
   "id": "foreign-narrow",
   "metadata": {},
   "source": [
    "## Task 1.1. State flip: |0$\\rangle$ to |1$\\rangle$ , and vice versa."
   ]
  },
  {
   "cell_type": "markdown",
   "id": "connected-blogger",
   "metadata": {},
   "source": [
    "**Input:** A qubit in state $|\\psi\\rangle = \\alpha |0\\rangle + \\beta |1\\rangle$."
   ]
  },
  {
   "cell_type": "markdown",
   "id": "contrary-exclusive",
   "metadata": {},
   "source": [
    "**Goal:** Change the state of the qubit to $\\alpha |1\\rangle + \\beta |0\\rangle$."
   ]
  },
  {
   "cell_type": "markdown",
   "id": "occasional-fellowship",
   "metadata": {},
   "source": [
    "## Solution"
   ]
  },
  {
   "cell_type": "markdown",
   "id": "infinite-request",
   "metadata": {},
   "source": [
    "Irrespective of the size of the amplitudes $\\alpha$ and $\\beta$ of any 1-qubit (normalised, of course,) superposition, the Pauli-X Gate will change the state of $|0\\rangle$ to  $|1\\rangle$ and, vice versa, will change the state of $|1\\rangle$ to  $|0\\rangle$ which results in a distinguishably different  superposition (unless the original superposition happens to be an equal superposition).  \n",
    "In the example given in the Kata, notice how the amplitudes of the two basis states **are** normalised."
   ]
  },
  {
   "cell_type": "markdown",
   "id": "promotional-oxford",
   "metadata": {},
   "source": [
    "**Note:** that although the Kata gives you the answer here, it is well worth recalling that the Pauli-X gate is a fundamental one which is used in combination with many other gates to achieve a wide variety of different changes of qubit(s) state(s). Recall that the other two Pauli gates are the Pauli-Y and the Pauli-Z gates. All these gates are self -adjoint (i.e.applying them twice returns the qubit to its original state)."
   ]
  },
  {
   "cell_type": "code",
   "execution_count": 1,
   "id": "sustained-claim",
   "metadata": {},
   "outputs": [
    {
     "name": "stderr",
     "output_type": "stream",
     "text": [
      "Invalid test name: T101_StateFlip\n"
     ]
    }
   ],
   "source": [
    "%kata T101_StateFlip \n",
    "\n",
    "operation StateFlip (q : Qubit) : Unit is Adj+Ctl {\n",
    "    // The Pauli X gate will change the |0⟩ state to the |1⟩ state and vice versa.\n",
    "    // Type X(q);\n",
    "    // Then run the cell using Ctrl+Enter (⌘+Enter on macOS).\n",
    "    X(q);\n",
    "    // ...\n",
    "}"
   ]
  },
  {
   "cell_type": "markdown",
   "id": "disturbed-wilson",
   "metadata": {},
   "source": [
    "[Return to Task 1 of the Basic Gates Quantum Kata Notebook  (opens in new tab](./BasicGates.ipynb)"
   ]
  },
  {
   "cell_type": "markdown",
   "id": "satisfied-volunteer",
   "metadata": {},
   "source": [
    "***"
   ]
  },
  {
   "cell_type": "markdown",
   "id": "loved-korean",
   "metadata": {},
   "source": [
    "## Task 1.2. Basis change: |0⟩ to |+⟩ and |1⟩ to |-⟩ (and vice versa)"
   ]
  },
  {
   "cell_type": "markdown",
   "id": "destroyed-scoop",
   "metadata": {},
   "source": [
    "**Input:** A qubit in state |ψ⟩ = α |0⟩ + β |1⟩.\n",
    "\n",
    "**Goal:** Change the state of the qubit as follows:\n",
    "If the qubit is in state |0⟩, change its state to |+⟩ = (|0⟩ + |1⟩) / sqrt(2).\n",
    "If the qubit is in state |1⟩, change its state to |-⟩ = (|0⟩ - |1⟩) / sqrt(2).\n",
    "If the qubit is in superposition, change its state according to the effect on basis vectors, as specified above."
   ]
  },
  {
   "cell_type": "markdown",
   "id": "virtual-recall",
   "metadata": {},
   "source": [
    "## Solution"
   ]
  },
  {
   "cell_type": "markdown",
   "id": "twenty-proportion",
   "metadata": {},
   "source": [
    "This is fundamentally book work, and a well-known property of the extremely important Hadamard (H) gate.  \n",
    "It is easy to see how it works by examining its matrix representation.   \n",
    "See [H](https://docs.microsoft.com/en-us/qsharp/api/qsharp/microsoft.quantum.intrinsic.h)  \n",
    "The H gate performs the exact state change given in the question."
   ]
  },
  {
   "cell_type": "markdown",
   "id": "turkish-starter",
   "metadata": {},
   "source": [
    "The input superposition is given as $|\\psi\\rangle = 0.6|0\\rangle + 0.8|1\\rangle$"
   ]
  },
  {
   "cell_type": "markdown",
   "id": "saving-biography",
   "metadata": {},
   "source": [
    "Since 1/(sqrt(2) =0.7071 (to 4 decimal places) we have, for the goal, that:\n",
    "\n",
    "If the qubit is in state |0⟩, change its state to |+⟩ = 0.7071(|0⟩ + |1⟩)\n",
    "\n",
    "If the qubit is in state |1⟩, change its state to |-⟩ = 0.7071(|0⟩ - |1⟩)"
   ]
  },
  {
   "cell_type": "markdown",
   "id": "accessible-device",
   "metadata": {
    "tags": []
   },
   "source": [
    "We know that H\n",
    "$$\n",
    "=\n",
    "0.7071\\begin{bmatrix}\n",
    "   1 & 1 \\\\\n",
    "   1 & -1\n",
    "  \\end{bmatrix}\n",
    "$$"
   ]
  },
  {
   "cell_type": "markdown",
   "id": "inner-basketball",
   "metadata": {
    "tags": []
   },
   "source": [
    "And we have\n",
    "$$\n",
    "H(|ψ⟩) = \n",
    " 0.70701\\begin{bmatrix}\n",
    "   1 & 1 \\\\\n",
    "   1 & -1\n",
    "  \\end{bmatrix}\n",
    " \\begin{bmatrix}\n",
    "   \\alpha\\\\\n",
    "   \\beta\\\\\n",
    "  \\end{bmatrix}\n",
    " $$\n"
   ]
  },
  {
   "cell_type": "markdown",
   "id": "musical-accountability",
   "metadata": {},
   "source": [
    "$$\n",
    "=\n",
    "0.7071\\begin{bmatrix}\n",
    "   \\alpha + \\beta\\\\\n",
    "   \\alpha - \\beta\\\\\n",
    "  \\end{bmatrix}\n",
    " $$"
   ]
  },
  {
   "cell_type": "markdown",
   "id": "completed-puppy",
   "metadata": {},
   "source": [
    "$$\n",
    "=0.7071\\begin{bmatrix}\n",
    "   1.4\\\\\n",
    "   -0.2\\\\\n",
    "  \\end{bmatrix}\n",
    " $$"
   ]
  },
  {
   "cell_type": "markdown",
   "id": "crucial-picnic",
   "metadata": {},
   "source": [
    "$$\n",
    "=\\begin{bmatrix}\n",
    "   0.98994\\\\\n",
    "   -0.14142\\\\\n",
    "  \\end{bmatrix}\n",
    " $$"
   ]
  },
  {
   "cell_type": "markdown",
   "id": "noticed-alliance",
   "metadata": {},
   "source": [
    "after a little linear algebra and arithmetic; and so   \n",
    "\n",
    "$H|\\psi\\rangle = 0.9899|0\\rangle - 0.1414|1\\rangle$ (working to 4 decimal places).\n",
    " "
   ]
  },
  {
   "cell_type": "code",
   "execution_count": 2,
   "id": "placed-heritage",
   "metadata": {},
   "outputs": [
    {
     "name": "stderr",
     "output_type": "stream",
     "text": [
      "Invalid test name: T102_BasisChange\n"
     ]
    }
   ],
   "source": [
    "%kata T102_BasisChange \n",
    "\n",
    "operation BasisChange (q : Qubit) : Unit is Adj+Ctl {\n",
    "    // ...\n",
    "    // Run the cell using Ctrl+Enter (⌘+Enter on macOS).\n",
    "    H(q);\n",
    "}"
   ]
  },
  {
   "cell_type": "markdown",
   "id": "received-presence",
   "metadata": {},
   "source": [
    "[Return to Task 2 of the Basic Gates Quantum Kata Notebook  (opens in new tab)](./BasicGates.ipynb)"
   ]
  },
  {
   "cell_type": "markdown",
   "id": "progressive-elevation",
   "metadata": {},
   "source": [
    "***"
   ]
  },
  {
   "cell_type": "markdown",
   "id": "early-parks",
   "metadata": {},
   "source": [
    "   "
   ]
  },
  {
   "cell_type": "markdown",
   "id": "advanced-dominican",
   "metadata": {},
   "source": [
    "## Task 1.3. Sign flip: $|+\\rangle$  to $|-\\rangle$  and vice versa.\n",
    "\n",
    "**Input**: A qubit in state $|\\psi\\rangle = \\alpha |0\\rangle + \\beta |1\\rangle$.\n",
    "\n",
    "**Goal** :  Change the qubit state to $\\alpha |0\\rangle - \\beta |1\\rangle$ (i.e. flip the sign of the $|1\\rangle$ component of the superposition).\n"
   ]
  },
  {
   "cell_type": "markdown",
   "id": "eastern-thunder",
   "metadata": {},
   "source": [
    "## Solution"
   ]
  },
  {
   "cell_type": "markdown",
   "id": "cordless-clerk",
   "metadata": {},
   "source": [
    "The action of the Pauli-Z gate is exactly what is required by this question.\n",
    "This gate leaves the sign of the $|0\\rangle$ component of the superposition unchanged but flips the sign of the $|1\\rangle$ component of the superposition."
   ]
  },
  {
   "cell_type": "markdown",
   "id": "signed-license",
   "metadata": {},
   "source": [
    "$$\n",
    "Z = \n",
    " \\begin{bmatrix}\n",
    "   1 & 0\\\\\n",
    "   0 & -1\n",
    "  \\end{bmatrix}\n",
    " $$\n",
    "And we have\n",
    "$$\n",
    " \\begin{bmatrix}\n",
    "   1 & 0 \\\\\n",
    "   0 & -1\n",
    "  \\end{bmatrix}\n",
    " \\begin{bmatrix}\n",
    "   \\alpha\\\\\n",
    "   \\beta\\\\\n",
    "  \\end{bmatrix}\n",
    "  =\n",
    "\\begin{bmatrix}\n",
    "   1.\\alpha + 0.\\beta\\\\\n",
    "   0.\\alpha + -1.\\beta\\\\\n",
    "  \\end{bmatrix} \n",
    "  =\n",
    " \\begin{bmatrix}\n",
    "   \\alpha\\\\\n",
    "   -\\beta\\\\\n",
    "  \\end{bmatrix}  \n",
    "$$"
   ]
  },
  {
   "cell_type": "code",
   "execution_count": 2,
   "id": "temporal-child",
   "metadata": {},
   "outputs": [
    {
     "name": "stdout",
     "output_type": "stream",
     "text": [
      "The starting state:\n"
     ]
    },
    {
     "data": {
      "application/x-qsharp-data": "{\"diagnostic_kind\":\"state-vector\",\"div_id\":\"dump-machine-div-85a83f82-50fd-4824-a482-b56d50a0e7e2\",\"qubit_ids\":[0],\"n_qubits\":1,\"amplitudes\":[{\"Real\":0.6,\"Imaginary\":0.0,\"Magnitude\":0.6,\"Phase\":0.0},{\"Real\":0.8,\"Imaginary\":0.0,\"Magnitude\":0.8,\"Phase\":0.0}]}",
      "text/html": [
       "\r\n",
       "                    <table style=\"table-layout: fixed; width: 100%\">\r\n",
       "                        <thead>\r\n",
       "                            \r\n",
       "                        <tr>\r\n",
       "                            <th>Qubit IDs</th>\r\n",
       "                            <td span=\"3\">0</td>\r\n",
       "                        </tr>\r\n",
       "                    \r\n",
       "                            <tr>\r\n",
       "                                <th style=\"width: 20ch)\">Basis state (bitstring)</th>\r\n",
       "                                <th style=\"width: 20ch\">Amplitude</th><th style=\"width: calc(100% - 26ch - 20ch)\">Meas. Pr.</th><th style=\"width: 6ch\">Phase</th>\r\n",
       "                            </tr>\r\n",
       "                        </thead>\r\n",
       "                        <tbody>\r\n",
       "                        \r\n",
       "                            <tr>\r\n",
       "                                <td>$\\left|0\\right\\rangle$</td>\r\n",
       "                                <td>$0.6000 + 0.0000 i$</td>\r\n",
       "                                \r\n",
       "                                <td>\r\n",
       "                                    <progress\r\n",
       "                                        max=\"100\"\r\n",
       "                                        value=\"36\"\r\n",
       "                                        style=\"width: 100%;\"\r\n",
       "                                    > \r\n",
       "                                    <td>\r\n",
       "                                    <p id=\"round-07e3235e-1aca-42da-b5df-2633a2885492\"> \r\n",
       "                                    <script>\r\n",
       "                                    var num = 36;\r\n",
       "                                    num = num.toFixed(4);\r\n",
       "                                    var num_string = num + \"%\";\r\n",
       "                                     document.getElementById(\"round-07e3235e-1aca-42da-b5df-2633a2885492\").innerHTML = num_string;\r\n",
       "                                    </script> </p>\r\n",
       "                                    </td>\r\n",
       "                                </td>\r\n",
       "                            \r\n",
       "                                \r\n",
       "                                <td style=\"transform: rotate(0deg);\r\n",
       "                   text-align: center;\">\r\n",
       "                                 ↑\r\n",
       "                                </td>\r\n",
       "                            \r\n",
       "                            </tr>\r\n",
       "                        \n",
       "\r\n",
       "                            <tr>\r\n",
       "                                <td>$\\left|1\\right\\rangle$</td>\r\n",
       "                                <td>$0.8000 + 0.0000 i$</td>\r\n",
       "                                \r\n",
       "                                <td>\r\n",
       "                                    <progress\r\n",
       "                                        max=\"100\"\r\n",
       "                                        value=\"64.00000000000001\"\r\n",
       "                                        style=\"width: 100%;\"\r\n",
       "                                    > \r\n",
       "                                    <td>\r\n",
       "                                    <p id=\"round-f86b63ec-b8e2-4ab4-864d-5f68ac1cb67e\"> \r\n",
       "                                    <script>\r\n",
       "                                    var num = 64.00000000000001;\r\n",
       "                                    num = num.toFixed(4);\r\n",
       "                                    var num_string = num + \"%\";\r\n",
       "                                     document.getElementById(\"round-f86b63ec-b8e2-4ab4-864d-5f68ac1cb67e\").innerHTML = num_string;\r\n",
       "                                    </script> </p>\r\n",
       "                                    </td>\r\n",
       "                                </td>\r\n",
       "                            \r\n",
       "                                \r\n",
       "                                <td style=\"transform: rotate(0deg);\r\n",
       "                   text-align: center;\">\r\n",
       "                                 ↑\r\n",
       "                                </td>\r\n",
       "                            \r\n",
       "                            </tr>\r\n",
       "                        \r\n",
       "                        </tbody>\r\n",
       "                    </table>"
      ],
      "text/plain": [
       "|0⟩\t0.6 + 0𝑖\n",
       "|1⟩\t0.8 + 0𝑖"
      ]
     },
     "metadata": {},
     "output_type": "display_data"
    },
    {
     "name": "stdout",
     "output_type": "stream",
     "text": [
      "The desired state:\n"
     ]
    },
    {
     "data": {
      "application/x-qsharp-data": "{\"diagnostic_kind\":\"state-vector\",\"div_id\":\"dump-machine-div-c95e594d-74aa-47a7-9684-b95622458b2b\",\"qubit_ids\":[0],\"n_qubits\":1,\"amplitudes\":[{\"Real\":0.6,\"Imaginary\":0.0,\"Magnitude\":0.6,\"Phase\":0.0},{\"Real\":-0.8,\"Imaginary\":0.0,\"Magnitude\":0.8,\"Phase\":3.141592653589793}]}",
      "text/html": [
       "\r\n",
       "                    <table style=\"table-layout: fixed; width: 100%\">\r\n",
       "                        <thead>\r\n",
       "                            \r\n",
       "                        <tr>\r\n",
       "                            <th>Qubit IDs</th>\r\n",
       "                            <td span=\"3\">0</td>\r\n",
       "                        </tr>\r\n",
       "                    \r\n",
       "                            <tr>\r\n",
       "                                <th style=\"width: 20ch)\">Basis state (bitstring)</th>\r\n",
       "                                <th style=\"width: 20ch\">Amplitude</th><th style=\"width: calc(100% - 26ch - 20ch)\">Meas. Pr.</th><th style=\"width: 6ch\">Phase</th>\r\n",
       "                            </tr>\r\n",
       "                        </thead>\r\n",
       "                        <tbody>\r\n",
       "                        \r\n",
       "                            <tr>\r\n",
       "                                <td>$\\left|0\\right\\rangle$</td>\r\n",
       "                                <td>$0.6000 + 0.0000 i$</td>\r\n",
       "                                \r\n",
       "                                <td>\r\n",
       "                                    <progress\r\n",
       "                                        max=\"100\"\r\n",
       "                                        value=\"36\"\r\n",
       "                                        style=\"width: 100%;\"\r\n",
       "                                    > \r\n",
       "                                    <td>\r\n",
       "                                    <p id=\"round-cd45a8bd-2d3e-46af-8d35-d4f7e4dc0b82\"> \r\n",
       "                                    <script>\r\n",
       "                                    var num = 36;\r\n",
       "                                    num = num.toFixed(4);\r\n",
       "                                    var num_string = num + \"%\";\r\n",
       "                                     document.getElementById(\"round-cd45a8bd-2d3e-46af-8d35-d4f7e4dc0b82\").innerHTML = num_string;\r\n",
       "                                    </script> </p>\r\n",
       "                                    </td>\r\n",
       "                                </td>\r\n",
       "                            \r\n",
       "                                \r\n",
       "                                <td style=\"transform: rotate(0deg);\r\n",
       "                   text-align: center;\">\r\n",
       "                                 ↑\r\n",
       "                                </td>\r\n",
       "                            \r\n",
       "                            </tr>\r\n",
       "                        \n",
       "\r\n",
       "                            <tr>\r\n",
       "                                <td>$\\left|1\\right\\rangle$</td>\r\n",
       "                                <td>$-0.8000 + 0.0000 i$</td>\r\n",
       "                                \r\n",
       "                                <td>\r\n",
       "                                    <progress\r\n",
       "                                        max=\"100\"\r\n",
       "                                        value=\"64.00000000000001\"\r\n",
       "                                        style=\"width: 100%;\"\r\n",
       "                                    > \r\n",
       "                                    <td>\r\n",
       "                                    <p id=\"round-cdf4cbd3-3849-49d2-9ed9-655a760fbee6\"> \r\n",
       "                                    <script>\r\n",
       "                                    var num = 64.00000000000001;\r\n",
       "                                    num = num.toFixed(4);\r\n",
       "                                    var num_string = num + \"%\";\r\n",
       "                                     document.getElementById(\"round-cdf4cbd3-3849-49d2-9ed9-655a760fbee6\").innerHTML = num_string;\r\n",
       "                                    </script> </p>\r\n",
       "                                    </td>\r\n",
       "                                </td>\r\n",
       "                            \r\n",
       "                                \r\n",
       "                                <td style=\"transform: rotate(180deg);\r\n",
       "                   text-align: center;\">\r\n",
       "                                 ↑\r\n",
       "                                </td>\r\n",
       "                            \r\n",
       "                            </tr>\r\n",
       "                        \r\n",
       "                        </tbody>\r\n",
       "                    </table>"
      ],
      "text/plain": [
       "|0⟩\t0.6 + 0𝑖\n",
       "|1⟩\t-0.8 + 0𝑖"
      ]
     },
     "metadata": {},
     "output_type": "display_data"
    },
    {
     "name": "stdout",
     "output_type": "stream",
     "text": [
      "The actual state:\n"
     ]
    },
    {
     "data": {
      "application/x-qsharp-data": "{\"diagnostic_kind\":\"state-vector\",\"div_id\":\"dump-machine-div-7e93f71b-5c50-48b2-bf61-52c63905f67d\",\"qubit_ids\":[0],\"n_qubits\":1,\"amplitudes\":[{\"Real\":-0.6,\"Imaginary\":0.0,\"Magnitude\":0.6,\"Phase\":3.141592653589793},{\"Real\":0.8,\"Imaginary\":0.0,\"Magnitude\":0.8,\"Phase\":0.0}]}",
      "text/html": [
       "\r\n",
       "                    <table style=\"table-layout: fixed; width: 100%\">\r\n",
       "                        <thead>\r\n",
       "                            \r\n",
       "                        <tr>\r\n",
       "                            <th>Qubit IDs</th>\r\n",
       "                            <td span=\"3\">0</td>\r\n",
       "                        </tr>\r\n",
       "                    \r\n",
       "                            <tr>\r\n",
       "                                <th style=\"width: 20ch)\">Basis state (bitstring)</th>\r\n",
       "                                <th style=\"width: 20ch\">Amplitude</th><th style=\"width: calc(100% - 26ch - 20ch)\">Meas. Pr.</th><th style=\"width: 6ch\">Phase</th>\r\n",
       "                            </tr>\r\n",
       "                        </thead>\r\n",
       "                        <tbody>\r\n",
       "                        \r\n",
       "                            <tr>\r\n",
       "                                <td>$\\left|0\\right\\rangle$</td>\r\n",
       "                                <td>$-0.6000 + 0.0000 i$</td>\r\n",
       "                                \r\n",
       "                                <td>\r\n",
       "                                    <progress\r\n",
       "                                        max=\"100\"\r\n",
       "                                        value=\"36\"\r\n",
       "                                        style=\"width: 100%;\"\r\n",
       "                                    > \r\n",
       "                                    <td>\r\n",
       "                                    <p id=\"round-965a6b81-7d70-49fe-8f81-efb825a2affa\"> \r\n",
       "                                    <script>\r\n",
       "                                    var num = 36;\r\n",
       "                                    num = num.toFixed(4);\r\n",
       "                                    var num_string = num + \"%\";\r\n",
       "                                     document.getElementById(\"round-965a6b81-7d70-49fe-8f81-efb825a2affa\").innerHTML = num_string;\r\n",
       "                                    </script> </p>\r\n",
       "                                    </td>\r\n",
       "                                </td>\r\n",
       "                            \r\n",
       "                                \r\n",
       "                                <td style=\"transform: rotate(180deg);\r\n",
       "                   text-align: center;\">\r\n",
       "                                 ↑\r\n",
       "                                </td>\r\n",
       "                            \r\n",
       "                            </tr>\r\n",
       "                        \n",
       "\r\n",
       "                            <tr>\r\n",
       "                                <td>$\\left|1\\right\\rangle$</td>\r\n",
       "                                <td>$0.8000 + 0.0000 i$</td>\r\n",
       "                                \r\n",
       "                                <td>\r\n",
       "                                    <progress\r\n",
       "                                        max=\"100\"\r\n",
       "                                        value=\"64.00000000000001\"\r\n",
       "                                        style=\"width: 100%;\"\r\n",
       "                                    > \r\n",
       "                                    <td>\r\n",
       "                                    <p id=\"round-e0376e80-7346-4554-8b2f-4184cf94033f\"> \r\n",
       "                                    <script>\r\n",
       "                                    var num = 64.00000000000001;\r\n",
       "                                    num = num.toFixed(4);\r\n",
       "                                    var num_string = num + \"%\";\r\n",
       "                                     document.getElementById(\"round-e0376e80-7346-4554-8b2f-4184cf94033f\").innerHTML = num_string;\r\n",
       "                                    </script> </p>\r\n",
       "                                    </td>\r\n",
       "                                </td>\r\n",
       "                            \r\n",
       "                                \r\n",
       "                                <td style=\"transform: rotate(0deg);\r\n",
       "                   text-align: center;\">\r\n",
       "                                 ↑\r\n",
       "                                </td>\r\n",
       "                            \r\n",
       "                            </tr>\r\n",
       "                        \r\n",
       "                        </tbody>\r\n",
       "                    </table>"
      ],
      "text/plain": [
       "|0⟩\t-0.6 + 0𝑖\n",
       "|1⟩\t0.8 + 0𝑖"
      ]
     },
     "metadata": {},
     "output_type": "display_data"
    },
    {
     "data": {
      "application/x-qsharp-data": "\"Success!\"",
      "text/plain": [
       "Success!"
      ]
     },
     "execution_count": 2,
     "metadata": {},
     "output_type": "execute_result"
    }
   ],
   "source": [
    "%kata T103_SignFlip \n",
    "\n",
    "operation SignFlip (q : Qubit) : Unit is Adj+Ctl {\n",
    "    // ...\n",
    "    // Run the cell using Ctrl+Enter (⌘+Enter on macOS).\n",
    "    Z(q);\n",
    "}"
   ]
  },
  {
   "cell_type": "markdown",
   "id": "hungarian-million",
   "metadata": {},
   "source": [
    "[Return to Task 3 of the Basic Gates Quantum Kata Notebook  (opens in new tab)](./BasicGates.ipynb)"
   ]
  },
  {
   "cell_type": "markdown",
   "id": "changed-vertical",
   "metadata": {},
   "source": [
    "***"
   ]
  },
  {
   "cell_type": "markdown",
   "id": "latest-helena",
   "metadata": {},
   "source": [
    "### Task 1.4. Amplitude change: $|0\\rangle$ to $\\cos{α} |0\\rangle + \\sin{α} |1\\rangle$.\n",
    "\n",
    "**Inputs:**\n",
    "\n",
    "1. Angle α, in radians, represented as Double.\n",
    "2. A qubit in state $|\\psi\\rangle = \\beta |0\\rangle + \\gamma |1\\rangle$.\n",
    "\n",
    "**Goal:**  Change the state of the qubit as follows:\n",
    "- If the qubit is in state $|0\\rangle$, change its state to $\\cos{α} |0\\rangle + \\sin{α} |1\\rangle$.\n",
    "- If the qubit is in state $|1\\rangle$, change its state to $-\\sin{α} |0\\rangle + \\cos{α} |1\\rangle$.\n",
    "- If the qubit is in superposition, change its state according to the effect on basis vectors.\n",
    "\n",
    "> This is the first operation in the kata that is not self-adjoint, i.e., applying it for a second time\n",
    "> does not return the qubit to the original state."
   ]
  },
  {
   "cell_type": "markdown",
   "id": "earned-spank",
   "metadata": {},
   "source": [
    "## Solution"
   ]
  },
  {
   "cell_type": "markdown",
   "id": "crazy-welding",
   "metadata": {},
   "source": [
    "The Ry gate is the one to use here; it is one of three gates ( the other being Rx and Rz) known as rotation gates because they rotate the qubit in its three dimensional vector space about the y, x and z axes respectively), thereby changing its amplitude.\n",
    "\n",
    "It's matix can be clearly see [here](https://docs.microsoft.com/en-us/qsharp/api/qsharp/microsoft.quantum.intrinsic.ry)\n",
    "and full details of all these three gates can be seen by scrolling to the bottom [here](http://localhost:8888/notebooks/tutorials/SingleQubitGates/SingleQubitGates.ipynb)"
   ]
  },
  {
   "cell_type": "markdown",
   "id": "e8cd1533-3af5-4943-9f2f-2b2aac31a059",
   "metadata": {},
   "source": [
    "Also, "
   ]
  },
  {
   "cell_type": "markdown",
   "id": "93a41df8-0948-4297-a087-4d49f3c8bd53",
   "metadata": {},
   "source": [
    "We are given $\\beta = 0.6, \\gamma = 0.8$ and $\\alpha = 1.0471975511965976$, which corresponds to $2\\cdot\\pi/3$.  \n",
    "\n",
    "And since cos(\\pi/3) = 0.5  and sin(\\pi/3) = 0.8660  "
   ]
  },
  {
   "cell_type": "markdown",
   "id": "quick-myrtle",
   "metadata": {
    "jp-MarkdownHeadingCollapsed": true,
    "tags": []
   },
   "source": [
    "\n",
    "Ry =\n",
    "$$\n",
    " \\begin{bmatrix}\n",
    "   \\cos\\alpha/2 & -\\sin\\alpha/2\\\\\n",
    "   \\sin\\alpha/2 & \\cos\\alpha/2\\\\\n",
    "  \\end{bmatrix}\n",
    "$$\n",
    " \n",
    "  \n",
    "Ry$|\\psi\\rangle$ =\n",
    " $$  \n",
    " \\begin{bmatrix}\n",
    "   \\cos\\alpha/2 & -\\sin\\alpha/2\\\\\n",
    "   \\sin\\alpha/2 & \\cos\\alpha/2\\\\\n",
    "  \\end{bmatrix} \n",
    "  \\begin{bmatrix}\n",
    "   \\beta\\\\\n",
    "  \\gamma\\\\\n",
    " \\end{bmatrix}\n",
    "$$\n",
    "=\n",
    "$$\n",
    " \\begin{bmatrix}\n",
    "   cos(\\alpha/2)\\cdot\\beta - sin(\\alpha/2)\\cdot\\gamma\\\\\n",
    "   (sin(\\alpha/2)\\cdot\\beta +cos(\\alpha/2)\\cdot\\gamma\\\\\n",
    "  \\end{bmatrix}\n",
    "$$ \n",
    "\n"
   ]
  },
  {
   "cell_type": "markdown",
   "id": "7982f6b8-d279-4a93-929a-b598d1f9efcd",
   "metadata": {},
   "source": [
    "Ry$|\\psi\\rangle$ =  $((0.6)cos(\\pi/3) -(0.8)sin(\\pi/3)|0⟩)) + ( 0.6)(sin(\\pi/3) +(0.8)cos(\\pi/3)|1⟩))$  \n",
    "\n",
    "Ry$|\\psi\\rangle$ =  (0.3 - 0.6928)|0$\\rangle$ + (0.5316 + 0.4)|1$\\rangle$\n",
    "\n",
    "and\n",
    "\n",
    "Ry$|\\psi\\rangle$ =  -0.3928|0$\\rangle$ + 0.9316|1$\\rangle$"
   ]
  },
  {
   "cell_type": "markdown",
   "id": "1ea8829c-d696-4265-9498-ad7ff5815e09",
   "metadata": {},
   "source": [
    "Don't forget that when applying a gate you can tell what its matrix does to the basis states by looking at its columns: the first column of the matrix is the state into which it will transform the  |0⟩  state and similarly the second column is the state into which it will transfrom the |1⟩ state."
   ]
  },
  {
   "cell_type": "code",
   "execution_count": null,
   "id": "large-retention",
   "metadata": {},
   "outputs": [],
   "source": [
    "%kata T104_AmplitudeChange\n",
    "\n",
    "operation AmplitudeChange (alpha : Double, q : Qubit) : Unit is Adj+Ctl {\n",
    "    // ...\n",
    "    // Run the cell using Ctrl+Enter (⌘+Enter on macOS).\n",
    "    Ry(2.0 * alpha, q);\n",
    "}"
   ]
  },
  {
   "cell_type": "markdown",
   "id": "df3527c2-6f84-4ef6-aedc-68dd5c59d341",
   "metadata": {},
   "source": [
    "We are given $\\beta = 0.6, \\gamma = 0.8$ and $\\alpha = 1.0471975511965976$, which corresponds to $\\pi/3$.  \n",
    "\n",
    "And since cos(\\pi/3) = 0.5  and sin(\\pi/3) = 0.8660  "
   ]
  },
  {
   "cell_type": "markdown",
   "id": "contrary-garlic",
   "metadata": {},
   "source": [
    "[Return to Task 4 of the Basic Gates Quantum Kata Notebook  (opens in new tab)](./BasicGates.ipynb)"
   ]
  },
  {
   "cell_type": "markdown",
   "id": "through-bachelor",
   "metadata": {},
   "source": [
    "***"
   ]
  },
  {
   "cell_type": "markdown",
   "id": "spectacular-jefferson",
   "metadata": {},
   "source": []
  }
 ],
 "metadata": {
  "kernelspec": {
   "display_name": "Q#",
   "language": "qsharp",
   "name": "iqsharp"
  },
  "language_info": {
   "file_extension": ".qs",
   "mimetype": "text/x-qsharp",
   "name": "qsharp",
   "version": "0.14"
  }
 },
 "nbformat": 4,
 "nbformat_minor": 5
}
