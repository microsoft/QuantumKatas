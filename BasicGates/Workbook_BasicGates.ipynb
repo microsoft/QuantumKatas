{
 "cells": [
  {
   "cell_type": "markdown",
   "id": "7857a5f0",
   "metadata": {
    "tags": []
   },
   "source": [
    "# Basic Gates Kata Workbook\n",
    "\n",
    "**What is this workbook?** \n",
    "A workbook is a collection of problems, accompanied by solutions to them. The explanations focus on the logical steps required to solve a problem; they illustrate the concepts that need to be applied to come up with a solution to the problem, explaining the mathematical steps required.\n",
    "\n",
    "Note that a workbook should not be the primary source of knowledge on the subject matter; it assumes that you've already read a tutorial or a textbook and that you are now seeking to improve your problem-solving skills. You should attempt solving the tasks of the respective kata first, and turn to the workbook only if stuck or for reinforcement. While a textbook emphasizes knowledge acquisition, a workbook emphasizes skill acquisition.\n",
    "\n",
    "This workbook describes the solutions to the problems offered in the [Basic Gates Kata](./BasicGates.ipynb). \n",
    "Since the tasks are offered as programming problems, the explanations also cover some elements of Q# that might be non-obvious for a novitiate."
   ]
  },
  {
   "cell_type": "markdown",
   "id": "00738ea4",
   "metadata": {},
   "source": [
    "**What you should know for this workbook**\n",
    "\n",
    "You should be familiar with the following concepts and associated techniques **prior to** beginning work on the Basic Gates Quantum Kata.\n",
    "\n",
    "1. [Complex numbers](../tutorials/ComplexArithmetic/ComplexArithmetic.ipynb).\n",
    "2. Basic linear algebra (multiplying column vectors by matrices), per the first part of [this tutorial](../tutorials/LinearAlgebra/LinearAlgebra.ipynb).\n",
    "3. [The concept of qubit and its properties](../tutorials/Qubit/Qubit.ipynb).\n",
    "4. [Single-qubit gates](../tutorials/SingleQubitGates/SingleQubitGates.ipynb).\n",
    "\n",
    "You can also consult the [complete Quantum Katas learning path](https://github.com/microsoft/QuantumKatas#learning-path)."
   ]
  },
  {
   "cell_type": "markdown",
   "id": "18cd49da",
   "metadata": {},
   "source": [
    "# Part 1. Single-Qubit Gates\n"
   ]
  },
  {
   "cell_type": "markdown",
   "id": "e8efbd72",
   "metadata": {
    "jp-MarkdownHeadingCollapsed": true,
    "tags": []
   },
   "source": [
    "## Task 1.1. State flip: $|0\\rangle$ to $|1\\rangle$ and vice versa\n",
    "\n",
    "**Input:** A qubit in state $|\\psi\\rangle = \\alpha |0\\rangle + \\beta |1\\rangle$.\n",
    "\n",
    "**Goal:**  Change the state of the qubit to $\\alpha |1\\rangle + \\beta |0\\rangle$.\n",
    "\n",
    "**Example:**\n",
    "\n",
    "If the qubit is in state $|0\\rangle$, change its state to $|1\\rangle$.\n",
    "\n",
    "If the qubit is in state $|1\\rangle$, change its state to $|0\\rangle$."
   ]
  },
  {
   "cell_type": "markdown",
   "id": "f3a638d0",
   "metadata": {},
   "source": [
    "### Solution"
   ]
  },
  {
   "cell_type": "markdown",
   "id": "502cb6c0",
   "metadata": {},
   "source": [
    "We can recognise that the Pauli X gate will change the state $|0\\rangle$ to $|1\\rangle$ and vice versa, and $\\alpha |0\\rangle + \\beta |1\\rangle$ to $\\alpha |1\\rangle + \\beta |0\\rangle$.\n",
    "\n",
    "As a reminder, the Pauli X gate is defined by the following matrix:"
   ]
  },
  {
   "cell_type": "markdown",
   "id": "3379d38f",
   "metadata": {},
   "source": [
    "$$\n",
    "X = \n",
    "\\begin{bmatrix}\n",
    "   0 &  1\\\\\n",
    "  1 &  0\n",
    "\\end{bmatrix}\n",
    "$$\n",
    "\n",
    "We can see how it affects, for example, the basis state $|0\\rangle$:"
   ]
  },
  {
   "cell_type": "markdown",
   "id": "ad81bd56",
   "metadata": {},
   "source": [
    "$$X|0\\rangle= \n",
    "\\begin{bmatrix}\n",
    "   0 &  1\\\\\n",
    "  1 &  0\n",
    "\\end{bmatrix}\n",
    "\\begin{bmatrix}\n",
    "   1\\\\\n",
    "   0\n",
    "\\end{bmatrix}\n",
    "=\n",
    "\\begin{bmatrix}\n",
    "   0 \\cdot 1 + 1 \\cdot 0\\\\\n",
    "   1 \\cdot 1 + 0 \\cdot 0\n",
    "\\end{bmatrix}\n",
    "=\n",
    "\\begin{bmatrix}\n",
    "   0\\\\\n",
    "   1\n",
    "\\end{bmatrix}\n",
    "=|1\\rangle\n",
    "$$"
   ]
  },
  {
   "cell_type": "markdown",
   "id": "e8bfd8d6",
   "metadata": {},
   "source": [
    "Similarly, we can consider the effect of the X gate on the superposition state $|\\psi\\rangle = 0.6|0\\rangle + 0.8|1\\rangle$:"
   ]
  },
  {
   "cell_type": "markdown",
   "id": "7b6d4187",
   "metadata": {},
   "source": [
    "$$X|\\psi\\rangle= \n",
    "\\begin{bmatrix}\n",
    "   0 &  1\\\\\n",
    "  1 &  0\n",
    "\\end{bmatrix}\n",
    "\\begin{bmatrix}\n",
    "   0.6\\\\\n",
    "   0.8\n",
    "\\end{bmatrix}\n",
    "=\n",
    "\\begin{bmatrix}\n",
    "  0 \\cdot 0.6  + 1 \\cdot 0.8\\\\\n",
    "   1 \\cdot 0.6 + 0 \\cdot 0.8\n",
    "\\end{bmatrix}\n",
    "=\n",
    "\\begin{bmatrix}\n",
    "   0.8\\\\\n",
    "   0.6\n",
    "\\end{bmatrix}\n",
    "=  0.8|0\\rangle + 0.6|1\\rangle\n",
    "$$"
   ]
  },
  {
   "cell_type": "code",
   "execution_count": null,
   "id": "c7d256ea",
   "metadata": {},
   "outputs": [],
   "source": [
    "%kata T101_StateFlip \n",
    "\n",
    "operation StateFlip (q : Qubit) : Unit is Adj+Ctl {\n",
    "    X(q);\n",
    "}"
   ]
  },
  {
   "cell_type": "markdown",
   "id": "db0f4bab",
   "metadata": {},
   "source": [
    "[Return to Task 1.1 of the Basic Gates kata.](./BasicGates.ipynb#Task-1.1.-State-flip:-$|0\\rangle$-to-$|1\\rangle$-and-vice-versa)"
   ]
  },
  {
   "cell_type": "markdown",
   "id": "52493351",
   "metadata": {
    "tags": []
   },
   "source": [
    "## Task 1.2. Basis change: $|0\\rangle$ to $|+\\rangle$ and $|1\\rangle$ to $|-\\rangle$ (and vice versa)\n",
    "\n",
    "**Input**: A qubit in state $|\\psi\\rangle = \\alpha |0\\rangle + \\beta |1\\rangle$.\n",
    "\n",
    "**Goal**:  Change the state of the qubit as follows:\n",
    "* If the qubit is in state $|0\\rangle$, change its state to $|+\\rangle = \\frac{1}{\\sqrt{2}} \\big(|0\\rangle + |1\\rangle\\big)$.\n",
    "* If the qubit is in state $|1\\rangle$, change its state to $|-\\rangle = \\frac{1}{\\sqrt{2}} \\big(|0\\rangle - |1\\rangle\\big)$.\n",
    "* If the qubit is in superposition, change its state according to the effect on basis vectors."
   ]
  },
  {
   "cell_type": "markdown",
   "id": "a82ff275",
   "metadata": {},
   "source": [
    "### Solution"
   ]
  },
  {
   "cell_type": "markdown",
   "id": "871e897f",
   "metadata": {
    "tags": []
   },
   "source": [
    "We can recognize that the Hadamard gate changes states $|0\\rangle$ and $|1\\rangle$ to $|+\\rangle$ and $|-\\rangle$, respectively, and vice versa.\n",
    "\n",
    "As a reminder, the Hadamard gate is defined by the following matrix:"
   ]
  },
  {
   "cell_type": "markdown",
   "id": "139e5df7",
   "metadata": {
    "tags": []
   },
   "source": [
    "$$\n",
    "\\frac{1}{\\sqrt{2}}\\begin{bmatrix}\n",
    "1 & 1 \\\\\n",
    "1 & -1\n",
    "\\end{bmatrix}\n",
    "$$\n",
    "\n",
    "For example, we can work out $H|1\\rangle$ as follows:"
   ]
  },
  {
   "cell_type": "markdown",
   "id": "c4885ade",
   "metadata": {
    "tags": []
   },
   "source": [
    "$$\n",
    "H|1\\rangle=\n",
    "\\frac{1}{\\sqrt{2}}\\begin{bmatrix}\n",
    "   1 & 1 \\\\\n",
    "   1 & -1\n",
    "  \\end{bmatrix}\n",
    " \\begin{bmatrix}\n",
    "   0\\\\\n",
    "   1\\\\\n",
    "  \\end{bmatrix}\n",
    "=\n",
    "\\frac{1}{\\sqrt{2}}\\begin{bmatrix}\n",
    "   1 \\cdot 0 + 1 \\cdot 1 \\\\\n",
    "   1 \\cdot 0 + (-1) \\cdot 1\n",
    "  \\end{bmatrix}\n",
    "=\n",
    "  \\frac{1}{\\sqrt{2}}\\begin{bmatrix}\n",
    "   1\\\\\n",
    "   -1\n",
    "  \\end{bmatrix}\n",
    "= \\frac{1}{\\sqrt{2}} \\big(|0\\rangle - |1\\rangle\\big) = |-\\rangle\n",
    "$$"
   ]
  },
  {
   "cell_type": "markdown",
   "id": "f8b4353d",
   "metadata": {},
   "source": [
    "Similarly, we can consider the effect of the Hadamard gate on the superposition state $|\\psi\\rangle = 0.6|0\\rangle + 0.8|1\\rangle$ (rounding the numbers to 4 decimal places):"
   ]
  },
  {
   "cell_type": "markdown",
   "id": "3b73c8a5",
   "metadata": {},
   "source": [
    "$$\n",
    "H|\\psi⟩ = \n",
    "\\frac{1}{\\sqrt{2}}\\begin{bmatrix}\n",
    "   1 & 1 \\\\\n",
    "   1 & -1\n",
    "  \\end{bmatrix}\n",
    " \\begin{bmatrix}\n",
    "   \\alpha\\\\\n",
    "   \\beta\\\\\n",
    "  \\end{bmatrix}\n",
    " =\n",
    "\\frac{1}{\\sqrt{2}}\\begin{bmatrix}\n",
    "   \\alpha + \\beta\\\\\n",
    "   \\alpha - \\beta\\\\\n",
    "  \\end{bmatrix}\n",
    "= 0.7071\\begin{bmatrix}\n",
    "   1.4\\\\\n",
    "   -0.2\\\\\n",
    "  \\end{bmatrix}\n",
    "= \\begin{bmatrix}\n",
    "   0.98994\\\\\n",
    "   -0.14142\\\\\n",
    "  \\end{bmatrix}\n",
    "= 0.9899|0\\rangle - 0.1414|1\\rangle\n",
    " $$"
   ]
  },
  {
   "cell_type": "code",
   "execution_count": null,
   "id": "af4b6ace",
   "metadata": {},
   "outputs": [],
   "source": [
    "%kata T102_BasisChange \n",
    "\n",
    "operation BasisChange (q : Qubit) : Unit is Adj+Ctl {\n",
    "    H(q);\n",
    "}"
   ]
  },
  {
   "cell_type": "markdown",
   "id": "4c9d062c",
   "metadata": {},
   "source": [
    "[Return to Task 1.2 of the Basic Gates kata](./BasicGates.ipynb#Task-1.2.-Basis-change:-$|0\\rangle$-to-$|+\\rangle$-and-$|1\\rangle$-to-$|-\\rangle$-(and-vice-versa))."
   ]
  },
  {
   "cell_type": "markdown",
   "id": "8f9af9ec",
   "metadata": {},
   "source": [
    "   "
   ]
  },
  {
   "cell_type": "markdown",
   "id": "6c37c43e",
   "metadata": {},
   "source": [
    "## Task 1.3. Sign flip: $|+\\rangle$  to $|-\\rangle$  and vice versa.\n",
    "\n",
    "**Input**: A qubit in state $|\\psi\\rangle = \\alpha |0\\rangle + \\beta |1\\rangle$.\n",
    "\n",
    "**Goal** :  Change the qubit state to $\\alpha |0\\rangle - \\beta |1\\rangle$ (i.e. flip the sign of the $|1\\rangle$ component of the superposition).\n"
   ]
  },
  {
   "cell_type": "markdown",
   "id": "1fbe713b",
   "metadata": {},
   "source": [
    "### Solution"
   ]
  },
  {
   "cell_type": "markdown",
   "id": "1f8a780a",
   "metadata": {},
   "source": [
    "The action of the Pauli Z gate is exactly what is required by this question.\n",
    "This gate leaves the sign of the $|0\\rangle$ component of the superposition unchanged but flips the sign of the $|1\\rangle$ component of the superposition.\n",
    "\n",
    "As a reminder, the Pauli Z gate is defined by the following matrix:"
   ]
  },
  {
   "cell_type": "markdown",
   "id": "05d25755",
   "metadata": {},
   "source": [
    "$$\n",
    "Z = \n",
    " \\begin{bmatrix}\n",
    "   1 & 0\\\\\n",
    "   0 & -1\n",
    "  \\end{bmatrix}\n",
    " $$\n",
    " \n",
    "Let's see its effect on the only computational basis state that it changes, $|1\\rangle$:\n",
    "\n",
    "$$\n",
    "Z|1\\rangle =\n",
    " \\begin{bmatrix}\n",
    "   1 & 0\\\\\n",
    "   0 & -1\n",
    "  \\end{bmatrix}\n",
    " \\begin{bmatrix}\n",
    "   0\\\\\n",
    "   1\\\\\n",
    "  \\end{bmatrix}\n",
    "=\n",
    "\\begin{bmatrix}\n",
    "   1 \\cdot 0 + 0 \\cdot1\\\\\n",
    "   0 \\cdot 1 +  -1 \\cdot 1\\\\\n",
    "  \\end{bmatrix}\n",
    "=\n",
    " \\begin{bmatrix}\n",
    "   0\\\\\n",
    "   -1\\\\\n",
    "  \\end{bmatrix}\n",
    "=\n",
    " -\\begin{bmatrix}\n",
    "   0\\\\\n",
    "   1\\\\\n",
    "  \\end{bmatrix}\n",
    "= -|1\\rangle\n",
    "$$"
   ]
  },
  {
   "cell_type": "markdown",
   "id": "00eab410",
   "metadata": {},
   "source": [
    "In general applying the Z gate to a single qubit superposition state $|\\psi\\rangle = \\alpha |0\\rangle + \\beta |1\\rangle$ gives"
   ]
  },
  {
   "cell_type": "markdown",
   "id": "ff4c49e0",
   "metadata": {},
   "source": [
    "$$\n",
    "Z|\\psi\\rangle = \n",
    " \\begin{bmatrix}\n",
    "   1 & 0 \\\\\n",
    "   0 & -1\n",
    "  \\end{bmatrix}\n",
    " \\begin{bmatrix}\n",
    "   \\alpha\\\\\n",
    "   \\beta\\\\\n",
    "  \\end{bmatrix}\n",
    "  =\n",
    "\\begin{bmatrix}\n",
    "   1\\cdot\\alpha + 0\\cdot\\beta\\\\\n",
    "   0\\cdot\\alpha + -1\\cdot\\beta\\\\\n",
    "  \\end{bmatrix} \n",
    "  =\n",
    " \\begin{bmatrix}\n",
    "   \\alpha\\\\\n",
    "   -\\beta\\\\\n",
    "  \\end{bmatrix}  \n",
    "= \\alpha |0\\rangle -\\beta |1\\rangle\n",
    "$$"
   ]
  },
  {
   "cell_type": "code",
   "execution_count": null,
   "id": "fee8fd33",
   "metadata": {
    "tags": []
   },
   "outputs": [],
   "source": [
    "%kata T103_SignFlip\n",
    "\n",
    "operation SignFlip (q : Qubit) : Unit is Adj+Ctl {\n",
    "    Z(q);\n",
    "}"
   ]
  },
  {
   "cell_type": "markdown",
   "id": "cbaad886",
   "metadata": {},
   "source": [
    "[Return to Task 1.3 of the Basic Gates kata](./BasicGates.ipynb#Task-1.3.-Sign-flip:-$|+\\rangle$--to-$|-\\rangle$--and-vice-versa.)."
   ]
  },
  {
   "cell_type": "markdown",
   "id": "5bc986bc",
   "metadata": {
    "tags": []
   },
   "source": [
    "## Task 1.4. Amplitude change: $|0\\rangle$ to $\\cos{α} |0\\rangle + \\sin{α} |1\\rangle$.\n",
    "\n",
    "**Inputs:**\n",
    "\n",
    "1. Angle α, in radians, represented as Double.\n",
    "2. A qubit in state $|\\psi\\rangle = \\beta |0\\rangle + \\gamma |1\\rangle$.\n",
    "\n",
    "**Goal:**  Change the state of the qubit as follows:\n",
    "- If the qubit is in state $|0\\rangle$, change its state to $\\cos{α} |0\\rangle + \\sin{α} |1\\rangle$.\n",
    "- If the qubit is in state $|1\\rangle$, change its state to $-\\sin{α} |0\\rangle + \\cos{α} |1\\rangle$.\n",
    "- If the qubit is in superposition, change its state according to the effect on basis vectors."
   ]
  },
  {
   "cell_type": "markdown",
   "id": "6fcd0abd",
   "metadata": {},
   "source": [
    "### Solution"
   ]
  },
  {
   "cell_type": "markdown",
   "id": "adb323bd",
   "metadata": {},
   "source": [
    "We can recognise that we need to use one of the rotation gates Rx, Ry, and Rz (named because they \"rotate\" the qubit state in the three dimensional space visualized as the Bloch sphere about the x, y, and z axes, respectively), since they involve angle parameters. Of these three gates, only Ry rotates the basis states $|0\\rangle$ and $|1\\rangle$ to have real amplitudes (the other two gates introduce complex coefficients).\n",
    "\n",
    "As a reminder, "
   ]
  },
  {
   "cell_type": "markdown",
   "id": "6ddd897e",
   "metadata": {},
   "source": [
    "$$\n",
    "R_{y}(\\theta) =\n",
    "\\begin{bmatrix}\n",
    "   \\cos \\frac{\\theta}{2} & -\\sin \\frac{\\theta}{2}\\\\\n",
    "   \\sin \\frac{\\theta}{2} & \\cos \\frac{\\theta}{2}\n",
    "  \\end{bmatrix}\n",
    "$$"
   ]
  },
  {
   "cell_type": "markdown",
   "id": "228666e7",
   "metadata": {},
   "source": [
    "Let's see its effect on the $|0\\rangle$ state:"
   ]
  },
  {
   "cell_type": "markdown",
   "id": "e79d6f95",
   "metadata": {},
   "source": [
    "$$\n",
    "R_y(\\theta)|0\\rangle =\n",
    "\\begin{bmatrix}\n",
    "   \\cos \\frac{\\theta}{2} & -\\sin \\frac{\\theta}{2}\\\\\n",
    "   \\sin \\frac{\\theta}{2} & \\cos \\frac{\\theta}{2}\n",
    "  \\end{bmatrix}\n",
    "\\begin{bmatrix}\n",
    "   1\\\\\n",
    "   0\\\\\n",
    "\\end{bmatrix}\n",
    "=\n",
    "\\begin{bmatrix}\n",
    "   \\cos \\frac{\\theta}{2}\\cdot1 - \\sin \\frac{\\theta}{2}\\cdot0\\\\\n",
    "   \\sin \\frac{\\theta}{2}\\cdot1 + \\cos \\frac{\\theta}{2}\\cdot0\n",
    "  \\end{bmatrix}\n",
    "=\n",
    "\\begin{bmatrix}\n",
    "   \\cos \\frac{\\theta}{2}\\\\\n",
    "   \\sin \\frac{\\theta}{2}\n",
    "  \\end{bmatrix}\n",
    "= \\cos\\frac{\\theta}{2} |0\\rangle + \\sin\\frac{\\theta}{2} |1\\rangle\n",
    "$$"
   ]
  },
  {
   "cell_type": "markdown",
   "id": "927b80a6",
   "metadata": {},
   "source": [
    "Recall that when applying a gate, you can tell what its matrix does to the basis states by looking at its columns: the first column of the matrix is the state into which it will transform the $|0\\rangle$ state, and the second column is the state into which it will transfrom the $|1\\rangle$ state."
   ]
  },
  {
   "cell_type": "markdown",
   "id": "332e0480",
   "metadata": {},
   "source": [
    "In the example used by the testing harness we are given $\\beta = 0.6, \\gamma = 0.8$ and $\\alpha = 1.0471975511965976 = \\frac{\\pi}{3}$."
   ]
  },
  {
   "cell_type": "markdown",
   "id": "151690d7",
   "metadata": {},
   "source": [
    "Since $\\cos \\frac{\\pi}{3} = 0.5$  and $\\sin \\frac{\\pi}{3} = 0.8660$, working to 4 decimal places, we can compute:"
   ]
  },
  {
   "cell_type": "markdown",
   "id": "b9989d0c",
   "metadata": {},
   "source": [
    "$$\n",
    "R_{y}(\\theta) |\\psi\\rangle\n",
    "=\n",
    " \\begin{bmatrix}\n",
    "   \\cos \\frac{\\theta}{2} & -\\sin \\frac{\\theta}{2}\\\\\n",
    "   \\sin \\frac{\\theta}{2} & \\cos \\frac{\\theta}{2}\n",
    "  \\end{bmatrix} \n",
    "  \\begin{bmatrix}\n",
    "   \\beta\\\\\n",
    "  \\gamma\n",
    " \\end{bmatrix}\n",
    "=\n",
    "\\begin{bmatrix}\n",
    "   cos \\frac{\\theta}{2}\\cdot\\beta - sin \\frac{\\theta}{2}\\cdot\\gamma\\\\\n",
    "   sin \\frac{\\theta}{2}\\cdot\\beta +cos \\frac{\\theta}{2}\\cdot\\gamma\n",
    "  \\end{bmatrix}\n",
    "=  \n",
    " \\begin{bmatrix}\n",
    "   0.6\\cdot\\cos \\frac{\\pi}{3} -0.8\\cdot\\sin \\frac{\\pi}{3}\\\\\n",
    "   0.6\\cdot\\sin \\frac{\\pi}{3} +0.8\\cdot\\cos \\frac{\\pi}{3}\n",
    "  \\end{bmatrix}\n",
    "=\n",
    " \\begin{bmatrix}\n",
    "   0.3 - 0.6928\\\\\n",
    "   0.5196 + 0.4\n",
    "  \\end{bmatrix}\n",
    "=\n",
    "  \\begin{bmatrix}\n",
    "   -0.3928\\\\\n",
    "    0.9196\n",
    "  \\end{bmatrix}\n",
    "$$ "
   ]
  },
  {
   "cell_type": "markdown",
   "id": "dca0fd1d",
   "metadata": {},
   "source": [
    "Notice that we used $\\frac{\\theta}{2} = \\alpha$; this means that in the Q# code we need to pass the angle $\\theta = 2\\alpha$."
   ]
  },
  {
   "cell_type": "code",
   "execution_count": null,
   "id": "806405ce",
   "metadata": {},
   "outputs": [],
   "source": [
    "%kata T104_AmplitudeChange\n",
    "\n",
    "operation AmplitudeChange (alpha : Double, q : Qubit) : Unit is Adj+Ctl {\n",
    "    Ry(2.0 * alpha, q);\n",
    "}"
   ]
  },
  {
   "cell_type": "markdown",
   "id": "8e42ccb9",
   "metadata": {},
   "source": [
    "[Return to Task 1.4 of the Basic Gates kata](./BasicGates.ipynb#Task-1.4.-Amplitude-change:-$|0\\rangle$-to-$\\cos{α}-|0\\rangle-+-\\sin{α}-|1\\rangle$.)."
   ]
  },
  {
   "cell_type": "markdown",
   "id": "679f38c3",
   "metadata": {},
   "source": [
    "## Task 1.5. Phase flip\n",
    "\n",
    "**Input:** A qubit in state $|\\psi\\rangle = \\alpha |0\\rangle + \\beta |1\\rangle$.\n",
    "\n",
    "**Goal:** Change the qubit state to $\\alpha |0\\rangle + \\color{red}i\\beta |1\\rangle$ (add a relative phase $i$ to $|1\\rangle$ component of the superposition).\n"
   ]
  },
  {
   "cell_type": "markdown",
   "id": "40f89f84",
   "metadata": {},
   "source": [
    "### Solution\n",
    "\n",
    "We can recognise that the S gate performs this particular relative phase addition to the $|1\\rangle$ basis state. As a reminder,"
   ]
  },
  {
   "cell_type": "markdown",
   "id": "d79d261d",
   "metadata": {},
   "source": [
    "$$\n",
    "S = \n",
    " \\begin{bmatrix}\n",
    "   1 & 0\\\\\n",
    "   0 & i\n",
    "  \\end{bmatrix}\n",
    " $$"
   ]
  },
  {
   "cell_type": "markdown",
   "id": "9327eb73",
   "metadata": {},
   "source": [
    "Let's see the effect of this gate on the general superposition $|\\psi\\rangle = \\alpha |0\\rangle + \\beta |1\\rangle$."
   ]
  },
  {
   "cell_type": "markdown",
   "id": "9e517a8d",
   "metadata": {},
   "source": [
    "$$\n",
    " \\begin{bmatrix}\n",
    "   1 & 0 \\\\\n",
    "   0 & i\n",
    "  \\end{bmatrix}\n",
    " \\begin{bmatrix}\n",
    "   \\alpha\\\\\n",
    "   \\beta\\\\\n",
    "  \\end{bmatrix}\n",
    "  =\n",
    "\\begin{bmatrix}\n",
    "   1\\cdot\\alpha + 0\\cdot\\beta\\\\\n",
    "   0\\cdot\\alpha + i\\cdot\\beta\n",
    "  \\end{bmatrix} \n",
    "  =\n",
    " \\begin{bmatrix}\n",
    "   \\alpha\\\\\n",
    "   i\\beta\\\\\n",
    "  \\end{bmatrix}  \n",
    "$$"
   ]
  },
  {
   "cell_type": "markdown",
   "id": "bcf9a100",
   "metadata": {},
   "source": [
    "It is therefore easy to see that when $|\\psi\\rangle = 0.6|0\\rangle +  0.8|1\\rangle, S|\\psi\\rangle =  0.6|0\\rangle + 0.8i|1\\rangle$."
   ]
  },
  {
   "cell_type": "code",
   "execution_count": null,
   "id": "c2b1cc05",
   "metadata": {},
   "outputs": [],
   "source": [
    "%kata T105_PhaseFlip\n",
    "\n",
    "operation PhaseFlip (q : Qubit) : Unit is Adj+Ctl {\n",
    "    S(q);\n",
    "}"
   ]
  },
  {
   "cell_type": "markdown",
   "id": "3a967cef",
   "metadata": {},
   "source": [
    "### Solution 2\n",
    "\n",
    "See the next task, Phase Change, for an explanation of using R1 gate to implement the same transformation:"
   ]
  },
  {
   "cell_type": "code",
   "execution_count": null,
   "id": "2e5fd176",
   "metadata": {},
   "outputs": [],
   "source": [
    "%kata T105_PhaseFlip\n",
    "\n",
    "open Microsoft.Quantum.Math;\n",
    "\n",
    "operation PhaseFlip (q : Qubit) : Unit is Adj+Ctl {\n",
    "    R1(0.5 * PI(), q);\n",
    "}"
   ]
  },
  {
   "cell_type": "markdown",
   "id": "fa9b0500",
   "metadata": {},
   "source": [
    "[Return to Task 1.5 of the Basic Gates kata](./BasicGates.ipynb#Task-1.5.-Phase-flip)."
   ]
  },
  {
   "cell_type": "markdown",
   "id": "4b7a4048",
   "metadata": {},
   "source": [
    "## Task 1.6. Phase change\n",
    "\n",
    "**Inputs:**\n",
    "\n",
    "1. Angle α, in radians, represented as Double.\n",
    "2. A qubit in state $|\\psi\\rangle = \\beta |0\\rangle + \\gamma |1\\rangle$.\n",
    "\n",
    "**Goal:**  Change the state of the qubit as follows:\n",
    "- If the qubit is in state $|0\\rangle$, don't change its state.\n",
    "- If the qubit is in state $|1\\rangle$, change its state to $e^{i\\alpha} |1\\rangle$.\n",
    "- If the qubit is in superposition, change its state according to the effect on basis vectors: $\\beta |0\\rangle + \\color{red}{e^{i\\alpha}} \\gamma |1\\rangle$."
   ]
  },
  {
   "cell_type": "markdown",
   "id": "fea52f6c",
   "metadata": {},
   "source": [
    "### Solution\n",
    "We know that:"
   ]
  },
  {
   "cell_type": "markdown",
   "id": "ea557a6f",
   "metadata": {},
   "source": [
    "$$\n",
    "R1(\\alpha)\n",
    "= \n",
    " \\begin{bmatrix}\n",
    "   1 & 0\\\\\n",
    "   0 & \\color{red}{e^{i\\alpha}}\n",
    "  \\end{bmatrix}\n",
    " $$"
   ]
  },
  {
   "cell_type": "markdown",
   "id": "e086ae07",
   "metadata": {},
   "source": [
    "So we have:"
   ]
  },
  {
   "cell_type": "markdown",
   "id": "5eb4130b",
   "metadata": {},
   "source": [
    "$$\n",
    "R1(\\beta |0\\rangle + \\gamma |1\\rangle) = \n",
    " \\begin{bmatrix}\n",
    "   1 & 0 \\\\\n",
    "   0 & \\color{red}{e^{i\\alpha}}\n",
    "  \\end{bmatrix}\n",
    " \\begin{bmatrix}\n",
    "   \\beta\\\\\n",
    "   \\gamma\\\\\n",
    "  \\end{bmatrix}\n",
    "  =\n",
    "\\begin{bmatrix}\n",
    "   1.\\beta + 0.\\gamma\\\\\n",
    "   0.\\beta + \\color{red}{e^{i\\alpha}}\\gamma\n",
    "  \\end{bmatrix} \n",
    "  =\n",
    " \\begin{bmatrix}\n",
    "   \\beta\\\\\n",
    "   \\color{red}{e^{i\\alpha}}\\gamma\n",
    "  \\end{bmatrix}  \n",
    "  = \\beta |0\\rangle + \\color{red}{e^{i\\alpha}} \\gamma |1\\rangle\n",
    "$$"
   ]
  },
  {
   "cell_type": "markdown",
   "id": "d2cceb69",
   "metadata": {},
   "source": [
    "> Note that the results produced by the test harness can be unexpected.\n",
    "If you run the kata several times and  and examine the output, you'll notice that success is signalled even though the corresponding amplitudes of the desired and actual states look very different.\n",
    ">\n",
    "> So what's going on? The full state simulator used in these tests performs the computations \"up to a global phase\", that is, sometimes the resulting state acquires a global phase that doesn't affect the computations or the measurement outcomes, but shows up in DumpMachine output. (You can read more about the global phase in the [Qubit tutorial](../tutorials/Qubit/Qubit.ipynb#Relative-and-Global-Phase).)\n",
    ">\n",
    "> For example, in one run you can get the desired state $(0.6000 + 0000i)|0\\rangle + (-0.1389 +0.7878i)|1\\rangle$ and the actual state $(-0.1042 + 0.5909i)|0\\rangle + (-0.7518 -0.2736i)|1\\rangle$.\n",
    "You can verify that the ratios of amplitudes of the respective basis states are equal: $\\frac{-0.1042 + 0.5909i}{0.6} = -0.173667 +0.984833 i = \\frac{-0.7518 -0.2736i}{-0.1389 +0.7878i}$, so the global phase acquired by the state is (-0.173667 +0.984833 i). \n",
    "You can also check that the absolute value of this multiplier is approximately 1, so it doesn't impact the measurement probabilities.\n",
    ">\n",
    "> The testing harness for this and the rest of the tasks checks that your solution implements the required transformation exactly, without introducing any global phase, so it shows up only in the helper output and does not affect the verification of your solution."
   ]
  },
  {
   "cell_type": "code",
   "execution_count": null,
   "id": "9eb5151f",
   "metadata": {},
   "outputs": [],
   "source": [
    "%kata T106_PhaseChange\n",
    "\n",
    "operation PhaseChange (alpha : Double, q : Qubit) : Unit is Adj+Ctl {\n",
    "   R1(alpha, q);\n",
    "}"
   ]
  },
  {
   "cell_type": "markdown",
   "id": "fb12585c",
   "metadata": {},
   "source": [
    "Suppose now that $\\alpha = \\frac{\\pi}{2}$.\n",
    "Then $e^{i\\alpha}= \\cos\\frac{\\pi}{2} + i\\sin\\frac{\\pi}{2}$.\n",
    "And, since $\\cos\\frac{\\pi}{2}= 0$ and $\\sin\\frac{\\pi}{2} = 1$, then we have that $\\cos\\frac{\\pi}{2} + i \\sin\\frac{\\pi}{2} = i$, and  \n",
    "$R1(\\frac{\\pi}{2}) = S$, which we used in the second solution to task 1.5, above."
   ]
  },
  {
   "cell_type": "markdown",
   "id": "5a1c0760",
   "metadata": {},
   "source": [
    "[Return to Task 1.6 of the Basic Gates kata](./BasicGates.ipynb#Task-1.6.-Phase-Change)."
   ]
  },
  {
   "cell_type": "markdown",
   "id": "353195b3",
   "metadata": {},
   "source": [
    "## Task 1.7. Global phase change\n",
    "**Input:** A qubit in state $|\\psi\\rangle = \\beta |0\\rangle + \\gamma |1\\rangle$.\n",
    "\n",
    "**Goal**: Change the state of the qubit to $- \\beta |0\\rangle - \\gamma |1\\rangle$.\n",
    "\n",
    "> Note: this change on its own is not observable - there is no experiment you can do on a standalone qubit to figure out whether it acquired the global phase or not. \n",
    "> However, you can use a controlled version of this operation to observe the global phase it introduces. \n",
    "> This is used in later katas as part of more complicated tasks."
   ]
  },
  {
   "cell_type": "markdown",
   "id": "ebbc50bf",
   "metadata": {},
   "source": [
    "### Solution\n",
    "\n",
    "We recognise that a global phase change can be accomplished by using the R rotation gate with the PauliI (identity) gate.\n",
    "As a reminder, the R gate is defined as $R_{\\mu}(\\theta) = \\exp(\\frac{\\theta}{2}i\\cdot\\sigma_{\\mu})$, wehere $\\sigma_{\\mu}$ is one of the Pauli gates I, X, Y or Z.  \n",
    "\n",
    "> Note that a global phase is not detectable and has no physical meaning - it disappers when you take a measurement of the state.  \n",
    "> You can read more about this in the [Single-qubit measurements tutorial](../tutorials/SingleQubitSystemMeasurements/SingleQubitSystemMeasurements.ipynb#Measurements-in-arbitrary-orthogonal-bases)."
   ]
  },
  {
   "cell_type": "markdown",
   "id": "87ab0fe6",
   "metadata": {},
   "source": [
    "For the problem at hand, we'll use the rotation gate $R_{\\mu}(\\theta) = \\exp(\\frac{\\theta}{2}i\\cdot\\sigma_{\\mu})$ with $\\sigma_{\\mu} = I$.  \n",
    "\n",
    "$R(PauliI, 2\\pi) = \\exp(\\frac{2\\pi}{2} iI) = \\exp(i\\pi) I = (\\cos\\pi + i\\sin\\pi) I$ and, since $\\cos\\pi = -1$   and   $\\sin\\pi = 0$, we have that $R(PauliI, 2\\pi) = -I$:   "
   ]
  },
  {
   "cell_type": "markdown",
   "id": "89406712",
   "metadata": {},
   "source": [
    "$$\n",
    "R(\\beta |0\\rangle + \\gamma |1\\rangle) \n",
    "=\n",
    " -1\\begin{bmatrix}\n",
    "   1 & 0 \\\\\n",
    "   0 & 1\n",
    "  \\end{bmatrix}\n",
    " \\begin{bmatrix}\n",
    "   \\beta\\\\\n",
    "   \\gamma\\\\\n",
    "  \\end{bmatrix}\n",
    "=\n",
    " \\begin{bmatrix}\n",
    "   -1 & 0 \\\\\n",
    "   0 & -1\n",
    "  \\end{bmatrix}\n",
    " \\begin{bmatrix}\n",
    "   \\beta\\\\\n",
    "   \\gamma\\\\\n",
    "  \\end{bmatrix} \n",
    "=\n",
    " \\begin{bmatrix}\n",
    "   -1\\cdot\\beta + 0\\cdot\\gamma\\\\\n",
    "    0\\cdot\\beta +  -1\\cdot\\gamma \\\\\n",
    "  \\end{bmatrix}\n",
    "=\n",
    "\\begin{bmatrix}\n",
    "   -\\beta\\\\\n",
    "   -\\gamma\\\\\n",
    "  \\end{bmatrix}\n",
    "=\n",
    "- \\beta |0\\rangle - \\gamma |1\\rangle\n",
    "$$"
   ]
  },
  {
   "cell_type": "markdown",
   "id": "cbc71b2c",
   "metadata": {},
   "source": [
    "The test harness for this test shows the result of applying the *controlled* variant of your solution to be able to detect the phase change."
   ]
  },
  {
   "cell_type": "code",
   "execution_count": null,
   "id": "6373784e",
   "metadata": {},
   "outputs": [],
   "source": [
    "%kata T107_GlobalPhaseChange\n",
    "\n",
    "open Microsoft.Quantum.Math;\n",
    "\n",
    "operation GlobalPhaseChange (q : Qubit) : Unit is Adj+Ctl {\n",
    "    R(PauliI, 2.0 * PI(), q);\n",
    "}"
   ]
  },
  {
   "cell_type": "markdown",
   "id": "cce54ac9",
   "metadata": {},
   "source": [
    "[Return to Task 1.7 of the Basic Gates kata](./BasicGates.ipynb#Task-1.7.-Global-phase-change)."
   ]
  },
  {
   "cell_type": "markdown",
   "id": "ebc427a9",
   "metadata": {},
   "source": [
    "### Task 1.8. Bell state change - 1\n",
    "\n",
    "**Input:** Two entangled qubits in Bell state $|\\Phi^{+}\\rangle = \\frac{1}{\\sqrt{2}} \\big(|00\\rangle + |11\\rangle\\big)$.\n",
    "\n",
    "**Goal:**  Change the two-qubit state to $|\\Phi^{-}\\rangle = \\frac{1}{\\sqrt{2}} \\big(|00\\rangle - |11\\rangle\\big)$."
   ]
  },
  {
   "cell_type": "markdown",
   "id": "378ea409",
   "metadata": {},
   "source": [
    "## Solution"
   ]
  },
  {
   "cell_type": "markdown",
   "id": "0f703967",
   "metadata": {},
   "source": [
    "We recognise that the goal is another Bell state. In fact, it is one of the four Bell states.\n",
    "\n",
    "We remember from Task 1.3 that the Pauli Z gate will change the state of the $|0\\rangle$ basis state of a single qubit, so this gate seems like a good candidate for what we want to achieve. This gate leaves the sign of the $|0\\rangle$ basis state of a superposition unchanged, but flips the sign of the $|1\\rangle$ basis state of the superposition.  \n",
    "\n",
    "Don't forget that the Z gate acts on only a single qubit, and we have two here.\n",
    "Lets also remember how the Bell state is made up from its individual qubits.\n",
    "\n",
    "If the two qubits are A and B, where A is `qs[0]` and and B is `qs[1]`, we can write that\n",
    "$|\\Phi^{+}\\rangle = \\frac{1}{\\sqrt{2}} \\big(|0_{A}0_{B}\\rangle + |1_{A}1_{B}\\rangle\\big)$,  and also remember that this is a superposition."
   ]
  },
  {
   "cell_type": "markdown",
   "id": "e710548a",
   "metadata": {},
   "source": [
    "If we apply the Z gate to the qubit A, it will flip the phase of the basis state $|1_A\\rangle$. As this phase is in a sense spread across the entangled state, with $|1_A\\rangle$ basis state being part of the second half of the superposition, this  application has the effect of flipping the sign of the whole basis state $|1_A1_B\\rangle$, as you can see by running the solution below.  \n",
    "\n",
    "> If you run the solution below several times, you will notice that you get the state $\\frac{1}{\\sqrt{2}} \\big(-|00\\rangle + |11\\rangle\\big)$ at a guess as frequently as the goal state. Here is why.  \n",
    "> \n",
    "> We can write this second state as   $-\\frac{1}{\\sqrt{2}} \\big(|00\\rangle -|11\\rangle\\big)$ = $(-1)\\frac{1}{\\sqrt{2}} \\big(|00\\rangle - |11\\rangle\\big)$. \n",
    "This state is the same as our goal state $|\\Phi^{-}\\rangle$ with an unmeasureable global phase of $-1$.\n",
    "\n",
    "The exact same calculations can be done if we apply Z to the qubit B, so that's another possible solution."
   ]
  },
  {
   "cell_type": "code",
   "execution_count": null,
   "id": "26fe84b8",
   "metadata": {},
   "outputs": [],
   "source": [
    "%kata T108_BellStateChange1\n",
    "\n",
    "operation BellStateChange1 (qs : Qubit[]) : Unit is Adj+Ctl {\n",
    "    Z(qs[0]); // or Z(qs[1]); \n",
    "}"
   ]
  },
  {
   "cell_type": "markdown",
   "id": "d3ab39a8",
   "metadata": {},
   "source": [
    "[Return to Task 1.8 of the Basic Gates kata](./BasicGates.ipynb#Task-1.8.-Bell-state-change---1)."
   ]
  },
  {
   "cell_type": "markdown",
   "id": "fd0b8f80",
   "metadata": {},
   "source": [
    "### Task 1.9. Bell state change - 2\n",
    "\n",
    "**Input:** Two entangled qubits in Bell state $|\\Phi^{+}\\rangle = \\frac{1}{\\sqrt{2}} \\big(|00\\rangle + |11\\rangle\\big)$.\n",
    "\n",
    "**Goal:**  Change the two-qubit state to $|\\Psi^{+}\\rangle = \\frac{1}{\\sqrt{2}} \\big(|01\\rangle + |10\\rangle\\big)$."
   ]
  },
  {
   "cell_type": "markdown",
   "id": "a3436307",
   "metadata": {},
   "source": [
    "We have seen in Task 1.1 that the Paul--X gate flips $|0\\rangle$ to $|1\\rangle$ and vice versa, and as we seem to have  flipping of states perhaps this gate may be of use.(Bearing in mind of course that the X gate operates on a single qubit). Its's possibly easier to see what to do if we write $|\\Psi^{+}\\rangle$ as  $\\frac{1}{\\sqrt{2}} \\big(10\\rangle + |01\\rangle\\big)$ and compare the Input with the Goal.\n",
    "i.e. compare $\\frac{1}{\\sqrt{2}} \\big(|00\\rangle + |11\\rangle\\big)$ with $\\frac{1}{\\sqrt{2}} \\big(10\\rangle + |01\\rangle\\big)$.  \n",
    "Using our nomencalure from Task 1.8, we can now see by comparing terms that $0_{A}$ has flipped to 1 to give the first term and and $1_{A}$ has flipped to 0 to give the second term. to give the second term. Of course, the two terms of bothInput and Goal states only 'exist' with a probability of $(\\frac{1}{\\sqrt{2}})^{2}  = 0.5$ each. So this allows us to say that the correct gate to use is Pauli_X, applied to qs[0].\n",
    "Similar reasoning applies if we choose to apply  Pauli_X to qs[1]."
   ]
  },
  {
   "cell_type": "code",
   "execution_count": 1,
   "id": "877a1cd9",
   "metadata": {},
   "outputs": [
    {
     "name": "stdout",
     "output_type": "stream",
     "text": [
      "The starting state:\n"
     ]
    },
    {
     "data": {
      "application/x-qsharp-data": "{\"diagnostic_kind\":\"state-vector\",\"div_id\":\"dump-machine-div-0ee2b402-c233-4125-aa46-3dbcf0531504\",\"qubit_ids\":[0,1],\"n_qubits\":2,\"amplitudes\":[{\"Real\":0.7071067811865476,\"Imaginary\":0.0,\"Magnitude\":0.7071067811865476,\"Phase\":0.0},{\"Real\":0.0,\"Imaginary\":0.0,\"Magnitude\":0.0,\"Phase\":0.0},{\"Real\":0.0,\"Imaginary\":0.0,\"Magnitude\":0.0,\"Phase\":0.0},{\"Real\":0.7071067811865476,\"Imaginary\":0.0,\"Magnitude\":0.7071067811865476,\"Phase\":0.0}]}",
      "text/html": [
       "\r\n",
       "                    <table style=\"table-layout: fixed; width: 100%\">\r\n",
       "                        <thead>\r\n",
       "                            \r\n",
       "                        <tr>\r\n",
       "                            <th>Qubit IDs</th>\r\n",
       "                            <td span=\"3\">0, 1</td>\r\n",
       "                        </tr>\r\n",
       "                    \r\n",
       "                            <tr>\r\n",
       "                                <th style=\"width: 20ch)\">Basis state (bitstring)</th>\r\n",
       "                                <th style=\"width: 20ch\">Amplitude</th><th style=\"width: calc(100% - 26ch - 20ch)\">Meas. Pr.</th><th style=\"width: 6ch\">Phase</th>\r\n",
       "                            </tr>\r\n",
       "                        </thead>\r\n",
       "                        <tbody>\r\n",
       "                        \r\n",
       "                            <tr>\r\n",
       "                                <td>$\\left|00\\right\\rangle$</td>\r\n",
       "                                <td>$0.7071 + 0.0000 i$</td>\r\n",
       "                                \r\n",
       "                                <td>\r\n",
       "                                    <progress\r\n",
       "                                        max=\"100\"\r\n",
       "                                        value=\"50.000000000000014\"\r\n",
       "                                        style=\"width: 100%;\"\r\n",
       "                                    > \r\n",
       "                                    <td>\r\n",
       "                                    <p id=\"round-0491e6ff-d536-4f2e-a8b0-de3c99ad870d\"> \r\n",
       "                                    <script>\r\n",
       "                                    var num = 50.000000000000014;\r\n",
       "                                    num = num.toFixed(4);\r\n",
       "                                    var num_string = num + \"%\";\r\n",
       "                                     document.getElementById(\"round-0491e6ff-d536-4f2e-a8b0-de3c99ad870d\").innerHTML = num_string;\r\n",
       "                                    </script> </p>\r\n",
       "                                    </td>\r\n",
       "                                </td>\r\n",
       "                            \r\n",
       "                                \r\n",
       "                                <td style=\"transform: rotate(0deg);\r\n",
       "                   text-align: center;\">\r\n",
       "                                 ↑\r\n",
       "                                </td>\r\n",
       "                            \r\n",
       "                            </tr>\r\n",
       "                        \n",
       "\r\n",
       "                            <tr>\r\n",
       "                                <td>$\\left|01\\right\\rangle$</td>\r\n",
       "                                <td>$0.0000 + 0.0000 i$</td>\r\n",
       "                                \r\n",
       "                                <td>\r\n",
       "                                    <progress\r\n",
       "                                        max=\"100\"\r\n",
       "                                        value=\"0\"\r\n",
       "                                        style=\"width: 100%;\"\r\n",
       "                                    > \r\n",
       "                                    <td>\r\n",
       "                                    <p id=\"round-0f7558be-3944-44a3-809d-0d1759d6e15e\"> \r\n",
       "                                    <script>\r\n",
       "                                    var num = 0;\r\n",
       "                                    num = num.toFixed(4);\r\n",
       "                                    var num_string = num + \"%\";\r\n",
       "                                     document.getElementById(\"round-0f7558be-3944-44a3-809d-0d1759d6e15e\").innerHTML = num_string;\r\n",
       "                                    </script> </p>\r\n",
       "                                    </td>\r\n",
       "                                </td>\r\n",
       "                            \r\n",
       "                                \r\n",
       "                                <td style=\"transform: rotate(0deg);\r\n",
       "                   text-align: center;\">\r\n",
       "                                 ↑\r\n",
       "                                </td>\r\n",
       "                            \r\n",
       "                            </tr>\r\n",
       "                        \n",
       "\r\n",
       "                            <tr>\r\n",
       "                                <td>$\\left|10\\right\\rangle$</td>\r\n",
       "                                <td>$0.0000 + 0.0000 i$</td>\r\n",
       "                                \r\n",
       "                                <td>\r\n",
       "                                    <progress\r\n",
       "                                        max=\"100\"\r\n",
       "                                        value=\"0\"\r\n",
       "                                        style=\"width: 100%;\"\r\n",
       "                                    > \r\n",
       "                                    <td>\r\n",
       "                                    <p id=\"round-825fdda4-aaca-4872-b9b4-2abed1b04bd9\"> \r\n",
       "                                    <script>\r\n",
       "                                    var num = 0;\r\n",
       "                                    num = num.toFixed(4);\r\n",
       "                                    var num_string = num + \"%\";\r\n",
       "                                     document.getElementById(\"round-825fdda4-aaca-4872-b9b4-2abed1b04bd9\").innerHTML = num_string;\r\n",
       "                                    </script> </p>\r\n",
       "                                    </td>\r\n",
       "                                </td>\r\n",
       "                            \r\n",
       "                                \r\n",
       "                                <td style=\"transform: rotate(0deg);\r\n",
       "                   text-align: center;\">\r\n",
       "                                 ↑\r\n",
       "                                </td>\r\n",
       "                            \r\n",
       "                            </tr>\r\n",
       "                        \n",
       "\r\n",
       "                            <tr>\r\n",
       "                                <td>$\\left|11\\right\\rangle$</td>\r\n",
       "                                <td>$0.7071 + 0.0000 i$</td>\r\n",
       "                                \r\n",
       "                                <td>\r\n",
       "                                    <progress\r\n",
       "                                        max=\"100\"\r\n",
       "                                        value=\"50.000000000000014\"\r\n",
       "                                        style=\"width: 100%;\"\r\n",
       "                                    > \r\n",
       "                                    <td>\r\n",
       "                                    <p id=\"round-41aa5aa0-4a2e-43f7-b16a-92c15875b6e5\"> \r\n",
       "                                    <script>\r\n",
       "                                    var num = 50.000000000000014;\r\n",
       "                                    num = num.toFixed(4);\r\n",
       "                                    var num_string = num + \"%\";\r\n",
       "                                     document.getElementById(\"round-41aa5aa0-4a2e-43f7-b16a-92c15875b6e5\").innerHTML = num_string;\r\n",
       "                                    </script> </p>\r\n",
       "                                    </td>\r\n",
       "                                </td>\r\n",
       "                            \r\n",
       "                                \r\n",
       "                                <td style=\"transform: rotate(0deg);\r\n",
       "                   text-align: center;\">\r\n",
       "                                 ↑\r\n",
       "                                </td>\r\n",
       "                            \r\n",
       "                            </tr>\r\n",
       "                        \r\n",
       "                        </tbody>\r\n",
       "                    </table>"
      ],
      "text/plain": [
       "|00⟩\t0.7071067811865476 + 0𝑖\n",
       "|01⟩\t0 + 0𝑖\n",
       "|10⟩\t0 + 0𝑖\n",
       "|11⟩\t0.7071067811865476 + 0𝑖"
      ]
     },
     "metadata": {},
     "output_type": "display_data"
    },
    {
     "name": "stdout",
     "output_type": "stream",
     "text": [
      "The desired state:\n"
     ]
    },
    {
     "data": {
      "application/x-qsharp-data": "{\"diagnostic_kind\":\"state-vector\",\"div_id\":\"dump-machine-div-0a9c0b0c-b0db-421a-9f77-4d4ef40cd7d9\",\"qubit_ids\":[0,1],\"n_qubits\":2,\"amplitudes\":[{\"Real\":0.0,\"Imaginary\":0.0,\"Magnitude\":0.0,\"Phase\":0.0},{\"Real\":0.7071067811865476,\"Imaginary\":0.0,\"Magnitude\":0.7071067811865476,\"Phase\":0.0},{\"Real\":0.7071067811865476,\"Imaginary\":0.0,\"Magnitude\":0.7071067811865476,\"Phase\":0.0},{\"Real\":0.0,\"Imaginary\":0.0,\"Magnitude\":0.0,\"Phase\":0.0}]}",
      "text/html": [
       "\r\n",
       "                    <table style=\"table-layout: fixed; width: 100%\">\r\n",
       "                        <thead>\r\n",
       "                            \r\n",
       "                        <tr>\r\n",
       "                            <th>Qubit IDs</th>\r\n",
       "                            <td span=\"3\">0, 1</td>\r\n",
       "                        </tr>\r\n",
       "                    \r\n",
       "                            <tr>\r\n",
       "                                <th style=\"width: 20ch)\">Basis state (bitstring)</th>\r\n",
       "                                <th style=\"width: 20ch\">Amplitude</th><th style=\"width: calc(100% - 26ch - 20ch)\">Meas. Pr.</th><th style=\"width: 6ch\">Phase</th>\r\n",
       "                            </tr>\r\n",
       "                        </thead>\r\n",
       "                        <tbody>\r\n",
       "                        \r\n",
       "                            <tr>\r\n",
       "                                <td>$\\left|00\\right\\rangle$</td>\r\n",
       "                                <td>$0.0000 + 0.0000 i$</td>\r\n",
       "                                \r\n",
       "                                <td>\r\n",
       "                                    <progress\r\n",
       "                                        max=\"100\"\r\n",
       "                                        value=\"0\"\r\n",
       "                                        style=\"width: 100%;\"\r\n",
       "                                    > \r\n",
       "                                    <td>\r\n",
       "                                    <p id=\"round-701792bd-25d4-4f27-9cb6-9c282287bf4a\"> \r\n",
       "                                    <script>\r\n",
       "                                    var num = 0;\r\n",
       "                                    num = num.toFixed(4);\r\n",
       "                                    var num_string = num + \"%\";\r\n",
       "                                     document.getElementById(\"round-701792bd-25d4-4f27-9cb6-9c282287bf4a\").innerHTML = num_string;\r\n",
       "                                    </script> </p>\r\n",
       "                                    </td>\r\n",
       "                                </td>\r\n",
       "                            \r\n",
       "                                \r\n",
       "                                <td style=\"transform: rotate(0deg);\r\n",
       "                   text-align: center;\">\r\n",
       "                                 ↑\r\n",
       "                                </td>\r\n",
       "                            \r\n",
       "                            </tr>\r\n",
       "                        \n",
       "\r\n",
       "                            <tr>\r\n",
       "                                <td>$\\left|01\\right\\rangle$</td>\r\n",
       "                                <td>$0.7071 + 0.0000 i$</td>\r\n",
       "                                \r\n",
       "                                <td>\r\n",
       "                                    <progress\r\n",
       "                                        max=\"100\"\r\n",
       "                                        value=\"50.000000000000014\"\r\n",
       "                                        style=\"width: 100%;\"\r\n",
       "                                    > \r\n",
       "                                    <td>\r\n",
       "                                    <p id=\"round-108291b6-1023-4e0e-9784-d9b3844eb8c3\"> \r\n",
       "                                    <script>\r\n",
       "                                    var num = 50.000000000000014;\r\n",
       "                                    num = num.toFixed(4);\r\n",
       "                                    var num_string = num + \"%\";\r\n",
       "                                     document.getElementById(\"round-108291b6-1023-4e0e-9784-d9b3844eb8c3\").innerHTML = num_string;\r\n",
       "                                    </script> </p>\r\n",
       "                                    </td>\r\n",
       "                                </td>\r\n",
       "                            \r\n",
       "                                \r\n",
       "                                <td style=\"transform: rotate(0deg);\r\n",
       "                   text-align: center;\">\r\n",
       "                                 ↑\r\n",
       "                                </td>\r\n",
       "                            \r\n",
       "                            </tr>\r\n",
       "                        \n",
       "\r\n",
       "                            <tr>\r\n",
       "                                <td>$\\left|10\\right\\rangle$</td>\r\n",
       "                                <td>$0.7071 + 0.0000 i$</td>\r\n",
       "                                \r\n",
       "                                <td>\r\n",
       "                                    <progress\r\n",
       "                                        max=\"100\"\r\n",
       "                                        value=\"50.000000000000014\"\r\n",
       "                                        style=\"width: 100%;\"\r\n",
       "                                    > \r\n",
       "                                    <td>\r\n",
       "                                    <p id=\"round-c847488e-bc14-4bed-9943-0b1d227181de\"> \r\n",
       "                                    <script>\r\n",
       "                                    var num = 50.000000000000014;\r\n",
       "                                    num = num.toFixed(4);\r\n",
       "                                    var num_string = num + \"%\";\r\n",
       "                                     document.getElementById(\"round-c847488e-bc14-4bed-9943-0b1d227181de\").innerHTML = num_string;\r\n",
       "                                    </script> </p>\r\n",
       "                                    </td>\r\n",
       "                                </td>\r\n",
       "                            \r\n",
       "                                \r\n",
       "                                <td style=\"transform: rotate(0deg);\r\n",
       "                   text-align: center;\">\r\n",
       "                                 ↑\r\n",
       "                                </td>\r\n",
       "                            \r\n",
       "                            </tr>\r\n",
       "                        \n",
       "\r\n",
       "                            <tr>\r\n",
       "                                <td>$\\left|11\\right\\rangle$</td>\r\n",
       "                                <td>$0.0000 + 0.0000 i$</td>\r\n",
       "                                \r\n",
       "                                <td>\r\n",
       "                                    <progress\r\n",
       "                                        max=\"100\"\r\n",
       "                                        value=\"0\"\r\n",
       "                                        style=\"width: 100%;\"\r\n",
       "                                    > \r\n",
       "                                    <td>\r\n",
       "                                    <p id=\"round-d034ed46-9362-48a0-9d1f-db58aba0ef09\"> \r\n",
       "                                    <script>\r\n",
       "                                    var num = 0;\r\n",
       "                                    num = num.toFixed(4);\r\n",
       "                                    var num_string = num + \"%\";\r\n",
       "                                     document.getElementById(\"round-d034ed46-9362-48a0-9d1f-db58aba0ef09\").innerHTML = num_string;\r\n",
       "                                    </script> </p>\r\n",
       "                                    </td>\r\n",
       "                                </td>\r\n",
       "                            \r\n",
       "                                \r\n",
       "                                <td style=\"transform: rotate(0deg);\r\n",
       "                   text-align: center;\">\r\n",
       "                                 ↑\r\n",
       "                                </td>\r\n",
       "                            \r\n",
       "                            </tr>\r\n",
       "                        \r\n",
       "                        </tbody>\r\n",
       "                    </table>"
      ],
      "text/plain": [
       "|00⟩\t0 + 0𝑖\n",
       "|01⟩\t0.7071067811865476 + 0𝑖\n",
       "|10⟩\t0.7071067811865476 + 0𝑖\n",
       "|11⟩\t0 + 0𝑖"
      ]
     },
     "metadata": {},
     "output_type": "display_data"
    },
    {
     "name": "stdout",
     "output_type": "stream",
     "text": [
      "The actual state:\n"
     ]
    },
    {
     "data": {
      "application/x-qsharp-data": "{\"diagnostic_kind\":\"state-vector\",\"div_id\":\"dump-machine-div-d26f613f-cd98-4e27-814b-81e9ad748a8c\",\"qubit_ids\":[0,1],\"n_qubits\":2,\"amplitudes\":[{\"Real\":0.0,\"Imaginary\":0.0,\"Magnitude\":0.0,\"Phase\":0.0},{\"Real\":0.7071067811865476,\"Imaginary\":0.0,\"Magnitude\":0.7071067811865476,\"Phase\":0.0},{\"Real\":0.7071067811865476,\"Imaginary\":0.0,\"Magnitude\":0.7071067811865476,\"Phase\":0.0},{\"Real\":0.0,\"Imaginary\":0.0,\"Magnitude\":0.0,\"Phase\":0.0}]}",
      "text/html": [
       "\r\n",
       "                    <table style=\"table-layout: fixed; width: 100%\">\r\n",
       "                        <thead>\r\n",
       "                            \r\n",
       "                        <tr>\r\n",
       "                            <th>Qubit IDs</th>\r\n",
       "                            <td span=\"3\">0, 1</td>\r\n",
       "                        </tr>\r\n",
       "                    \r\n",
       "                            <tr>\r\n",
       "                                <th style=\"width: 20ch)\">Basis state (bitstring)</th>\r\n",
       "                                <th style=\"width: 20ch\">Amplitude</th><th style=\"width: calc(100% - 26ch - 20ch)\">Meas. Pr.</th><th style=\"width: 6ch\">Phase</th>\r\n",
       "                            </tr>\r\n",
       "                        </thead>\r\n",
       "                        <tbody>\r\n",
       "                        \r\n",
       "                            <tr>\r\n",
       "                                <td>$\\left|00\\right\\rangle$</td>\r\n",
       "                                <td>$0.0000 + 0.0000 i$</td>\r\n",
       "                                \r\n",
       "                                <td>\r\n",
       "                                    <progress\r\n",
       "                                        max=\"100\"\r\n",
       "                                        value=\"0\"\r\n",
       "                                        style=\"width: 100%;\"\r\n",
       "                                    > \r\n",
       "                                    <td>\r\n",
       "                                    <p id=\"round-b526fa94-01b8-478c-bccd-94c67bb08265\"> \r\n",
       "                                    <script>\r\n",
       "                                    var num = 0;\r\n",
       "                                    num = num.toFixed(4);\r\n",
       "                                    var num_string = num + \"%\";\r\n",
       "                                     document.getElementById(\"round-b526fa94-01b8-478c-bccd-94c67bb08265\").innerHTML = num_string;\r\n",
       "                                    </script> </p>\r\n",
       "                                    </td>\r\n",
       "                                </td>\r\n",
       "                            \r\n",
       "                                \r\n",
       "                                <td style=\"transform: rotate(0deg);\r\n",
       "                   text-align: center;\">\r\n",
       "                                 ↑\r\n",
       "                                </td>\r\n",
       "                            \r\n",
       "                            </tr>\r\n",
       "                        \n",
       "\r\n",
       "                            <tr>\r\n",
       "                                <td>$\\left|01\\right\\rangle$</td>\r\n",
       "                                <td>$0.7071 + 0.0000 i$</td>\r\n",
       "                                \r\n",
       "                                <td>\r\n",
       "                                    <progress\r\n",
       "                                        max=\"100\"\r\n",
       "                                        value=\"50.000000000000014\"\r\n",
       "                                        style=\"width: 100%;\"\r\n",
       "                                    > \r\n",
       "                                    <td>\r\n",
       "                                    <p id=\"round-43124d88-aefb-464e-b8de-b7af26884047\"> \r\n",
       "                                    <script>\r\n",
       "                                    var num = 50.000000000000014;\r\n",
       "                                    num = num.toFixed(4);\r\n",
       "                                    var num_string = num + \"%\";\r\n",
       "                                     document.getElementById(\"round-43124d88-aefb-464e-b8de-b7af26884047\").innerHTML = num_string;\r\n",
       "                                    </script> </p>\r\n",
       "                                    </td>\r\n",
       "                                </td>\r\n",
       "                            \r\n",
       "                                \r\n",
       "                                <td style=\"transform: rotate(0deg);\r\n",
       "                   text-align: center;\">\r\n",
       "                                 ↑\r\n",
       "                                </td>\r\n",
       "                            \r\n",
       "                            </tr>\r\n",
       "                        \n",
       "\r\n",
       "                            <tr>\r\n",
       "                                <td>$\\left|10\\right\\rangle$</td>\r\n",
       "                                <td>$0.7071 + 0.0000 i$</td>\r\n",
       "                                \r\n",
       "                                <td>\r\n",
       "                                    <progress\r\n",
       "                                        max=\"100\"\r\n",
       "                                        value=\"50.000000000000014\"\r\n",
       "                                        style=\"width: 100%;\"\r\n",
       "                                    > \r\n",
       "                                    <td>\r\n",
       "                                    <p id=\"round-0517afcd-577d-472c-90ec-139a2eade6ba\"> \r\n",
       "                                    <script>\r\n",
       "                                    var num = 50.000000000000014;\r\n",
       "                                    num = num.toFixed(4);\r\n",
       "                                    var num_string = num + \"%\";\r\n",
       "                                     document.getElementById(\"round-0517afcd-577d-472c-90ec-139a2eade6ba\").innerHTML = num_string;\r\n",
       "                                    </script> </p>\r\n",
       "                                    </td>\r\n",
       "                                </td>\r\n",
       "                            \r\n",
       "                                \r\n",
       "                                <td style=\"transform: rotate(0deg);\r\n",
       "                   text-align: center;\">\r\n",
       "                                 ↑\r\n",
       "                                </td>\r\n",
       "                            \r\n",
       "                            </tr>\r\n",
       "                        \n",
       "\r\n",
       "                            <tr>\r\n",
       "                                <td>$\\left|11\\right\\rangle$</td>\r\n",
       "                                <td>$0.0000 + 0.0000 i$</td>\r\n",
       "                                \r\n",
       "                                <td>\r\n",
       "                                    <progress\r\n",
       "                                        max=\"100\"\r\n",
       "                                        value=\"0\"\r\n",
       "                                        style=\"width: 100%;\"\r\n",
       "                                    > \r\n",
       "                                    <td>\r\n",
       "                                    <p id=\"round-f7c6e844-0c8b-46af-b310-648cdec37244\"> \r\n",
       "                                    <script>\r\n",
       "                                    var num = 0;\r\n",
       "                                    num = num.toFixed(4);\r\n",
       "                                    var num_string = num + \"%\";\r\n",
       "                                     document.getElementById(\"round-f7c6e844-0c8b-46af-b310-648cdec37244\").innerHTML = num_string;\r\n",
       "                                    </script> </p>\r\n",
       "                                    </td>\r\n",
       "                                </td>\r\n",
       "                            \r\n",
       "                                \r\n",
       "                                <td style=\"transform: rotate(0deg);\r\n",
       "                   text-align: center;\">\r\n",
       "                                 ↑\r\n",
       "                                </td>\r\n",
       "                            \r\n",
       "                            </tr>\r\n",
       "                        \r\n",
       "                        </tbody>\r\n",
       "                    </table>"
      ],
      "text/plain": [
       "|00⟩\t0 + 0𝑖\n",
       "|01⟩\t0.7071067811865476 + 0𝑖\n",
       "|10⟩\t0.7071067811865476 + 0𝑖\n",
       "|11⟩\t0 + 0𝑖"
      ]
     },
     "metadata": {},
     "output_type": "display_data"
    },
    {
     "data": {
      "application/x-qsharp-data": "\"Success!\"",
      "text/plain": [
       "Success!"
      ]
     },
     "execution_count": 1,
     "metadata": {},
     "output_type": "execute_result"
    }
   ],
   "source": [
    "%kata T109_BellStateChange2\n",
    "\n",
    "operation BellStateChange2 (qs : Qubit[]) : Unit is Adj+Ctl {\n",
    "    X(qs[0]);// alternatively X(qs[1]);\n",
    "}"
   ]
  },
  {
   "cell_type": "markdown",
   "id": "6ebdfcea",
   "metadata": {},
   "source": [
    "[Return to Task 1.9 of the Basic Gates kata](./BasicGates.ipynb#Task-1.9.-Bell-state-change---2)"
   ]
  },
  {
   "cell_type": "markdown",
   "id": "b0c75bb9",
   "metadata": {},
   "source": [
    "### Task 1.10. Bell state change - 3\n",
    "\n",
    "**Input:** Two entangled qubits in Bell state $|\\Phi^{+}\\rangle = \\frac{1}{\\sqrt{2}} \\big(|00\\rangle + |11\\rangle\\big)$.\n",
    "\n",
    "**Goal:**  Change the two-qubit state, without adding a global phase, to $|\\Psi^{-}\\rangle = \\frac{1}{\\sqrt{2}} \\big(|01\\rangle - |10\\rangle\\big)$.\n",
    "\n",
    "<details>\n",
    "    <summary><b>Need a hint? Click here</b></summary>\n",
    "A similar transformation could be done using a single <b>Y</b> gate on the first qubit. However the <b>Y</b> gate also adds a global phase (more on that can be found <a href=\"../tutorials/Qubit/Qubit.ipynb#Relative-and-Global-Phase\">here</a>) which is not intended in this exercise.  \n",
    "\n",
    "Look for a solution, possibly with multiple gates, which has a very similar transformation as the <b>Y</b> gate but without adding a global phase.    \n",
    "</details>"
   ]
  },
  {
   "cell_type": "markdown",
   "id": "bb1ff478",
   "metadata": {},
   "source": [
    "We remember from Task 1.3 that the Pauli-Z gate will leave the sign of the $|0\\rangle$ component of the single qubit superposition unchanged but flips the sign of the $|1\\rangle$ component of the superposition. We have also just seen in Task 1.9 how to change our Input to our Goal for, disregarding the phas change for the moment. So it would seem that a combination of these two gate wiill be what we need here. The remaining question is in what order to apply them, and to which qubit.\n",
    "\n",
    "First of all which qubit? Looking back at Task 1.9 it seems clear that we need to use qubit[0].\n",
    "So in what order should we apply the gates? Remember that the Pauli-Zgate flips the phase of the $|1\\rangle$ component of the superposition and leaves the $|0\\rangle$ component alone.   \n",
    "Let's experiment with applying X to qs[0] first.  first.Looking at what could now be our half way answer of $\\frac{1}{\\sqrt{2}} \\big(|01\\rangle + |10\\rangle\\big)$ we can see that if we apply the Z gate to qs[0] it will leave the $0_{A}$ alone but flip the phase of $1_{A}$ to $-1_{A}$ so flipping the phase of the $|11\\rangle$ component of our  Bell state.  \n",
    "Let's see this in action by running the cell below."
   ]
  },
  {
   "cell_type": "code",
   "execution_count": null,
   "id": "3fb30e25",
   "metadata": {},
   "outputs": [],
   "source": [
    "%kata T110_BellStateChange3\n",
    "\n",
    "operation BellStateChange3 (qs : Qubit[]) : Unit is Adj+Ctl {\n",
    "    Z(qs[0]);\n",
    "    X(qs[0]);\n",
    "   \n",
    "}"
   ]
  },
  {
   "cell_type": "markdown",
   "id": "330538d3",
   "metadata": {},
   "source": [
    "Let's also see the effect of using these gates in the reverse order, i.e. Z then X. Run the cell below and look at the actual state."
   ]
  },
  {
   "cell_type": "code",
   "execution_count": null,
   "id": "3cd50144",
   "metadata": {},
   "outputs": [],
   "source": [
    "%kata T110_BellStateChange3\n",
    "\n",
    "operation BellStateChange3 (qs : Qubit[]) : Unit is Adj+Ctl {\n",
    "    Z(qs[0]);\n",
    "    X(qs[0]);\n",
    "   \n",
    "}"
   ]
  },
  {
   "cell_type": "markdown",
   "id": "b345ede4",
   "metadata": {},
   "source": [
    "What we have there is $\\frac{1}{\\sqrt{2}} \\big(-|01\\rangle + |10\\rangle\\big)$. This can be written as  $-\\frac{1}{\\sqrt{2}} \\big(|01\\rangle - |10\\rangle\\big)$. Thus we can see that using the gates in the reverse order compared to the correct solution has introduced a global phase of  -1."
   ]
  },
  {
   "cell_type": "markdown",
   "id": "b2ca88f1",
   "metadata": {},
   "source": [
    "As a final comment, let's notice that the operation is marked as **Adj** (short for adjoint. This means that it must be reversible. Let's do an experiment to test this with our correct answer. We will apply  X followed by  Z and then reverse this and apply Z followed by X in one sequence . This sequence  should take us back to the initial state. Run the next cell and just look at the actual state produced and not the final judgement."
   ]
  },
  {
   "cell_type": "code",
   "execution_count": null,
   "id": "24ef1b32",
   "metadata": {},
   "outputs": [],
   "source": [
    "%kata T110_BellStateChange3\n",
    "\n",
    "operation BellStateChange3 (qs : Qubit[]) : Unit is Adj+Ctl {\n",
    "    X(qs[0]);\n",
    "    Z(qs[0]);\n",
    "    Z(qs[0]);\n",
    "    X(qs[0]);\n",
    "    \n",
    "}"
   ]
  },
  {
   "cell_type": "markdown",
   "id": "cdfc26c4",
   "metadata": {},
   "source": [
    "The only twist in this tale is that you will get the state $\\frac{1}{\\sqrt{2}} \\big(-|00\\rangle - |11\\rangle\\big)$ as the actual state witha probability of 0.5. From previous discussions you should be able to see that this state may be written as $-\\frac{1}{\\sqrt{2}} \\big(|00\\rangle + |11\\rangle\\big)$ which is $(-1)\\frac{1}{\\sqrt{2}} \\big(|00\\rangle + |11\\rangle\\big)$ so this adjoint operation has intoduced an ummeasurable global phase of -1."
   ]
  },
  {
   "cell_type": "markdown",
   "id": "3a986481",
   "metadata": {},
   "source": [
    "[Return to Task 1.10 of the Basic Gates kata](./BasicGates.ipynb#Task-1.10.-Bell-state-change---3)"
   ]
  }
 ],
 "metadata": {
  "kernelspec": {
   "display_name": "Q#",
   "language": "qsharp",
   "name": "iqsharp"
  },
  "language_info": {
   "file_extension": ".qs",
   "mimetype": "text/x-qsharp",
   "name": "qsharp",
   "version": "0.14"
  },
  "widgets": {
   "application/vnd.jupyter.widget-state+json": {
    "state": {},
    "version_major": 2,
    "version_minor": 0
   }
  }
 },
 "nbformat": 4,
 "nbformat_minor": 5
}
