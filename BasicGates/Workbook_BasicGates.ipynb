{
 "cells": [
  {
   "cell_type": "markdown",
   "id": "d979bb76",
   "metadata": {
    "tags": []
   },
   "source": [
    "# Basic Gates Kata Workbook\n",
    "\n",
    "**What is this workbook?** \n",
    "A workbook is a collection of problems, accompanied by solutions to them. The explanations focus on the logical steps required to solve a problem; they illustrate the concepts that need to be applied to come up with a solution to the problem, explaining the mathematical steps required.\n",
    "\n",
    "Note that a workbook should not be the primary source of knowledge on the subject matter; it assumes that you've already read a tutorial or a textbook and that you are now seeking to improve your problem-solving skills. You should attempt solving the tasks of the respective kata first, and turn to the workbook only if stuck or for reinforcement. While a textbook emphasizes knowledge acquisition, a workbook emphasizes skill acquisition.\n",
    "\n",
    "This workbook describes the solutions to the problems offered in the [Basic Gates Kata](./BasicGates.ipynb). \n",
    "Since the tasks are offered as programming problems, the explanations also cover some elements of Q# that might be non-obvious for a novitiate."
   ]
  },
  {
   "cell_type": "markdown",
   "id": "f16b3e68",
   "metadata": {},
   "source": [
    "**What you should know for this workbook**\n",
    "\n",
    "You should be familiar with the following concepts and associated techniques **prior to** beginning work on the Basic Gates Quantum Kata.\n",
    "\n",
    "1. [Complex numbers](../tutorials/ComplexArithmetic/ComplexArithmetic.ipynb).\n",
    "2. Basic linear algebra (multiplying column vectors by matrices), per the first part of [this tutorial](../tutorials/LinearAlgebra/LinearAlgebra.ipynb).\n",
    "3. [The concept of qubit and its properties](../tutorials/Qubit/Qubit.ipynb).\n",
    "4. [Single-qubit gates](../tutorials/SingleQubitGates/SingleQubitGates.ipynb).\n",
    "\n",
    "You can also consult the [complete Quantum Katas learning path](https://github.com/microsoft/QuantumKatas#learning-path)."
   ]
  },
  {
   "cell_type": "markdown",
   "id": "eade94af",
   "metadata": {},
   "source": [
    "# Part 1. Single-Qubit Gates\n"
   ]
  },
  {
   "cell_type": "markdown",
   "id": "12b8ec79",
   "metadata": {
    "jp-MarkdownHeadingCollapsed": true,
    "tags": []
   },
   "source": [
    "## Task 1.1. State flip: $|0\\rangle$ to $|1\\rangle$ and vice versa\n",
    "\n",
    "**Input:** A qubit in state $|\\psi\\rangle = \\alpha |0\\rangle + \\beta |1\\rangle$.\n",
    "\n",
    "**Goal:**  Change the state of the qubit to $\\alpha |1\\rangle + \\beta |0\\rangle$.\n",
    "\n",
    "**Example:**\n",
    "\n",
    "If the qubit is in state $|0\\rangle$, change its state to $|1\\rangle$.\n",
    "\n",
    "If the qubit is in state $|1\\rangle$, change its state to $|0\\rangle$."
   ]
  },
  {
   "cell_type": "markdown",
   "id": "dbd69fff",
   "metadata": {},
   "source": [
    "### Solution"
   ]
  },
  {
   "cell_type": "markdown",
   "id": "a8c582e6",
   "metadata": {},
   "source": [
    "We can recognise that the Pauli X gate will change the state $|0\\rangle$ to $|1\\rangle$ and vice versa, and $\\alpha |0\\rangle + \\beta |1\\rangle$ to $\\alpha |1\\rangle + \\beta |0\\rangle$.\n",
    "\n",
    "As a reminder, the Pauli X gate is defined by the following matrix:"
   ]
  },
  {
   "cell_type": "markdown",
   "id": "56798096",
   "metadata": {},
   "source": [
    "$$\n",
    "X = \n",
    "\\begin{bmatrix}\n",
    "   0 &  1\\\\\n",
    "  1 &  0\n",
    "\\end{bmatrix}\n",
    "$$\n",
    "\n",
    "We can see how it affects, for example, the basis state $|0\\rangle$:"
   ]
  },
  {
   "cell_type": "markdown",
   "id": "08e2129f",
   "metadata": {},
   "source": [
    "$$X|0\\rangle= \n",
    "\\begin{bmatrix}\n",
    "   0 &  1\\\\\n",
    "  1 &  0\n",
    "\\end{bmatrix}\n",
    "\\begin{bmatrix}\n",
    "   1\\\\\n",
    "   0\n",
    "\\end{bmatrix}\n",
    "=\n",
    "\\begin{bmatrix}\n",
    "   0 \\cdot 1 + 1 \\cdot 0\\\\\n",
    "   1 \\cdot 1 + 0 \\cdot 0\n",
    "\\end{bmatrix}\n",
    "=\n",
    "\\begin{bmatrix}\n",
    "   0\\\\\n",
    "   1\n",
    "\\end{bmatrix}\n",
    "=|1\\rangle\n",
    "$$"
   ]
  },
  {
   "cell_type": "markdown",
   "id": "a3385b4b",
   "metadata": {},
   "source": [
    "Similarly, we can consider the effect of the X gate on the superposition state $|\\psi\\rangle = 0.6|0\\rangle + 0.8|1\\rangle$:"
   ]
  },
  {
   "cell_type": "markdown",
   "id": "4531e479",
   "metadata": {},
   "source": [
    "$$X|\\psi\\rangle= \n",
    "\\begin{bmatrix}\n",
    "   0 &  1\\\\\n",
    "  1 &  0\n",
    "\\end{bmatrix}\n",
    "\\begin{bmatrix}\n",
    "   0.6\\\\\n",
    "   0.8\n",
    "\\end{bmatrix}\n",
    "=\n",
    "\\begin{bmatrix}\n",
    "  0 \\cdot 0.6  + 1 \\cdot 0.8\\\\\n",
    "   1 \\cdot 0.6 + 0 \\cdot 0.8\n",
    "\\end{bmatrix}\n",
    "=\n",
    "\\begin{bmatrix}\n",
    "   0.8\\\\\n",
    "   0.6\n",
    "\\end{bmatrix}\n",
    "=  0.8|0\\rangle + 0.6|1\\rangle\n",
    "$$"
   ]
  },
  {
   "cell_type": "code",
   "execution_count": null,
   "id": "44aa8bac",
   "metadata": {},
   "outputs": [],
   "source": [
    "%kata T101_StateFlip \n",
    "\n",
    "operation StateFlip (q : Qubit) : Unit is Adj+Ctl {\n",
    "    X(q);\n",
    "}"
   ]
  },
  {
   "cell_type": "markdown",
   "id": "618622c0",
   "metadata": {},
   "source": [
    "[Return to Task 1.1 of the Basic Gates kata.](./BasicGates.ipynb#Task-1.1.-State-flip:-$|0\\rangle$-to-$|1\\rangle$-and-vice-versa)"
   ]
  },
  {
   "cell_type": "markdown",
   "id": "6255d213",
   "metadata": {
    "tags": []
   },
   "source": [
    "## Task 1.2. Basis change: $|0\\rangle$ to $|+\\rangle$ and $|1\\rangle$ to $|-\\rangle$ (and vice versa)\n",
    "\n",
    "**Input**: A qubit in state $|\\psi\\rangle = \\alpha |0\\rangle + \\beta |1\\rangle$.\n",
    "\n",
    "**Goal**:  Change the state of the qubit as follows:\n",
    "* If the qubit is in state $|0\\rangle$, change its state to $|+\\rangle = \\frac{1}{\\sqrt{2}} \\big(|0\\rangle + |1\\rangle\\big)$.\n",
    "* If the qubit is in state $|1\\rangle$, change its state to $|-\\rangle = \\frac{1}{\\sqrt{2}} \\big(|0\\rangle - |1\\rangle\\big)$.\n",
    "* If the qubit is in superposition, change its state according to the effect on basis vectors."
   ]
  },
  {
   "cell_type": "markdown",
   "id": "3340f025",
   "metadata": {},
   "source": [
    "### Solution"
   ]
  },
  {
   "cell_type": "markdown",
   "id": "2567e4d7",
   "metadata": {
    "tags": []
   },
   "source": [
    "We can recognize that the Hadamard gate changes states $|0\\rangle$ and $|1\\rangle$ to $|+\\rangle$ and $|-\\rangle$, respectively, and vice versa.\n",
    "\n",
    "As a reminder, the Hadamard gate is defined by the following matrix:"
   ]
  },
  {
   "cell_type": "markdown",
   "id": "88803699",
   "metadata": {
    "tags": []
   },
   "source": [
    "$$\n",
    "\\frac{1}{\\sqrt{2}}\\begin{bmatrix}\n",
    "1 & 1 \\\\\n",
    "1 & -1\n",
    "\\end{bmatrix}\n",
    "$$\n",
    "\n",
    "For example, we can work out $H|1\\rangle$ as follows:"
   ]
  },
  {
   "cell_type": "markdown",
   "id": "86102f47",
   "metadata": {
    "tags": []
   },
   "source": [
    "$$\n",
    "H|1\\rangle=\n",
    "\\frac{1}{\\sqrt{2}}\\begin{bmatrix}\n",
    "   1 & 1 \\\\\n",
    "   1 & -1\n",
    "  \\end{bmatrix}\n",
    " \\begin{bmatrix}\n",
    "   0\\\\\n",
    "   1\\\\\n",
    "  \\end{bmatrix}\n",
    "=\n",
    "\\frac{1}{\\sqrt{2}}\\begin{bmatrix}\n",
    "   1 \\cdot 0 + 1 \\cdot 1 \\\\\n",
    "   1 \\cdot 0 + (-1) \\cdot 1\n",
    "  \\end{bmatrix}\n",
    "=\n",
    "  \\frac{1}{\\sqrt{2}}\\begin{bmatrix}\n",
    "   1\\\\\n",
    "   -1\n",
    "  \\end{bmatrix}\n",
    "= \\frac{1}{\\sqrt{2}} \\big(|0\\rangle - |1\\rangle\\big) = |-\\rangle\n",
    "$$"
   ]
  },
  {
   "cell_type": "markdown",
   "id": "186c9f41",
   "metadata": {},
   "source": [
    "Similarly, we can consider the effect of the Hadamard gate on the superposition state $|\\psi\\rangle = 0.6|0\\rangle + 0.8|1\\rangle$ (rounding the numbers to 4 decimal places):"
   ]
  },
  {
   "cell_type": "markdown",
   "id": "ac9f7fbf",
   "metadata": {},
   "source": [
    "$$\n",
    "H|\\psi⟩ = \n",
    "\\frac{1}{\\sqrt{2}}\\begin{bmatrix}\n",
    "   1 & 1 \\\\\n",
    "   1 & -1\n",
    "  \\end{bmatrix}\n",
    " \\begin{bmatrix}\n",
    "   \\alpha\\\\\n",
    "   \\beta\\\\\n",
    "  \\end{bmatrix}\n",
    " =\n",
    "\\frac{1}{\\sqrt{2}}\\begin{bmatrix}\n",
    "   \\alpha + \\beta\\\\\n",
    "   \\alpha - \\beta\\\\\n",
    "  \\end{bmatrix}\n",
    "= 0.7071\\begin{bmatrix}\n",
    "   1.4\\\\\n",
    "   -0.2\\\\\n",
    "  \\end{bmatrix}\n",
    "= \\begin{bmatrix}\n",
    "   0.98994\\\\\n",
    "   -0.14142\\\\\n",
    "  \\end{bmatrix}\n",
    "= 0.9899|0\\rangle - 0.1414|1\\rangle\n",
    " $$"
   ]
  },
  {
   "cell_type": "code",
   "execution_count": null,
   "id": "339f82ec",
   "metadata": {},
   "outputs": [],
   "source": [
    "%kata T102_BasisChange \n",
    "\n",
    "operation BasisChange (q : Qubit) : Unit is Adj+Ctl {\n",
    "    H(q);\n",
    "}"
   ]
  },
  {
   "cell_type": "markdown",
   "id": "c1cad2ae",
   "metadata": {},
   "source": [
    "[Return to Task 1.2 of the Basic Gates kata](./BasicGates.ipynb#Task-1.2.-Basis-change:-$|0\\rangle$-to-$|+\\rangle$-and-$|1\\rangle$-to-$|-\\rangle$-(and-vice-versa))."
   ]
  },
  {
   "cell_type": "markdown",
   "id": "77541003",
   "metadata": {},
   "source": [
    "   "
   ]
  },
  {
   "cell_type": "markdown",
   "id": "344ac05f",
   "metadata": {},
   "source": [
    "## Task 1.3. Sign flip: $|+\\rangle$  to $|-\\rangle$  and vice versa.\n",
    "\n",
    "**Input**: A qubit in state $|\\psi\\rangle = \\alpha |0\\rangle + \\beta |1\\rangle$.\n",
    "\n",
    "**Goal** :  Change the qubit state to $\\alpha |0\\rangle - \\beta |1\\rangle$ (i.e. flip the sign of the $|1\\rangle$ component of the superposition).\n"
   ]
  },
  {
   "cell_type": "markdown",
   "id": "abffa4bf",
   "metadata": {},
   "source": [
    "### Solution"
   ]
  },
  {
   "cell_type": "markdown",
   "id": "b3e3cd6e",
   "metadata": {},
   "source": [
    "The action of the Pauli Z gate is exactly what is required by this question.\n",
    "This gate leaves the sign of the $|0\\rangle$ component of the superposition unchanged but flips the sign of the $|1\\rangle$ component of the superposition.\n",
    "\n",
    "As a reminder, the Pauli Z gate is defined by the following matrix:"
   ]
  },
  {
   "cell_type": "markdown",
   "id": "bc41a463",
   "metadata": {},
   "source": [
    "$$\n",
    "Z = \n",
    " \\begin{bmatrix}\n",
    "   1 & 0\\\\\n",
    "   0 & -1\n",
    "  \\end{bmatrix}\n",
    " $$\n",
    " \n",
    "Let's see its effect on the only computational basis state that it changes, $|1\\rangle$:\n",
    "\n",
    "$$\n",
    "Z|1\\rangle =\n",
    " \\begin{bmatrix}\n",
    "   1 & 0\\\\\n",
    "   0 & -1\n",
    "  \\end{bmatrix}\n",
    " \\begin{bmatrix}\n",
    "   0\\\\\n",
    "   1\\\\\n",
    "  \\end{bmatrix}\n",
    "=\n",
    "\\begin{bmatrix}\n",
    "   1 \\cdot 0 + 0 \\cdot1\\\\\n",
    "   0 \\cdot 1 +  -1 \\cdot 1\\\\\n",
    "  \\end{bmatrix}\n",
    "=\n",
    " \\begin{bmatrix}\n",
    "   0\\\\\n",
    "   -1\\\\\n",
    "  \\end{bmatrix}\n",
    "=\n",
    " -\\begin{bmatrix}\n",
    "   0\\\\\n",
    "   1\\\\\n",
    "  \\end{bmatrix}\n",
    "= -|1\\rangle\n",
    "$$"
   ]
  },
  {
   "cell_type": "markdown",
   "id": "4b3cda6d",
   "metadata": {},
   "source": [
    "In general applying the Z gate to a single qubit superposition state $|\\psi\\rangle = \\alpha |0\\rangle + \\beta |1\\rangle$ gives"
   ]
  },
  {
   "cell_type": "markdown",
   "id": "3179e926",
   "metadata": {},
   "source": [
    "$$\n",
    "Z|\\psi\\rangle = \n",
    " \\begin{bmatrix}\n",
    "   1 & 0 \\\\\n",
    "   0 & -1\n",
    "  \\end{bmatrix}\n",
    " \\begin{bmatrix}\n",
    "   \\alpha\\\\\n",
    "   \\beta\\\\\n",
    "  \\end{bmatrix}\n",
    "  =\n",
    "\\begin{bmatrix}\n",
    "   1\\cdot\\alpha + 0\\cdot\\beta\\\\\n",
    "   0\\cdot\\alpha + -1\\cdot\\beta\\\\\n",
    "  \\end{bmatrix} \n",
    "  =\n",
    " \\begin{bmatrix}\n",
    "   \\alpha\\\\\n",
    "   -\\beta\\\\\n",
    "  \\end{bmatrix}  \n",
    "= \\alpha |0\\rangle -\\beta |1\\rangle\n",
    "$$"
   ]
  },
  {
   "cell_type": "code",
   "execution_count": null,
   "id": "2caae70b",
   "metadata": {
    "tags": []
   },
   "outputs": [],
   "source": [
    "%kata T103_SignFlip\n",
    "\n",
    "operation SignFlip (q : Qubit) : Unit is Adj+Ctl {\n",
    "    Z(q);\n",
    "}"
   ]
  },
  {
   "cell_type": "markdown",
   "id": "6df0c9fc",
   "metadata": {},
   "source": [
    "[Return to Task 1.3 of the Basic Gates kata](./BasicGates.ipynb#Task-1.3.-Sign-flip:-$|+\\rangle$--to-$|-\\rangle$--and-vice-versa.)."
   ]
  },
  {
   "cell_type": "markdown",
   "id": "985d868b",
   "metadata": {
    "tags": []
   },
   "source": [
    "## Task 1.4. Amplitude change: $|0\\rangle$ to $\\cos{α} |0\\rangle + \\sin{α} |1\\rangle$.\n",
    "\n",
    "**Inputs:**\n",
    "\n",
    "1. Angle α, in radians, represented as Double.\n",
    "2. A qubit in state $|\\psi\\rangle = \\beta |0\\rangle + \\gamma |1\\rangle$.\n",
    "\n",
    "**Goal:**  Change the state of the qubit as follows:\n",
    "- If the qubit is in state $|0\\rangle$, change its state to $\\cos{α} |0\\rangle + \\sin{α} |1\\rangle$.\n",
    "- If the qubit is in state $|1\\rangle$, change its state to $-\\sin{α} |0\\rangle + \\cos{α} |1\\rangle$.\n",
    "- If the qubit is in superposition, change its state according to the effect on basis vectors."
   ]
  },
  {
   "cell_type": "markdown",
   "id": "40668091",
   "metadata": {},
   "source": [
    "### Solution"
   ]
  },
  {
   "cell_type": "markdown",
   "id": "e460fb7b",
   "metadata": {},
   "source": [
    "We can recognise that we need to use one of the rotation gates Rx, Ry, and Rz (named because they \"rotate\" the qubit state in the three dimensional space visualized as the Bloch sphere about the x, y, and z axes, respectively), since they involve angle parameters. Of these three gates, only Ry rotates the basis states $|0\\rangle$ and $|1\\rangle$ to have real amplitudes (the other two gates introduce complex coefficients).\n",
    "\n",
    "As a reminder, "
   ]
  },
  {
   "cell_type": "markdown",
   "id": "ac99385e",
   "metadata": {},
   "source": [
    "$$\n",
    "R_{y}(\\theta) =\n",
    "\\begin{bmatrix}\n",
    "   \\cos \\frac{\\theta}{2} & -\\sin \\frac{\\theta}{2}\\\\\n",
    "   \\sin \\frac{\\theta}{2} & \\cos \\frac{\\theta}{2}\n",
    "  \\end{bmatrix}\n",
    "$$"
   ]
  },
  {
   "cell_type": "markdown",
   "id": "0626bf36",
   "metadata": {},
   "source": [
    "Let's see its effect on the $|0\\rangle$ state:"
   ]
  },
  {
   "cell_type": "markdown",
   "id": "08a815dc",
   "metadata": {},
   "source": [
    "$$\n",
    "R_y(\\theta)|0\\rangle =\n",
    "\\begin{bmatrix}\n",
    "   \\cos \\frac{\\theta}{2} & -\\sin \\frac{\\theta}{2}\\\\\n",
    "   \\sin \\frac{\\theta}{2} & \\cos \\frac{\\theta}{2}\n",
    "  \\end{bmatrix}\n",
    "\\begin{bmatrix}\n",
    "   1\\\\\n",
    "   0\\\\\n",
    "\\end{bmatrix}\n",
    "=\n",
    "\\begin{bmatrix}\n",
    "   \\cos \\frac{\\theta}{2}\\cdot1 - \\sin \\frac{\\theta}{2}\\cdot0\\\\\n",
    "   \\sin \\frac{\\theta}{2}\\cdot1 + \\cos \\frac{\\theta}{2}\\cdot0\n",
    "  \\end{bmatrix}\n",
    "=\n",
    "\\begin{bmatrix}\n",
    "   \\cos \\frac{\\theta}{2}\\\\\n",
    "   \\sin \\frac{\\theta}{2}\n",
    "  \\end{bmatrix}\n",
    "= \\cos\\frac{\\theta}{2} |0\\rangle + \\sin\\frac{\\theta}{2} |1\\rangle\n",
    "$$"
   ]
  },
  {
   "cell_type": "markdown",
   "id": "0ef07d7e",
   "metadata": {},
   "source": [
    "Recall that when applying a gate, you can tell what its matrix does to the basis states by looking at its columns: the first column of the matrix is the state into which it will transform the $|0\\rangle$ state, and the second column is the state into which it will transfrom the $|1\\rangle$ state."
   ]
  },
  {
   "cell_type": "markdown",
   "id": "4898bedb",
   "metadata": {},
   "source": [
    "In the example used by the testing harness we are given $\\beta = 0.6, \\gamma = 0.8$ and $\\alpha = 1.0471975511965976 = \\frac{\\pi}{3}$."
   ]
  },
  {
   "cell_type": "markdown",
   "id": "a9bd667c",
   "metadata": {},
   "source": [
    "Since $\\cos \\frac{\\pi}{3} = 0.5$  and $\\sin \\frac{\\pi}{3} = 0.8660$, working to 4 decimal places, we can compute:"
   ]
  },
  {
   "cell_type": "markdown",
   "id": "36653ed9",
   "metadata": {},
   "source": [
    "$$\n",
    "R_{y}(\\theta) |\\psi\\rangle\n",
    "=\n",
    " \\begin{bmatrix}\n",
    "   \\cos \\frac{\\theta}{2} & -\\sin \\frac{\\theta}{2}\\\\\n",
    "   \\sin \\frac{\\theta}{2} & \\cos \\frac{\\theta}{2}\n",
    "  \\end{bmatrix} \n",
    "  \\begin{bmatrix}\n",
    "   \\beta\\\\\n",
    "  \\gamma\n",
    " \\end{bmatrix}\n",
    "=\n",
    "\\begin{bmatrix}\n",
    "   cos \\frac{\\theta}{2}\\cdot\\beta - sin \\frac{\\theta}{2}\\cdot\\gamma\\\\\n",
    "   sin \\frac{\\theta}{2}\\cdot\\beta +cos \\frac{\\theta}{2}\\cdot\\gamma\n",
    "  \\end{bmatrix}\n",
    "=  \n",
    " \\begin{bmatrix}\n",
    "   0.6\\cdot\\cos \\frac{\\pi}{3} -0.8\\cdot\\sin \\frac{\\pi}{3}\\\\\n",
    "   0.6\\cdot\\sin \\frac{\\pi}{3} +0.8\\cdot\\cos \\frac{\\pi}{3}\n",
    "  \\end{bmatrix}\n",
    "=\n",
    " \\begin{bmatrix}\n",
    "   0.3 - 0.6928\\\\\n",
    "   0.5196 + 0.4\n",
    "  \\end{bmatrix}\n",
    "=\n",
    "  \\begin{bmatrix}\n",
    "   -0.3928\\\\\n",
    "    0.9196\n",
    "  \\end{bmatrix}\n",
    "$$ "
   ]
  },
  {
   "cell_type": "markdown",
   "id": "ba5c310f",
   "metadata": {},
   "source": [
    "Notice that we used $\\frac{\\theta}{2} = \\alpha$; this means that in the Q# code we need to pass the angle $\\theta = 2\\alpha$."
   ]
  },
  {
   "cell_type": "code",
   "execution_count": null,
   "id": "1f7b8ca0",
   "metadata": {},
   "outputs": [],
   "source": [
    "%kata T104_AmplitudeChange\n",
    "\n",
    "operation AmplitudeChange (alpha : Double, q : Qubit) : Unit is Adj+Ctl {\n",
    "    Ry(2.0 * alpha, q);\n",
    "}"
   ]
  },
  {
   "cell_type": "markdown",
   "id": "65b6cf44",
   "metadata": {},
   "source": [
    "[Return to Task 1.4 of the Basic Gates kata](./BasicGates.ipynb#Task-1.4.-Amplitude-change:-$|0\\rangle$-to-$\\cos{α}-|0\\rangle-+-\\sin{α}-|1\\rangle$.)."
   ]
  },
  {
   "cell_type": "markdown",
   "id": "a6670a23",
   "metadata": {},
   "source": [
    "## Task 1.5. Phase flip\n",
    "\n",
    "**Input:** A qubit in state $|\\psi\\rangle = \\alpha |0\\rangle + \\beta |1\\rangle$.\n",
    "\n",
    "**Goal:** Change the qubit state to $\\alpha |0\\rangle + \\color{red}i\\beta |1\\rangle$ (add a relative phase $i$ to $|1\\rangle$ component of the superposition).\n"
   ]
  },
  {
   "cell_type": "markdown",
   "id": "256018d1",
   "metadata": {},
   "source": [
    "### Solution\n",
    "\n",
    "We can recognise that the S gate performs this particular relative phase addition to the $|1\\rangle$ basis state. As a reminder,"
   ]
  },
  {
   "cell_type": "markdown",
   "id": "ac9a3890",
   "metadata": {},
   "source": [
    "$$\n",
    "S = \n",
    " \\begin{bmatrix}\n",
    "   1 & 0\\\\\n",
    "   0 & i\n",
    "  \\end{bmatrix}\n",
    " $$"
   ]
  },
  {
   "cell_type": "markdown",
   "id": "f449d71a",
   "metadata": {},
   "source": [
    "Let's see the effect of this gate on the general superposition $|\\psi\\rangle = \\alpha |0\\rangle + \\beta |1\\rangle$."
   ]
  },
  {
   "cell_type": "markdown",
   "id": "67fbda94",
   "metadata": {},
   "source": [
    "$$\n",
    " \\begin{bmatrix}\n",
    "   1 & 0 \\\\\n",
    "   0 & i\n",
    "  \\end{bmatrix}\n",
    " \\begin{bmatrix}\n",
    "   \\alpha\\\\\n",
    "   \\beta\\\\\n",
    "  \\end{bmatrix}\n",
    "  =\n",
    "\\begin{bmatrix}\n",
    "   1\\cdot\\alpha + 0\\cdot\\beta\\\\\n",
    "   0\\cdot\\alpha + i\\cdot\\beta\n",
    "  \\end{bmatrix} \n",
    "  =\n",
    " \\begin{bmatrix}\n",
    "   \\alpha\\\\\n",
    "   i\\beta\\\\\n",
    "  \\end{bmatrix}  \n",
    "$$"
   ]
  },
  {
   "cell_type": "markdown",
   "id": "28d238d1",
   "metadata": {},
   "source": [
    "It is therefore easy to see that when $|\\psi\\rangle = 0.6|0\\rangle +  0.8|1\\rangle, S|\\psi\\rangle =  0.6|0\\rangle + 0.8i|1\\rangle$."
   ]
  },
  {
   "cell_type": "code",
   "execution_count": null,
   "id": "a38ea26e",
   "metadata": {},
   "outputs": [],
   "source": [
    "%kata T105_PhaseFlip\n",
    "\n",
    "operation PhaseFlip (q : Qubit) : Unit is Adj+Ctl {\n",
    "    S(q);\n",
    "}"
   ]
  },
  {
   "cell_type": "markdown",
   "id": "87073c2a",
   "metadata": {},
   "source": [
    "### Solution 2\n",
    "\n",
    "See the next task, Phase Change, for an explanation of using R1 gate to implement the same transformation:"
   ]
  },
  {
   "cell_type": "code",
   "execution_count": null,
   "id": "f55a6005",
   "metadata": {},
   "outputs": [],
   "source": [
    "%kata T105_PhaseFlip\n",
    "\n",
    "open Microsoft.Quantum.Math;\n",
    "\n",
    "operation PhaseFlip (q : Qubit) : Unit is Adj+Ctl {\n",
    "    R1(0.5 * PI(), q);\n",
    "}"
   ]
  },
  {
   "cell_type": "markdown",
   "id": "9337939f",
   "metadata": {},
   "source": [
    "[Return to Task 1.5 of the Basic Gates kata](./BasicGates.ipynb#Task-1.5.-Phase-flip)."
   ]
  },
  {
   "cell_type": "markdown",
   "id": "8a06a72b",
   "metadata": {},
   "source": [
    "## Task 1.6. Phase change\n",
    "\n",
    "**Inputs:**\n",
    "\n",
    "1. Angle α, in radians, represented as Double.\n",
    "2. A qubit in state $|\\psi\\rangle = \\beta |0\\rangle + \\gamma |1\\rangle$.\n",
    "\n",
    "**Goal:**  Change the state of the qubit as follows:\n",
    "- If the qubit is in state $|0\\rangle$, don't change its state.\n",
    "- If the qubit is in state $|1\\rangle$, change its state to $e^{i\\alpha} |1\\rangle$.\n",
    "- If the qubit is in superposition, change its state according to the effect on basis vectors: $\\beta |0\\rangle + \\color{red}{e^{i\\alpha}} \\gamma |1\\rangle$."
   ]
  },
  {
   "cell_type": "markdown",
   "id": "1001948c",
   "metadata": {},
   "source": [
    "### Solution\n",
    "We know that:"
   ]
  },
  {
   "cell_type": "markdown",
   "id": "df02a570",
   "metadata": {},
   "source": [
    "$$\n",
    "R1(\\alpha)\n",
    "= \n",
    " \\begin{bmatrix}\n",
    "   1 & 0\\\\\n",
    "   0 & \\color{red}{e^{i\\alpha}}\n",
    "  \\end{bmatrix}\n",
    " $$"
   ]
  },
  {
   "cell_type": "markdown",
   "id": "cb378225",
   "metadata": {},
   "source": [
    "So we have:"
   ]
  },
  {
   "cell_type": "markdown",
   "id": "7dab7bb2",
   "metadata": {},
   "source": [
    "$$\n",
    "R1(\\beta |0\\rangle + \\gamma |1\\rangle) = \n",
    " \\begin{bmatrix}\n",
    "   1 & 0 \\\\\n",
    "   0 & \\color{red}{e^{i\\alpha}}\n",
    "  \\end{bmatrix}\n",
    " \\begin{bmatrix}\n",
    "   \\beta\\\\\n",
    "   \\gamma\\\\\n",
    "  \\end{bmatrix}\n",
    "  =\n",
    "\\begin{bmatrix}\n",
    "   1.\\beta + 0.\\gamma\\\\\n",
    "   0.\\beta + \\color{red}{e^{i\\alpha}}\\gamma\n",
    "  \\end{bmatrix} \n",
    "  =\n",
    " \\begin{bmatrix}\n",
    "   \\beta\\\\\n",
    "   \\color{red}{e^{i\\alpha}}\\gamma\n",
    "  \\end{bmatrix}  \n",
    "  = \\beta |0\\rangle + \\color{red}{e^{i\\alpha}} \\gamma |1\\rangle\n",
    "$$"
   ]
  },
  {
   "cell_type": "markdown",
   "id": "c7a5a8ed",
   "metadata": {},
   "source": [
    "> Note that the results produced by the test harness can be unexpected.\n",
    "If you run the kata several times and  and examine the output, you'll notice that success is signalled even though the corresponding amplitudes of the desired and actual states look very different.\n",
    ">\n",
    "> So what's going on? The full state simulator used in these tests performs the computations \"up to a global phase\", that is, sometimes the resulting state acquires a global phase that doesn't affect the computations or the measurement outcomes, but shows up in DumpMachine output. (You can read more about the global phase in the [Qubit tutorial](../tutorials/Qubit/Qubit.ipynb#Relative-and-Global-Phase).)\n",
    ">\n",
    "> For example, in one run you can get the desired state $(0.6000 + 0000i)|0\\rangle + (-0.1389 +0.7878i)|1\\rangle$ and the actual state $(-0.1042 + 0.5909i)|0\\rangle + (-0.7518 -0.2736i)|1\\rangle$.\n",
    "You can verify that the ratios of amplitudes of the respective basis states are equal: $\\frac{-0.1042 + 0.5909i}{0.6} = -0.173667 +0.984833 i = \\frac{-0.7518 -0.2736i}{-0.1389 +0.7878i}$, so the global phase acquired by the state is (-0.173667 +0.984833 i). \n",
    "You can also check that the absolute value of this multiplier is approximately 1, so it doesn't impact the measurement probabilities.\n",
    ">\n",
    "> The testing harness for this and the rest of the tasks checks that your solution implements the required transformation exactly, without introducing any global phase, so it shows up only in the helper output and does not affect the verification of your solution."
   ]
  },
  {
   "cell_type": "code",
   "execution_count": null,
   "id": "d18b83a4",
   "metadata": {},
   "outputs": [],
   "source": [
    "%kata T106_PhaseChange\n",
    "\n",
    "operation PhaseChange (alpha : Double, q : Qubit) : Unit is Adj+Ctl {\n",
    "   R1(alpha, q);\n",
    "}"
   ]
  },
  {
   "cell_type": "markdown",
   "id": "2c8cf835",
   "metadata": {},
   "source": [
    "Suppose now that $\\alpha = \\frac{\\pi}{2}$.\n",
    "Then $e^{i\\alpha}= \\cos\\frac{\\pi}{2} + i\\sin\\frac{\\pi}{2}$.\n",
    "And, since $\\cos\\frac{\\pi}{2}= 0$ and $\\sin\\frac{\\pi}{2} = 1$, then we have that $\\cos\\frac{\\pi}{2} + i \\sin\\frac{\\pi}{2} = i$, and  \n",
    "$R1(\\frac{\\pi}{2}) = S$, which we used in the second solution to task 1.5, above."
   ]
  },
  {
   "cell_type": "markdown",
   "id": "1d8cec8e",
   "metadata": {},
   "source": [
    "[Return to Task 1.6 of the Basic Gates kata](./BasicGates.ipynb#Task-1.6.-Phase-Change)."
   ]
  },
  {
   "cell_type": "markdown",
   "id": "47fd1aef",
   "metadata": {},
   "source": [
    "## Task 1.7. Global phase change\n",
    "**Input:** A qubit in state $|\\psi\\rangle = \\beta |0\\rangle + \\gamma |1\\rangle$.\n",
    "\n",
    "**Goal**: Change the state of the qubit to $- \\beta |0\\rangle - \\gamma |1\\rangle$.\n",
    "\n",
    "> Note: this change on its own is not observable - there is no experiment you can do on a standalone qubit to figure out whether it acquired the global phase or not. \n",
    "> However, you can use a controlled version of this operation to observe the global phase it introduces. \n",
    "> This is used in later katas as part of more complicated tasks."
   ]
  },
  {
   "cell_type": "markdown",
   "id": "62034425",
   "metadata": {},
   "source": [
    "### Solution\n",
    "\n",
    "We recognise that a global phase change can be accomplished by using the R rotation gate with the PauliI (identity) gate.\n",
    "As a reminder, the R gate is defined as $R_{\\mu}(\\theta) = \\exp(\\frac{\\theta}{2}i\\cdot\\sigma_{\\mu})$, wehere $\\sigma_{\\mu}$ is one of the Pauli gates I, X, Y or Z.  \n",
    "\n",
    "> Note that a global phase is not detectable and has no physical meaning - it disappers when you take a measurement of the state.  \n",
    "> You can read more about this in the [Single-qubit measurements tutorial](../tutorials/SingleQubitSystemMeasurements/SingleQubitSystemMeasurements.ipynb#Measurements-in-arbitrary-orthogonal-bases)."
   ]
  },
  {
   "cell_type": "markdown",
   "id": "14fb7022",
   "metadata": {},
   "source": [
    "For the problem at hand, we'll use the rotation gate $R_{\\mu}(\\theta) = \\exp(\\frac{\\theta}{2}i\\cdot\\sigma_{\\mu})$ with $\\sigma_{\\mu} = I$.  \n",
    "\n",
    "$R(PauliI, 2\\pi) = \\exp(\\frac{2\\pi}{2} iI) = \\exp(i\\pi) I = (\\cos\\pi + i\\sin\\pi) I$ and, since $\\cos\\pi = -1$   and   $\\sin\\pi = 0$, we have that $R(PauliI, 2\\pi) = -I$:   "
   ]
  },
  {
   "cell_type": "markdown",
   "id": "830602b9",
   "metadata": {},
   "source": [
    "$$\n",
    "R(\\beta |0\\rangle + \\gamma |1\\rangle) \n",
    "=\n",
    " -1\\begin{bmatrix}\n",
    "   1 & 0 \\\\\n",
    "   0 & 1\n",
    "  \\end{bmatrix}\n",
    " \\begin{bmatrix}\n",
    "   \\beta\\\\\n",
    "   \\gamma\\\\\n",
    "  \\end{bmatrix}\n",
    "=\n",
    " \\begin{bmatrix}\n",
    "   -1 & 0 \\\\\n",
    "   0 & -1\n",
    "  \\end{bmatrix}\n",
    " \\begin{bmatrix}\n",
    "   \\beta\\\\\n",
    "   \\gamma\\\\\n",
    "  \\end{bmatrix} \n",
    "=\n",
    " \\begin{bmatrix}\n",
    "   -1\\cdot\\beta + 0\\cdot\\gamma\\\\\n",
    "    0\\cdot\\beta +  -1\\cdot\\gamma \\\\\n",
    "  \\end{bmatrix}\n",
    "=\n",
    "\\begin{bmatrix}\n",
    "   -\\beta\\\\\n",
    "   -\\gamma\\\\\n",
    "  \\end{bmatrix}\n",
    "=\n",
    "- \\beta |0\\rangle - \\gamma |1\\rangle\n",
    "$$"
   ]
  },
  {
   "cell_type": "markdown",
   "id": "597a9437",
   "metadata": {},
   "source": [
    "The test harness for this test shows the result of applying the *controlled* variant of your solution to be able to detect the phase change."
   ]
  },
  {
   "cell_type": "code",
   "execution_count": null,
   "id": "e4235844",
   "metadata": {},
   "outputs": [],
   "source": [
    "%kata T107_GlobalPhaseChange\n",
    "\n",
    "open Microsoft.Quantum.Math;\n",
    "\n",
    "operation GlobalPhaseChange (q : Qubit) : Unit is Adj+Ctl {\n",
    "    R(PauliI, 2.0 * PI(), q);\n",
    "}"
   ]
  },
  {
   "cell_type": "markdown",
   "id": "671ab23b",
   "metadata": {},
   "source": [
    "[Return to Task 1.7 of the Basic Gates kata](./BasicGates.ipynb#Task-1.7.-Global-phase-change)."
   ]
  },
  {
   "cell_type": "markdown",
   "id": "410bc755",
   "metadata": {},
   "source": [
    "## Task 1.8. Bell state change - 1\n",
    "\n",
    "**Input:** Two entangled qubits in Bell state $|\\Phi^{+}\\rangle = \\frac{1}{\\sqrt{2}} \\big(|00\\rangle + |11\\rangle\\big)$.\n",
    "\n",
    "**Goal:**  Change the two-qubit state to $|\\Phi^{-}\\rangle = \\frac{1}{\\sqrt{2}} \\big(|00\\rangle - |11\\rangle\\big)$."
   ]
  },
  {
   "cell_type": "markdown",
   "id": "8987fcf6",
   "metadata": {},
   "source": [
    "### Solution"
   ]
  },
  {
   "cell_type": "markdown",
   "id": "ee8ce90d",
   "metadata": {},
   "source": [
    "We recognise that the goal is another Bell state. In fact, it is one of the four Bell states.\n",
    "\n",
    "We remember from Task 1.3 that the Pauli Z gate will change the state of the $|0\\rangle$ basis state of a single qubit, so this gate seems like a good candidate for what we want to achieve. This gate leaves the sign of the $|0\\rangle$ basis state of a superposition unchanged, but flips the sign of the $|1\\rangle$ basis state of the superposition.  \n",
    "\n",
    "Don't forget that the Z gate acts on only a single qubit, and we have two here.\n",
    "Lets also remember how the Bell state is made up from its individual qubits.\n",
    "\n",
    "If the two qubits are A and B, where A is `qs[0]` and and B is `qs[1]`, we can write that\n",
    "$|\\Phi^{+}\\rangle = \\frac{1}{\\sqrt{2}} \\big(|0_{A}0_{B}\\rangle + |1_{A}1_{B}\\rangle\\big)$,  and also remember that this is a superposition."
   ]
  },
  {
   "cell_type": "markdown",
   "id": "21029930",
   "metadata": {},
   "source": [
    "If we apply the Z gate to the qubit A, it will flip the phase of the basis state $|1_A\\rangle$. As this phase is in a sense spread across the entangled state, with $|1_A\\rangle$ basis state being part of the second half of the superposition, this  application has the effect of flipping the sign of the whole basis state $|1_A1_B\\rangle$, as you can see by running the solution below.  \n",
    "\n",
    "> If you run the solution below several times, you will notice that you get the state $\\frac{1}{\\sqrt{2}} \\big(-|00\\rangle + |11\\rangle\\big)$ at a guess as frequently as the goal state. Here is why.  \n",
    "> \n",
    "> We can write this second state as   $-\\frac{1}{\\sqrt{2}} \\big(|00\\rangle -|11\\rangle\\big)$ = $(-1)\\frac{1}{\\sqrt{2}} \\big(|00\\rangle - |11\\rangle\\big)$. \n",
    "This state is the same as our goal state $|\\Phi^{-}\\rangle$ with an unmeasureable global phase of $-1$.\n",
    "\n",
    "The exact same calculations can be done if we apply Z to the qubit B, so that's another possible solution."
   ]
  },
  {
   "cell_type": "code",
   "execution_count": null,
   "id": "b630dad6",
   "metadata": {},
   "outputs": [],
   "source": [
    "%kata T108_BellStateChange1\n",
    "\n",
    "operation BellStateChange1 (qs : Qubit[]) : Unit is Adj+Ctl {\n",
    "    Z(qs[0]); // or Z(qs[1]); \n",
    "}"
   ]
  },
  {
   "cell_type": "markdown",
   "id": "efa6781a",
   "metadata": {},
   "source": [
    "[Return to Task 1.8 of the Basic Gates kata](./BasicGates.ipynb#Task-1.8.-Bell-state-change---1)."
   ]
  },
  {
   "cell_type": "markdown",
   "id": "1a23806f",
   "metadata": {},
   "source": [
    "# Task 1.9. Bell state change - 2\n",
    "\n",
    "**Input:** Two entangled qubits in Bell state $|\\Phi^{+}\\rangle = \\frac{1}{\\sqrt{2}} \\big(|00\\rangle + |11\\rangle\\big)$.\n",
    "\n",
    "**Goal:**  Change the two-qubit state to $|\\Psi^{+}\\rangle = \\frac{1}{\\sqrt{2}} \\big(|01\\rangle + |10\\rangle\\big)$."
   ]
  },
  {
   "cell_type": "markdown",
   "id": "6e3db6b0",
   "metadata": {},
   "source": [
    "### Solution ##\n",
    "We have seen in Task 1.1 that the Pauli X gate flips $|0\\rangle$ to $|1\\rangle$ and vice versa, and as we seem to need some flipping of states, perhaps this gate may be of use. (Bearing in mind, of course, that the X gate operates on a single qubit). \n",
    "\n",
    "Let's compare the starting state $\\frac{1}{\\sqrt{2}} \\big(|0_A0_B\\rangle + |1_A1_B\\rangle\\big)$ with the goal state $\\frac{1}{\\sqrt{2}} \\big(1_A0_B\\rangle + |0_A1_B\\rangle\\big)$ term by term and see how we need to transform it to reach the goal.\n",
    "\n",
    "Using our nomencalure from Task 1.8, we can now see by comparing terms that $|0_{A}\\rangle$ has flipped to $|1_A\\rangle$ to get the first term, and $|1_{A}\\rangle$ has flipped to $|0\\rangle$ to get the second term. This allows us to say that the correct gate to use is Pauli X, applied to `qs[0]`."
   ]
  },
  {
   "cell_type": "code",
   "execution_count": null,
   "id": "1f610c72",
   "metadata": {
    "scrolled": true
   },
   "outputs": [],
   "source": [
    "%kata T109_BellStateChange2\n",
    "\n",
    "operation BellStateChange2 (qs : Qubit[]) : Unit is Adj+Ctl {\n",
    "    X(qs[0]); // or X(qs[1]);\n",
    "}"
   ]
  },
  {
   "cell_type": "markdown",
   "id": "cb05f82a",
   "metadata": {},
   "source": [
    "[Return to Task 1.9 of the Basic Gates kata](./BasicGates.ipynb#Task-1.9.-Bell-state-change---2)."
   ]
  },
  {
   "cell_type": "markdown",
   "id": "ab132171",
   "metadata": {},
   "source": [
    "## Task 1.10. Bell state change - 3\n",
    "\n",
    "**Input:** Two entangled qubits in Bell state $|\\Phi^{+}\\rangle = \\frac{1}{\\sqrt{2}} \\big(|00\\rangle + |11\\rangle\\big)$.\n",
    "\n",
    "**Goal:**  Change the two-qubit state, without adding a global phase, to $|\\Psi^{-}\\rangle = \\frac{1}{\\sqrt{2}} \\big(|01\\rangle - |10\\rangle\\big)$."
   ]
  },
  {
   "cell_type": "markdown",
   "id": "560df3c4",
   "metadata": {},
   "source": [
    "## Solution ##\n",
    "We remember from Task 1.3 that the Pauli-Z gate leaves the sign of the $|0\\rangle$ component of the single qubit superposition unchanged but flips the sign of the $|1\\rangle$ component of the superposition. We have also just seen in Task 1.9 how to change our input state to the state $\\frac{1}{\\sqrt{2}} \\big(|01\\rangle + |10\\rangle\\big)$, which is almost our goal state (disregarding the phase change for the moment). So it would seem that a combination of these two gates wiill be what we need here. The remaining question is in what order to apply them, and to which qubit.\n",
    "\n",
    "First of all, which qubit? Looking back at Task 1.9, it seems clear that we need to use qubit `qs[0]`, like we did there.\n",
    "\n",
    "Second, in what order should we apply the gates? Remember that the Pauli-Z gate flips the phase of the $|1\\rangle$ component of the superposition and leaves the $|0\\rangle$ component alone.   \n",
    "Let's experiment with applying X to `qs[0]` first. Looking at our \"halfway answer\" state $\\frac{1}{\\sqrt{2}} \\big(|01\\rangle + |10\\rangle\\big)$, we can see that if we apply the Z gate to `qs[0]`, it will leave the $|0_{A}\\rangle$ alone but flip the phase of $|1_{A}\\rangle$ to $-|1_{A}\\rangle$, thus flipping the phase of the $|11\\rangle$ component of our  Bell state.  "
   ]
  },
  {
   "cell_type": "code",
   "execution_count": null,
   "id": "f25e2e97",
   "metadata": {},
   "outputs": [],
   "source": [
    "%kata T110_BellStateChange3\n",
    "\n",
    "operation BellStateChange3 (qs : Qubit[]) : Unit is Adj+Ctl {\n",
    "    X(qs[0]);\n",
    "    Z(qs[0]);\n",
    "}"
   ]
  },
  {
   "cell_type": "markdown",
   "id": "303672bc",
   "metadata": {},
   "source": [
    "[Return to Task 1.10 of the Basic Gates kata](./BasicGates.ipynb#Task-1.10.-Bell-state-change---3)."
   ]
  },
  {
   "cell_type": "markdown",
   "id": "385dacb7",
   "metadata": {},
   "source": [
    "## Part II. Multi-Qubit Gates\n",
    "\n",
    "### Task 2.1. Two-qubit gate - 1\n",
    "\n",
    "**Input:** Two unentangled qubits (stored in an array of length 2).\n",
    "The first qubit will be in state $|\\psi\\rangle = \\alpha |0\\rangle + \\beta |1\\rangle$, the second - in state $|0\\rangle$\n",
    "(this can be written as two-qubit state  $\\big(\\alpha |0\\rangle + \\beta |1\\rangle \\big) \\otimes |0\\rangle = \\alpha |00\\rangle + \\beta |10\\rangle$.\n",
    "\n",
    "\n",
    "**Goal:**  Change the two-qubit state to $\\alpha |00\\rangle + \\beta |11\\rangle$.\n",
    "\n",
    "> Note that unless the starting state of the first qubit was $|0\\rangle$ or $|1\\rangle$,\n",
    "> the resulting two-qubit state can not be represented as a tensor product\n",
    "> of the states of individual qubits any longer; thus the qubits become entangled."
   ]
  },
  {
   "cell_type": "markdown",
   "id": "727d5b27",
   "metadata": {},
   "source": [
    "## Solution\n",
    "For our Task, lets use $A= \\alpha |0\\rangle + \\beta |1\\rangle$  and  $B= |0\\rangle$\n",
    "\n",
    "Compare our two inputs qubits in the state $|\\psi\\rangle = \\alpha |0\\rangle + \\beta |1\\rangle$ with the output qubits in the state $\\alpha |00\\rangle + \\beta |11\\rangle$. We want to pass our inputs through a gate, or gates, to be decided, that do the following. If A is in a 0 state ,then we want to leave B alone. However if A is in 1 state we want to flip B from 0 into a 1 state. So, in other words, the state of B is to be made contingent upon the state of A. This gate exists and is called a CNOT (for controlled not)  gate. Dependent upon the value of what is know as the **control** qubit (A in our case) the value of the controlled or **target** qubit (B in our case) is inverted.  Thus we get the output of $\\alpha |00\\rangle + \\beta |11\\rangle$.  \n",
    "\n",
    "It's worth emphasizing that A is initially a superposition, having a measured value of $|\\alpha^{2}|of either or  |\\beta^{2}| where $|\\alpha^{2}| + |\\beta^{2}| for normalisation.  \n",
    "\n",
    "It's worth remembering the significance of  Bell pairs, refering to the $|\\Phi^{+}\\rangle$ pair, given as the goal, in this case. The goal can be described, as we have done in Task 1.8, as $|\\Phi^{+}\\rangle = \\alpha |0_{A}0_{B}\\rangle + \\beta|1_{A}1_{B}\\rangle$.  \n",
    "If A measures her qubit and gets the state $|0\\rangle$, (with a probability of  $|\\alpha^{2}|$) and if B **then** measures his qubit he will also get a $|0\\rangle$  because the whole state has 'collapsed' under the measurement of A's qubit leaving B with  $|0\\rangle$. We could represent this measurement as $\\alpha |00\\rangle + \\beta |10\\rangle -->|00\\rangle$.  Similarly, A measuring a $|1\\rangle$ will guarantee that B measures the same. An identical situation obtains if B measures first, guaranteeing  A the same result as B. It is important to keep well in mind when thinking about and computing with Bell states that the way state is written doesn't mean or imply that the qubits are physically joined in any way; they can be any arbitrary distance apart and the Bell state property we have described has beeen confirmed experimentally many times."
   ]
  },
  {
   "cell_type": "code",
   "execution_count": null,
   "id": "9d5f9803",
   "metadata": {},
   "outputs": [],
   "source": [
    "%kata T201_TwoQubitGate1\n",
    "\n",
    "operation TwoQubitGate1 (qs : Qubit[]) : Unit is Adj+Ctl {\n",
    "    CNOT(qs[0], q[1]);\n",
    "}"
   ]
  },
  {
   "cell_type": "markdown",
   "id": "65e7fa92",
   "metadata": {},
   "source": [
    "[Return to Task 2.1 of the Basic Gates kata](./BasicGates.ipynb#Task-2.1.-Two-qubit-gate---1)"
   ]
  },
  {
   "cell_type": "markdown",
   "id": "7cb812cc",
   "metadata": {},
   "source": [
    "### Task 2.2. Two-qubit gate - 2\n",
    "\n",
    "**Input:** Two unentangled qubits (stored in an array of length 2) in state $|+\\rangle \\otimes |+\\rangle = \\frac{1}{2} \\big( |00\\rangle + |01\\rangle + |10\\rangle \\color{blue}+ |11\\rangle \\big)$.\n",
    "\n",
    "\n",
    "**Goal:**  Change the two-qubit state to $\\frac{1}{2} \\big( |00\\rangle + |01\\rangle + |10\\rangle \\color{red}- |11\\rangle \\big)$.\n",
    "\n",
    "> Note that while the starting state can be represented as a tensor product of single-qubit states,\n",
    "> the resulting two-qubit state can not be represented in such a way."
   ]
  },
  {
   "cell_type": "markdown",
   "id": "9947cf78",
   "metadata": {},
   "source": [
    "## Solution\n",
    "Firstly we notice that we are dealing with an unentangled pair of qubits. In vector form this is:"
   ]
  },
  {
   "cell_type": "markdown",
   "id": "440d1d86",
   "metadata": {},
   "source": [
    "$$\n",
    "\\frac{1}{2}\n",
    "\\begin{bmatrix}\n",
    "   1\\\\\n",
    "   1\\\\\n",
    "   1\\\\\n",
    "   e^{i\\cdot\\pi}\\\\\n",
    "\\end{bmatrix}$$"
   ]
  },
  {
   "cell_type": "markdown",
   "id": "969070ae",
   "metadata": {},
   "source": [
    "which we could write as:"
   ]
  },
  {
   "cell_type": "markdown",
   "id": "140d016c",
   "metadata": {},
   "source": [
    "$$\n",
    "\\frac{1}{2}\n",
    "\\begin{bmatrix}\n",
    "   1\\\\\n",
    "   1\\\\\n",
    "   1\\\\\n",
    "   e^{i\\cdot\\alpha}\\\\\n",
    "\\end{bmatrix}$$"
   ]
  },
  {
   "cell_type": "markdown",
   "id": "0af4f4c9",
   "metadata": {},
   "source": [
    "where $\\alpha = \\pi$, so it looks like we are dealing with a specific case of a phase shift. As it's more useful to investigate a genreral case and then use it to perfrom a specific state change, lets look for a 2-qubit phase shift. The other thing we notice is, like in Task 2.1, the phase shift only ocurs on qs[1], so this suggests it might be a conditional shift. Inspired by our solution to Task2.1, we notice that if we could have our phase shift conditional on qs[0] being in the state $|1\\rangle$ when we apply the gate, then we would have a description of our gate. If we now look though a list of gates, for example [here](https://www.quantum-inspire.com/kbase/introduction-to-quantum-computing/) under the  CQasm  sub-heading instructions on the left we see that the CR gate is a controlled phase shift with angle $\\theta$ (radians), defined by"
   ]
  },
  {
   "cell_type": "markdown",
   "id": "7ad4fb3d",
   "metadata": {},
   "source": [
    "$$\n",
    "CR = \n",
    " \\begin{bmatrix}\n",
    "   1 & 0 & 0 & 0\\\\\n",
    "   0 & 1 & 0 & 0\\\\\n",
    "   0 & 0 & 1 & 0\\\\\n",
    "   0 & 0 & 0 &\\color{red}{e^{i\\alpha}}\n",
    "  \\end{bmatrix}\n",
    " $$"
   ]
  },
  {
   "cell_type": "markdown",
   "id": "361fe0c5",
   "metadata": {},
   "source": [
    "This is almost Pauili-I, the identity gate, with just the last column showning what will happen to $|11\\rangle$, the last component of our input state. Formally:"
   ]
  },
  {
   "cell_type": "markdown",
   "id": "0f3f2d79",
   "metadata": {},
   "source": [
    "$$\n",
    "\\frac{1}{2}\n",
    " \\begin{bmatrix}\n",
    "   1 & 0 & 0 & 0\\\\\n",
    "   0 & 1 & 0 & 0\\\\\n",
    "   0 & 0 & 1 & 0\\\\\n",
    "   0 & 0 & 0 &\\color{red}{e^{i\\alpha}}\n",
    "  \\end{bmatrix}\n",
    "\\begin{bmatrix}\n",
    "   1\\\\\n",
    "   1\\\\\n",
    "   1\\\\\n",
    "   1\\\\\n",
    "\\end{bmatrix}\n",
    "=\n",
    "\\frac{1}{2}\n",
    "\\begin{bmatrix}\n",
    "   1\\\\\n",
    "   1\\\\\n",
    "   1\\\\\n",
    "   1\\cdot\\color{red}{e^{i\\alpha}}\\\\\n",
    "\\end{bmatrix}\n",
    "=\n",
    "\\frac{1}{2} \\big( |00\\rangle + |01\\rangle + |10\\rangle \\color{red}- |11\\rangle \\big)\n",
    "$$"
   ]
  },
  {
   "cell_type": "markdown",
   "id": "e5727cd4",
   "metadata": {},
   "source": [
    "when $\\alpha = \\pi$. The last thing we notice from the list of gates is that CZ (Controlled Z) is just a special case of CR with the passed angle being $\\pi$ so we use CZ in our solution."
   ]
  },
  {
   "cell_type": "code",
   "execution_count": null,
   "id": "fd41b2b1",
   "metadata": {},
   "outputs": [],
   "source": [
    "%kata T202_TwoQubitGate2\n",
    "\n",
    "operation TwoQubitGate2 (qs : Qubit[]) : Unit is Adj+Ctl {\n",
    "    CZ(qs[1], qs[0]);\n",
    "}"
   ]
  },
  {
   "cell_type": "markdown",
   "id": "696a35fd",
   "metadata": {},
   "source": [
    "[Return to Task 2.2 of the Basic Gates kata](./BasicGates.ipynb#Task-2.2.-Two-qubit-gate---2)"
   ]
  }
 ],
 "metadata": {
  "kernelspec": {
   "display_name": "Q#",
   "language": "qsharp",
   "name": "iqsharp"
  },
  "language_info": {
   "file_extension": ".qs",
   "mimetype": "text/x-qsharp",
   "name": "qsharp",
   "version": "0.14"
  },
  "widgets": {
   "application/vnd.jupyter.widget-state+json": {
    "state": {},
    "version_major": 2,
    "version_minor": 0
   }
  }
 },
 "nbformat": 4,
 "nbformat_minor": 5
}
