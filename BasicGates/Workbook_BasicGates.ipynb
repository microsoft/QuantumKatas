{
 "cells": [
  {
   "cell_type": "markdown",
   "metadata": {
    "tags": []
   },
   "source": [
    "# Basic Gates Kata Workbook\n",
    "\n",
    "**What is this workbook?** \n",
    "A workbook is a collection of problems, accompanied by solutions to them. The explanations focus on the logical steps required to solve a problem; they illustrate the concepts that need to be applied to come up with a solution to the problem, explaining the mathematical steps required.\n",
    "\n",
    "Note that a workbook should not be the primary source of knowledge on the subject matter; it assumes that you've already read a tutorial or a textbook and that you are now seeking to improve your problem-solving skills. You should attempt solving the tasks of the respective kata first, and turn to the workbook only if stuck or for reinforcement. While a textbook emphasizes knowledge acquisition, a workbook emphasizes skill acquisition.\n",
    "\n",
    "This workbook describes the solutions to the problems offered in the [Basic Gates Kata](./BasicGates.ipynb). \n",
    "Since the tasks are offered as programming problems, the explanations also cover some elements of Q# that might be non-obvious for a novitiate."
   ]
  },
  {
   "cell_type": "markdown",
   "metadata": {},
   "source": [
    "**What you should know for this workbook**\n",
    "\n",
    "You should be familiar with the following concepts and associated techniques **prior to** beginning work on the Basic Gates Quantum Kata.\n",
    "\n",
    "1. [Complex numbers](../tutorials/ComplexArithmetic/ComplexArithmetic.ipynb).\n",
    "2. Basic linear algebra (multiplying column vectors by matrices), per the first part of [this tutorial](../tutorials/LinearAlgebra/LinearAlgebra.ipynb).\n",
    "3. [The concept of qubit and its properties](../tutorials/Qubit/Qubit.ipynb).\n",
    "4. [Single-qubit gates](../tutorials/SingleQubitGates/SingleQubitGates.ipynb).\n",
    "\n",
    "You can also consult the [complete Quantum Katas learning path](https://github.com/microsoft/QuantumKatas#learning-path)."
   ]
  },
  {
   "cell_type": "markdown",
   "metadata": {},
   "source": [
    "# Part 1. Single-Qubit Gates\n"
   ]
  },
  {
   "cell_type": "markdown",
   "metadata": {
    "jp-MarkdownHeadingCollapsed": true,
    "tags": []
   },
   "source": [
    "### Task 1.1. State flip: $|0\\rangle$ to $|1\\rangle$ and vice versa\n",
    "\n",
    "**Input:** A qubit in state $|\\psi\\rangle = \\alpha |0\\rangle + \\beta |1\\rangle$.\n",
    "\n",
    "**Goal:**  Change the state of the qubit to $\\alpha |1\\rangle + \\beta |0\\rangle$.\n",
    "\n",
    "**Example:**\n",
    "\n",
    "If the qubit is in state $|0\\rangle$, change its state to $|1\\rangle$.\n",
    "\n",
    "If the qubit is in state $|1\\rangle$, change its state to $|0\\rangle$."
   ]
  },
  {
   "cell_type": "markdown",
   "metadata": {},
   "source": [
    "## Solution"
   ]
  },
  {
   "cell_type": "markdown",
   "metadata": {},
   "source": [
    "We can recognise that the Pauli X gate will change the state $|0\\rangle$ to $|1\\rangle$ and vice versa, and $\\alpha |0\\rangle + \\beta |1\\rangle$ to $\\alpha |1\\rangle + \\beta |0\\rangle$.\n",
    "\n",
    "As a reminder, the Pauli X gate is defined by the following matrix:"
   ]
  },
  {
   "cell_type": "markdown",
   "metadata": {},
   "source": [
    "$$\n",
    "X = \n",
    "\\begin{bmatrix}\n",
    "   0 &  1\\\\\n",
    "  1 &  0\n",
    "\\end{bmatrix}\n",
    "$$"
   ]
  },
  {
   "cell_type": "markdown",
   "metadata": {},
   "source": [
    "We can see how it affects, for example, the basis state $|0\\rangle$:"
   ]
  },
  {
   "cell_type": "markdown",
   "metadata": {},
   "source": [
    "$$X|0\\rangle= \n",
    "\\begin{bmatrix}\n",
    "   0 &  1\\\\\n",
    "  1 &  0\n",
    "\\end{bmatrix}\n",
    "\\begin{bmatrix}\n",
    "   1\\\\\n",
    "   0\n",
    "\\end{bmatrix}\n",
    "=\n",
    "\\begin{bmatrix}\n",
    "   0 \\cdot 1 + 1 \\cdot 0\\\\\n",
    "   1 \\cdot 1 + 0 \\cdot 0\n",
    "\\end{bmatrix}\n",
    "=\n",
    "\\begin{bmatrix}\n",
    "   0\\\\\n",
    "   1\n",
    "\\end{bmatrix}\n",
    "=|1\\rangle\n",
    "$$"
   ]
  },
  {
   "cell_type": "markdown",
   "metadata": {},
   "source": [
    "Similarly, we can consider the effect of the X gate on the superposition state $|\\psi\\rangle = 0.6|0\\rangle + 0.8|1\\rangle$:"
   ]
  },
  {
   "cell_type": "markdown",
   "metadata": {},
   "source": [
    "$$X|\\psi\\rangle= \n",
    "\\begin{bmatrix}\n",
    "   0 &  1\\\\\n",
    "  1 &  0\n",
    "\\end{bmatrix}\n",
    "\\begin{bmatrix}\n",
    "   0.6\\\\\n",
    "   0.8\n",
    "\\end{bmatrix}\n",
    "=\n",
    "\\begin{bmatrix}\n",
    "  0 \\cdot 0.6  + 1 \\cdot 0.8\\\\\n",
    "   1 \\cdot 0.6 + 0 \\cdot 0.8\n",
    "\\end{bmatrix}\n",
    "=\n",
    "\\begin{bmatrix}\n",
    "   0.8\\\\\n",
    "   0.6\n",
    "\\end{bmatrix}\n",
    "=  0.8|0\\rangle + 0.6|1\\rangle\n",
    "$$"
   ]
  },
  {
   "cell_type": "code",
   "execution_count": null,
   "metadata": {},
   "outputs": [],
   "source": [
    "%kata T101_StateFlip \n",
    "\n",
    "operation StateFlip (q : Qubit) : Unit is Adj+Ctl {\n",
    "    X(q);\n",
    "}"
   ]
  },
  {
   "cell_type": "markdown",
   "metadata": {},
   "source": [
    "[Return to Task 1.1 of the Basic Gates kata.](./BasicGates.ipynb#Task-1.1.-State-flip:-$|0\\rangle$-to-$|1\\rangle$-and-vice-versa)"
   ]
  },
  {
   "cell_type": "markdown",
   "metadata": {
    "tags": []
   },
   "source": [
    "### Task 1.2. Basis change: $|0\\rangle$ to $|+\\rangle$ and $|1\\rangle$ to $|-\\rangle$ (and vice versa)\n",
    "\n",
    "**Input**: A qubit in state $|\\psi\\rangle = \\alpha |0\\rangle + \\beta |1\\rangle$.\n",
    "\n",
    "**Goal**:  Change the state of the qubit as follows:\n",
    "* If the qubit is in state $|0\\rangle$, change its state to $|+\\rangle = \\frac{1}{\\sqrt{2}} \\big(|0\\rangle + |1\\rangle\\big)$.\n",
    "* If the qubit is in state $|1\\rangle$, change its state to $|-\\rangle = \\frac{1}{\\sqrt{2}} \\big(|0\\rangle - |1\\rangle\\big)$.\n",
    "* If the qubit is in superposition, change its state according to the effect on basis vectors."
   ]
  },
  {
   "cell_type": "markdown",
   "metadata": {},
   "source": [
    "## Solution"
   ]
  },
  {
   "cell_type": "markdown",
   "metadata": {
    "tags": []
   },
   "source": [
    "We can recognize that the Hadamard gate changes states $|0\\rangle$ and $|1\\rangle$ to $|+\\rangle$ and $|-\\rangle$, respectively, and vice versa.\n",
    "\n",
    "As a reminder, the Hadamard gate is defined by the following matrix:"
   ]
  },
  {
   "cell_type": "markdown",
   "metadata": {
    "tags": []
   },
   "source": [
    "$$\n",
    "\\frac{1}{\\sqrt{2}}\\begin{bmatrix}\n",
    "1 & 1 \\\\\n",
    "1 & -1\n",
    "\\end{bmatrix}\n",
    "$$"
   ]
  },
  {
   "cell_type": "markdown",
   "metadata": {
    "tags": []
   },
   "source": [
    "For example, we can work out $H|1\\rangle$ as follows:"
   ]
  },
  {
   "cell_type": "markdown",
   "metadata": {
    "tags": []
   },
   "source": [
    "$$\n",
    "H|1\\rangle=\n",
    "\\frac{1}{\\sqrt{2}}\\begin{bmatrix}\n",
    "   1 & 1 \\\\\n",
    "   1 & -1\n",
    "  \\end{bmatrix}\n",
    " \\begin{bmatrix}\n",
    "   0\\\\\n",
    "   1\\\\\n",
    "  \\end{bmatrix}\n",
    "=\n",
    "\\frac{1}{\\sqrt{2}}\\begin{bmatrix}\n",
    "   1 \\cdot 0 + 1 \\cdot 1 \\\\\n",
    "   1 \\cdot 0 + (-1) \\cdot 1\n",
    "  \\end{bmatrix}\n",
    "=\n",
    "  \\frac{1}{\\sqrt{2}}\\begin{bmatrix}\n",
    "   1\\\\\n",
    "   -1\n",
    "  \\end{bmatrix}\n",
    "= \\frac{1}{\\sqrt{2}} \\big(|0\\rangle - |1\\rangle\\big) = |-\\rangle\n",
    "$$"
   ]
  },
  {
   "cell_type": "markdown",
   "metadata": {},
   "source": [
    "Similarly, we can consider the effect of the Hadamard gate on the superposition state $|\\psi\\rangle = 0.6|0\\rangle + 0.8|1\\rangle$ (rounding the numbers to 4 decimal places):"
   ]
  },
  {
   "cell_type": "markdown",
   "metadata": {},
   "source": [
    "$$\n",
    "H|\\psi⟩ = \n",
    "\\frac{1}{\\sqrt{2}}\\begin{bmatrix}\n",
    "   1 & 1 \\\\\n",
    "   1 & -1\n",
    "  \\end{bmatrix}\n",
    " \\begin{bmatrix}\n",
    "   \\alpha\\\\\n",
    "   \\beta\\\\\n",
    "  \\end{bmatrix}\n",
    " =\n",
    "\\frac{1}{\\sqrt{2}}\\begin{bmatrix}\n",
    "   \\alpha + \\beta\\\\\n",
    "   \\alpha - \\beta\\\\\n",
    "  \\end{bmatrix}\n",
    "= 0.7071\\begin{bmatrix}\n",
    "   1.4\\\\\n",
    "   -0.2\\\\\n",
    "  \\end{bmatrix}\n",
    "= \\begin{bmatrix}\n",
    "   0.98994\\\\\n",
    "   -0.14142\\\\\n",
    "  \\end{bmatrix}\n",
    "= 0.9899|0\\rangle - 0.1414|1\\rangle\n",
    " $$"
   ]
  },
  {
   "cell_type": "code",
   "execution_count": null,
   "metadata": {},
   "outputs": [],
   "source": [
    "%kata T102_BasisChange \n",
    "\n",
    "operation BasisChange (q : Qubit) : Unit is Adj+Ctl {\n",
    "    H(q);\n",
    "}"
   ]
  },
  {
   "cell_type": "markdown",
   "metadata": {},
   "source": [
    "[Return to Task 1.2 of the Basic Gates kata](./BasicGates.ipynb#Task-1.2.-Basis-change:-$|0\\rangle$-to-$|+\\rangle$-and-$|1\\rangle$-to-$|-\\rangle$-(and-vice-versa))."
   ]
  },
  {
   "cell_type": "markdown",
   "metadata": {},
   "source": [
    "   "
   ]
  },
  {
   "cell_type": "markdown",
   "metadata": {},
   "source": [
    "## Task 1.3. Sign flip: $|+\\rangle$  to $|-\\rangle$  and vice versa.\n",
    "\n",
    "**Input**: A qubit in state $|\\psi\\rangle = \\alpha |0\\rangle + \\beta |1\\rangle$.\n",
    "\n",
    "**Goal** :  Change the qubit state to $\\alpha |0\\rangle - \\beta |1\\rangle$ (i.e. flip the sign of the $|1\\rangle$ component of the superposition).\n"
   ]
  },
  {
   "cell_type": "markdown",
   "metadata": {},
   "source": [
    "## Solution"
   ]
  },
  {
   "cell_type": "markdown",
   "metadata": {},
   "source": [
    "The action of the Pauli Z gate is exactly what is required by this question.\n",
    "This gate leaves the sign of the $|0\\rangle$ component of the superposition unchanged but flips the sign of the $|1\\rangle$ component of the superposition.\n",
    "\n",
    "As a reminder, the Pauli Z gate is defined by the following matrix:"
   ]
  },
  {
   "cell_type": "markdown",
   "metadata": {},
   "source": [
    "$$\n",
    "Z = \n",
    " \\begin{bmatrix}\n",
    "   1 & 0\\\\\n",
    "   0 & -1\n",
    "  \\end{bmatrix}\n",
    " $$\n",
    " \n",
    "Let's see its effect on the only computational basis state that it changes, $|1\\rangle$:\n",
    "\n",
    "$$\n",
    "Z|1\\rangle =\n",
    " \\begin{bmatrix}\n",
    "   1 & 0\\\\\n",
    "   0 & -1\n",
    "  \\end{bmatrix}\n",
    " \\begin{bmatrix}\n",
    "   0\\\\\n",
    "   1\\\\\n",
    "  \\end{bmatrix}\n",
    "=\n",
    "\\begin{bmatrix}\n",
    "   1 \\cdot 0 + 0 \\cdot1\\\\\n",
    "   0 \\cdot 1 +  -1 \\cdot 1\\\\\n",
    "  \\end{bmatrix}\n",
    "=\n",
    " \\begin{bmatrix}\n",
    "   0\\\\\n",
    "   -1\\\\\n",
    "  \\end{bmatrix}\n",
    "=\n",
    " -\\begin{bmatrix}\n",
    "   0\\\\\n",
    "   1\\\\\n",
    "  \\end{bmatrix}\n",
    "= -|1\\rangle\n",
    "$$"
   ]
  },
  {
   "cell_type": "markdown",
   "metadata": {},
   "source": [
    "In general applying the Z gate to a single qubit superposition state $|\\psi\\rangle = \\alpha |0\\rangle + \\beta |1\\rangle$ gives"
   ]
  },
  {
   "cell_type": "markdown",
   "metadata": {},
   "source": [
    "$$\n",
    "Z|\\psi\\rangle = \n",
    " \\begin{bmatrix}\n",
    "   1 & 0 \\\\\n",
    "   0 & -1\n",
    "  \\end{bmatrix}\n",
    " \\begin{bmatrix}\n",
    "   \\alpha\\\\\n",
    "   \\beta\\\\\n",
    "  \\end{bmatrix}\n",
    "  =\n",
    "\\begin{bmatrix}\n",
    "   1\\cdot\\alpha + 0\\cdot\\beta\\\\\n",
    "   0\\cdot\\alpha + -1\\cdot\\beta\\\\\n",
    "  \\end{bmatrix} \n",
    "  =\n",
    " \\begin{bmatrix}\n",
    "   \\alpha\\\\\n",
    "   -\\beta\\\\\n",
    "  \\end{bmatrix}  \n",
    "= \\alpha |0\\rangle -\\beta |1\\rangle\n",
    "$$"
   ]
  },
  {
   "cell_type": "code",
   "execution_count": null,
   "metadata": {
    "tags": []
   },
   "outputs": [],
   "source": [
    "%kata T103_SignFlip\n",
    "\n",
    "operation SignFlip (q : Qubit) : Unit is Adj+Ctl {\n",
    "    Z(q);\n",
    "}"
   ]
  },
  {
   "cell_type": "markdown",
   "metadata": {},
   "source": [
    "[Return to Task 1.3 of the Basic Gates kata](./BasicGates.ipynb#Task-1.3.-Sign-flip:-$|+\\rangle$--to-$|-\\rangle$--and-vice-versa.)."
   ]
  },
  {
   "cell_type": "markdown",
   "metadata": {
    "tags": []
   },
   "source": [
    "### Task 1.4. Amplitude change: $|0\\rangle$ to $\\cos{α} |0\\rangle + \\sin{α} |1\\rangle$.\n",
    "\n",
    "**Inputs:**\n",
    "\n",
    "1. Angle α, in radians, represented as Double.\n",
    "2. A qubit in state $|\\psi\\rangle = \\beta |0\\rangle + \\gamma |1\\rangle$.\n",
    "\n",
    "**Goal:**  Change the state of the qubit as follows:\n",
    "- If the qubit is in state $|0\\rangle$, change its state to $\\cos{α} |0\\rangle + \\sin{α} |1\\rangle$.\n",
    "- If the qubit is in state $|1\\rangle$, change its state to $-\\sin{α} |0\\rangle + \\cos{α} |1\\rangle$.\n",
    "- If the qubit is in superposition, change its state according to the effect on basis vectors."
   ]
  },
  {
   "cell_type": "markdown",
   "metadata": {},
   "source": [
    "## Solution"
   ]
  },
  {
   "cell_type": "markdown",
   "metadata": {},
   "source": [
    "We can recognise that we need to use one of the rotation gates Rx, Ry, and Rz (named because they \"rotate\" the qubit state in the three dimensional space visualized as the Bloch sphere about the x, y, and z axes, respectively), since they involve angle parameters. Of these three gates, only Ry rotates the basis states $|0\\rangle$ and $|1\\rangle$ to have real amplitudes (the other two gates introduce complex coefficients).\n",
    "\n",
    "As a reminder,"
   ]
  },
  {
   "cell_type": "markdown",
   "metadata": {},
   "source": [
    " \n",
    "$$\n",
    "R_{y}(\\theta) =\n",
    "\\begin{bmatrix}\n",
    "   \\cos \\frac{\\theta}{2} & -\\sin \\frac{\\theta}{2}\\\\\n",
    "   \\sin \\frac{\\theta}{2} & \\cos \\frac{\\theta}{2}\n",
    "  \\end{bmatrix}\n",
    "$$"
   ]
  },
  {
   "cell_type": "markdown",
   "metadata": {},
   "source": [
    "Let's see its effect on the $|0\\rangle$ state:"
   ]
  },
  {
   "cell_type": "markdown",
   "metadata": {},
   "source": [
    "$$\n",
    "R_y(\\theta)|0\\rangle =\n",
    "\\begin{bmatrix}\n",
    "   \\cos \\frac{\\theta}{2} & -\\sin \\frac{\\theta}{2}\\\\\n",
    "   \\sin \\frac{\\theta}{2} & \\cos \\frac{\\theta}{2}\n",
    "  \\end{bmatrix}\n",
    "\\begin{bmatrix}\n",
    "   1\\\\\n",
    "   0\\\\\n",
    "\\end{bmatrix}\n",
    "=\n",
    "\\begin{bmatrix}\n",
    "   \\cos \\frac{\\theta}{2}\\cdot1 - \\sin \\frac{\\theta}{2}\\cdot0\\\\\n",
    "   \\sin \\frac{\\theta}{2}\\cdot1 + \\cos \\frac{\\theta}{2}\\cdot0\n",
    "  \\end{bmatrix}\n",
    "=\n",
    "\\begin{bmatrix}\n",
    "   \\cos \\frac{\\theta}{2}\\\\\n",
    "   \\sin \\frac{\\theta}{2}\n",
    "  \\end{bmatrix}\n",
    "= \\cos\\frac{\\theta}{2} |0\\rangle + \\sin\\frac{\\theta}{2} |1\\rangle\n",
    "$$"
   ]
  },
  {
   "cell_type": "markdown",
   "metadata": {},
   "source": [
    "Recall that when applying a gate, you can tell what its matrix does to the basis states by looking at its columns: the first column of the matrix is the state into which it will transform the $|0\\rangle$ state, and the second column is the state into which it will transfrom the $|1\\rangle$ state."
   ]
  },
  {
   "cell_type": "markdown",
   "metadata": {},
   "source": [
    "In the example used by the testing harness we are given $\\beta = 0.6, \\gamma = 0.8$ and $\\alpha = 1.0471975511965976 = \\frac{\\pi}{3}$.  \n",
    "\n",
    "Since $\\cos \\frac{\\pi}{3} = 0.5$  and $\\sin \\frac{\\pi}{3} = 0.8660$, working to 4 decimal places, we can compute:"
   ]
  },
  {
   "cell_type": "markdown",
   "metadata": {},
   "source": [
    "$$\n",
    "R_{y}(\\theta) |\\psi\\rangle\n",
    "=\n",
    " \\begin{bmatrix}\n",
    "   \\cos \\frac{\\theta}{2} & -\\sin \\frac{\\theta}{2}\\\\\n",
    "   \\sin \\frac{\\theta}{2} & \\cos \\frac{\\theta}{2}\n",
    "  \\end{bmatrix} \n",
    "  \\begin{bmatrix}\n",
    "   \\beta\\\\\n",
    "  \\gamma\n",
    " \\end{bmatrix}\n",
    "=\n",
    "\\begin{bmatrix}\n",
    "   cos \\frac{\\theta}{2}\\cdot\\beta - sin \\frac{\\theta}{2}\\cdot\\gamma\\\\\n",
    "   sin \\frac{\\theta}{2}\\cdot\\beta +cos \\frac{\\theta}{2}\\cdot\\gamma\n",
    "  \\end{bmatrix}\n",
    "=  \n",
    " \\begin{bmatrix}\n",
    "   0.6\\cdot\\cos \\frac{\\pi}{3} -0.8\\cdot\\sin \\frac{\\pi}{3}\\\\\n",
    "   0.6\\cdot\\sin \\frac{\\pi}{3} +0.8\\cdot\\cos \\frac{\\pi}{3}\n",
    "  \\end{bmatrix}\n",
    "=\n",
    " \\begin{bmatrix}\n",
    "   0.3 - 0.6928\\\\\n",
    "   0.5196 + 0.4\n",
    "  \\end{bmatrix}\n",
    "=\n",
    "  \\begin{bmatrix}\n",
    "   -0.3928\\\\\n",
    "    0.9196\n",
    "  \\end{bmatrix}\n",
    "$$"
   ]
  },
  {
   "cell_type": "markdown",
   "metadata": {},
   "source": [
    "Notice that we used $\\frac{\\theta}{2} = \\alpha$; this means that in the Q# code we need to pass the angle $\\theta = 2\\alpha$."
   ]
  },
  {
   "cell_type": "code",
   "execution_count": null,
   "metadata": {},
   "outputs": [],
   "source": [
    "%kata T104_AmplitudeChange\n",
    "operation AmplitudeChange (alpha : Double, q : Qubit) : Unit is Adj+Ctl {\n",
    "    Ry(2.0 * alpha, q);\n",
    "}"
   ]
  },
  {
   "cell_type": "markdown",
   "metadata": {},
   "source": [
    "[Return to Task 1.4 of the Basic Gates kata](.\\BasicGates.ipynb#Task-1.4.-Amplitude-change:-$|0\\rangle$-to-$\\cos{α}-|0\\rangle-+-\\sin{α}-|1\\rangle$.)."
   ]
  },
  {
   "cell_type": "markdown",
   "metadata": {},
   "source": [
    "### Task 1.5. Phase flip\n",
    "\n",
    "**Input:** A qubit in state $|\\psi\\rangle = \\alpha |0\\rangle + \\beta |1\\rangle$.\n",
    "\n",
    "**Goal:** Change the qubit state to $\\alpha |0\\rangle + \\color{red}i\\beta |1\\rangle$ (add a relative phase $i$ to $|1\\rangle$ component of the superposition).\n"
   ]
  },
  {
   "cell_type": "markdown",
   "metadata": {
    "jp-MarkdownHeadingCollapsed": true,
    "tags": []
   },
   "source": [
    "## Solutions"
   ]
  },
  {
   "cell_type": "markdown",
   "metadata": {
    "tags": []
   },
   "source": [
    "## Solution 1"
   ]
  },
  {
   "cell_type": "markdown",
   "metadata": {},
   "source": [
    "We can recognise that the S gate performs this particular relative phase addition of, in fact, $\\frac{\\pi}{4}$, to the $|1|\\rangle$ component, and as a reminder\n",
    "$$\n",
    "S = \n",
    " \\begin{bmatrix}\n",
    "   1 & 0\\\\\n",
    "   0 & i\n",
    "  \\end{bmatrix}\n",
    " $$"
   ]
  },
  {
   "cell_type": "markdown",
   "metadata": {},
   "source": [
    "Let's see the effect of this gate on the general superposition $|\\psi\\rangle = \\alpha |0\\rangle + \\beta |1\\rangle$."
   ]
  },
  {
   "cell_type": "markdown",
   "metadata": {},
   "source": [
    "$$\n",
    " \\begin{bmatrix}\n",
    "   1 & 0 \\\\\n",
    "   0 & i\n",
    "  \\end{bmatrix}\n",
    " \\begin{bmatrix}\n",
    "   \\alpha\\\\\n",
    "   \\beta\\\\\n",
    "  \\end{bmatrix}\n",
    "  =\n",
    "\\begin{bmatrix}\n",
    "   1\\cdot\\alpha + 0\\cdot\\beta\\\\\n",
    "   0\\cdot\\alpha + i\\cdot\\beta\n",
    "  \\end{bmatrix} \n",
    "  =\n",
    " \\begin{bmatrix}\n",
    "   \\alpha\\\\\n",
    "   i\\beta\\\\\n",
    "  \\end{bmatrix}  \n",
    "$$"
   ]
  },
  {
   "cell_type": "markdown",
   "metadata": {},
   "source": [
    "It is therefore easy to see that when It is therefore easy to see that when   $\\psi= 0.6|0\\rangle +  0.8|1\\rangle, S(\\psi) =  | 0.6|0\\rangle + 0.8i|1\\rangle$   "
   ]
  },
  {
   "cell_type": "code",
   "execution_count": null,
   "metadata": {},
   "outputs": [],
   "source": [
    "%kata T105_PhaseFlip\n",
    "\n",
    "operation PhaseFlip (q : Qubit) : Unit is Adj+Ctl {\n",
    "    S(q);\n",
    "}"
   ]
  },
  {
   "cell_type": "markdown",
   "metadata": {},
   "source": [
    "## Solution 2"
   ]
  },
  {
   "cell_type": "markdown",
   "metadata": {},
   "source": [
    "Please see Task 1.6, Phase Change, for an explanation of the following from the reference implementation: "
   ]
  },
  {
   "cell_type": "markdown",
   "metadata": {},
   "source": [
    "       // alternatively R1(0.5 * PI(), q);"
   ]
  },
  {
   "cell_type": "markdown",
   "metadata": {},
   "source": [
    "[Return to Task 1.5 of the Basic Gates kata](./BasicGates.ipynb#Task-1.5.-Phase-flip)"
   ]
  },
  {
   "cell_type": "markdown",
   "metadata": {},
   "source": [
    "### Task 1.6. Phase change\n",
    "\n",
    "**Inputs:**\n",
    "\n",
    "1. Angle α, in radians, represented as Double.\n",
    "2. A qubit in state $|\\psi\\rangle = \\beta |0\\rangle + \\gamma |1\\rangle$.\n",
    "\n",
    "**Goal:**  Change the state of the qubit as follows:\n",
    "- If the qubit is in state $|0\\rangle$, don't change its state.\n",
    "- If the qubit is in state $|1\\rangle$, change its state to $e^{i\\alpha} |1\\rangle$.\n",
    "- If the qubit is in superposition, change its state according to the effect on basis vectors: $\\beta |0\\rangle + \\color{red}{e^{i\\alpha}} \\gamma |1\\rangle$.\n"
   ]
  },
  {
   "cell_type": "markdown",
   "metadata": {
    "tags": []
   },
   "source": [
    "## Solution"
   ]
  },
  {
   "cell_type": "markdown",
   "metadata": {},
   "source": [
    "We can recognise that the R1 gate performs  a rotation about the $|1\\rangle$ state, which is equivalent to the required phase change.  "
   ]
  },
  {
   "cell_type": "markdown",
   "metadata": {},
   "source": [
    "$R1(\\alpha)$= "
   ]
  },
  {
   "cell_type": "markdown",
   "metadata": {},
   "source": [
    " $$\n",
    " \\begin{bmatrix}\n",
    "   1 & 0\\\\\n",
    "   0 & \\color{red}{e^{i\\alpha}}\n",
    "  \\end{bmatrix}\n",
    " $$"
   ]
  },
  {
   "cell_type": "markdown",
   "metadata": {},
   "source": [
    "So we have:"
   ]
  },
  {
   "cell_type": "markdown",
   "metadata": {},
   "source": [
    "$$\n",
    " \\begin{bmatrix}\n",
    "   1 & 0 \\\\\n",
    "   0 & \\color{red}{e^{i\\alpha}}\n",
    "  \\end{bmatrix}\n",
    " \\begin{bmatrix}\n",
    "   \\beta\\\\\n",
    "   \\gamma\\\\\n",
    "  \\end{bmatrix}\n",
    "  =\n",
    "\\begin{bmatrix}\n",
    "   1\\cdot\\beta + 0\\cdot\\gamma\\\\\n",
    "   0\\cdot\\beta + \\color{red}{e^{i\\alpha}}\\cdot\\gamma\\\\\n",
    "  \\end{bmatrix} \n",
    "  =\n",
    " \\begin{bmatrix}\n",
    "   \\beta\\\\\n",
    "   \\color{red}{e^{i\\alpha}}\\gamma\n",
    "  \\end{bmatrix}\n",
    "=\n",
    "\\beta |0\\rangle + \\color{red}{e^{i\\alpha}} \\gamma |1\\rangle\n",
    "$$"
   ]
  },
  {
   "cell_type": "markdown",
   "metadata": {},
   "source": [
    "The result from the test harness is interesting  and there is something to notice here about qubit state amplitudes compared to measurements"
   ]
  },
  {
   "cell_type": "markdown",
   "metadata": {},
   "source": [
    "If you run the kata several times and  and examine the output, you'll notice that success is signalled even though the corresponding amplitudes of the desired and actual states are very different , in some cases there are even negative values.\n",
    "So what's going on? The explanaton is there in the ouput if you look carefully.\n",
    "Rememeber that, according to Born's Rule,  we can only 'see' probabilities , not amplitudes.\n",
    "When a qubit is measured, what is measured is the square of the modulus of the  ampliude \n",
    "(recall that the modulus squared of a complex number is that number multiplied by its complex conjugate)\n",
    "Can we verify that assertion about amplitudes  below? Let's take a look."
   ]
  },
  {
   "cell_type": "markdown",
   "metadata": {},
   "source": [
    "In one run I got a desired amplitude of: $|0\\rangle = 0.6000 + 0000i$, of $|1\\rangle = -0.1389 +0,7878i$ and actual amplitudes of : $|0\\rangle = 0.1042 + 0.5909$, and $|1\\rangle = -0.7518 -0.2736i$.\n",
    "If you do the arithmetic all the  $|0\\rangle$ states come to .36 and all the $|1\\rangle$ states come to close enough to  0.64.\n",
    "For example $|-0.7518 -0.2736i|*|-0.7518 + 0.2736i| = .6400602$, close enough to 64\\% when allowing for error in the amplitudes.\n",
    "You could try other evaluations to verify the claim.\n",
    "Success is therefore claimed on the basis that the desired and actual states are indistinguishable."
   ]
  },
  {
   "cell_type": "markdown",
   "metadata": {},
   "source": [
    "%kata T106_PhaseChange\n",
    "\n",
    "operation PhaseChange (alpha : Double, q : Qubit) : Unit is Adj+Ctl {\n",
    "   R1(alpha,q);\n",
    "}"
   ]
  },
  {
   "cell_type": "markdown",
   "metadata": {},
   "source": [
    "Suppose now that $\\alpha = \\frac{\\pi}{2} (=  0.5\\pi)$\n",
    "Then $e^{i\\alpha}= \\cos(\\frac{\\pi}{2}) + i\\sin(\\frac{pi}{2})$\n",
    "And, since $\\cos(\\frac{\\pi}{2})= 0$ and= $\\sin(\\frac{pi}{2}) = 1$, then we have that $\\cos(\\frac{\\pi}{2}) + \\sin(\\frac{\\pi}{2}) = i$, and  \n",
    "$R1(\\alpha)(\\frac{\\pi}{2}) = S$, as in the second solution to task 1.5, above.\n",
    "\n"
   ]
  },
  {
   "cell_type": "markdown",
   "metadata": {},
   "source": [
    "[Return to Task 1.6 of the Basic Gates kata](./BasicGates.ipynb#Task-1.6.-Phase-Change)"
   ]
  },
  {
   "cell_type": "markdown",
   "metadata": {},
   "source": [
    "### Task 1.7. Global phase change\n",
    "**Input:** A qubit in state $|\\psi\\rangle = \\beta |0\\rangle + \\gamma |1\\rangle$.\n",
    "\n",
    "**Goal**: Change the state of the qubit to $- \\beta |0\\rangle - \\gamma |1\\rangle$.\n",
    "\n",
    "> Note: this change on its own is not observable - there is no experiment you can do on a standalone qubit to figure out whether it acquired the global phase or not. \n",
    "> However, you can use a controlled version of this operation to observe the global phase it introduces. \n",
    "> This is used in later katas as part of more complicated tasks.\n",
    "\n",
    "<details>\n",
    "  <summary><b>Need a hint? Click here</b></summary>\n",
    "  Can you apply one of the rotation gates? Take a look at the functions in the Microsoft.Quantum.Math package to use a common mathematical constant and remember to import the package using the open directive.    \n",
    "</details>"
   ]
  },
  {
   "cell_type": "markdown",
   "metadata": {},
   "source": [
    "We recognise that a global phase can accomplished by using the R rotation gate with the exponentiated PauliI (identity) gate; at the same time we know that a global phase is not detectable and indeed that is has no physical meaning. It can be regarded as a mathematical aretefact. \n",
    "It disappers when you take a measurement of the state.\n",
    "To see this, consider a general state $\\psi|\\rangle$ with a global phase which can be written as e$^{i\\alpha}$ which we can write as $|\\phi\\rangle = |\\psi\\rangle e^{i\\alpha}$.\n",
    "Recall that using dirac notation we can write the measurement of $|\\psi\\rangle$ as $\\langle\\phi|\\phi\\rangle$.  This is  $e^ {-i\\alpha}\\langle\\phi|e^{i\\alpha}|\\phi\\rangle$ which is                   $e^{i\\alpha}e^ {-i\\alpha}\\langle\\phi|\\phi\\rangle$  which is $e^{-i\\alpha+i\\alpha }\\langle\\phi|\\phi\\rangle$ which is $e^{0}\\langle\\phi|\\phi\\rangle$ which is  $\\langle\\phi|\\phi\\rangle$ and our global phase has disapperared under measurement.\n"
   ]
  },
  {
   "cell_type": "markdown",
   "metadata": {},
   "source": [
    "The R gate is defined as $R_{\\mu}(\\theta) = exp(\\frac{\\theta}{2}i\\cdot\\sigma_{\\mu})$ wehere $\\sigma_{\\mu})$ is one of the Pauli gates I, X, Y or Z.  \n",
    "\n",
    "For the problem at hand,  we have our general superposition state, $|\\psi\\rangle = \\beta |0\\rangle + \\gamma |1\\rangle$ , and our gate becomes R(PauliI,2$\\pi$) = exp( i(2$\\pi$/2)PauliI )  \n",
    "\n"
   ]
  },
  {
   "cell_type": "markdown",
   "metadata": {},
   "source": [
    "Thus $R(|\\psi\\rangle)$ = PauliI$(cos\\pi + isin\\pi)$ and since $cos(\\pi) = -1$   and   $sin(\\pi) = 0$ we have that:   "
   ]
  },
  {
   "cell_type": "markdown",
   "metadata": {},
   "source": [
    "$R(|\\psi\\rangle)$ =  "
   ]
  },
  {
   "cell_type": "markdown",
   "metadata": {},
   "source": [
    "$$\n",
    " -1\\begin{bmatrix}\n",
    "   1 & 0 \\\\\n",
    "   0 & 1\n",
    "  \\end{bmatrix}\n",
    " \\begin{bmatrix}\n",
    "   \\beta\\\\\n",
    "   \\gamma\\\\\n",
    "  \\end{bmatrix}\n",
    "=\n",
    " \\begin{bmatrix}\n",
    "   -1 & 0 \\\\\n",
    "   0 & -1\n",
    "  \\end{bmatrix}\n",
    " \\begin{bmatrix}\n",
    "   \\beta\\\\\n",
    "   \\gamma\\\\\n",
    "  \\end{bmatrix} \n",
    "=\n",
    " \\begin{bmatrix}\n",
    "   -1\\cdot\\beta + 0\\cdot\\gamma\\\\\n",
    "    0\\cdot\\beta +  -1\\cdot\\gamma \\\\\n",
    "  \\end{bmatrix}\n",
    "=\n",
    "\\begin{bmatrix}\n",
    "   -\\beta\\\\\n",
    "   -\\gamma\\\\\n",
    "  \\end{bmatrix}\n",
    "=\n",
    "- \\beta |0\\rangle - \\gamma |1\\rangle\n",
    "$$"
   ]
  },
  {
   "cell_type": "markdown",
   "metadata": {},
   "source": [
    "as required.\n",
    "The solution below is for this result, but the test harness that runs when you execute the cell is for a controlled global phase change."
   ]
  },
  {
   "cell_type": "code",
   "execution_count": null,
   "metadata": {},
   "outputs": [],
   "source": [
    "%kata T107_GlobalPhaseChange\n",
    "\n",
    "operation GlobalPhaseChange (q : Qubit) : Unit is Adj+Ctl {\n",
    "   R(PauliI, 2.0 * PI(), q);\n",
    "}"
   ]
  },
  {
   "cell_type": "markdown",
   "metadata": {},
   "source": [
    "[Return to Task 1.7 of the Basic Gates kata](./BasicGates.ipynb#Task-1.7.-Global-phase-change)"
   ]
  },
  {
   "cell_type": "markdown",
   "metadata": {},
   "source": [
    "### Task 1.8. Bell state change - 1\n",
    "\n",
    "**Input:** Two entangled qubits in Bell state $|\\Phi^{+}\\rangle = \\frac{1}{\\sqrt{2}} \\big(|00\\rangle + |11\\rangle\\big)$.\n",
    "\n",
    "**Goal:**  Change the two-qubit state to $|\\Phi^{-}\\rangle = \\frac{1}{\\sqrt{2}} \\big(|00\\rangle - |11\\rangle\\big)$."
   ]
  },
  {
   "cell_type": "markdown",
   "metadata": {},
   "source": [
    "We recognise that this first is a Bell state, in fact it is one (of the four) the prototypical Bell states. The goal here is to change the initial Bell state into the other one of what can be regarded as a pair of two closely related states."
   ]
  },
  {
   "cell_type": "code",
   "execution_count": null,
   "metadata": {},
   "outputs": [],
   "source": []
  }
 ],
 "metadata": {
  "kernelspec": {
   "display_name": "Q#",
   "language": "qsharp",
   "name": "iqsharp"
  },
  "language_info": {
   "file_extension": ".qs",
   "mimetype": "text/x-qsharp",
   "name": "qsharp",
   "version": "0.14"
  },
  "widgets": {
   "application/vnd.jupyter.widget-state+json": {
    "state": {},
    "version_major": 2,
    "version_minor": 0
   }
  }
 },
 "nbformat": 4,
 "nbformat_minor": 5
}
