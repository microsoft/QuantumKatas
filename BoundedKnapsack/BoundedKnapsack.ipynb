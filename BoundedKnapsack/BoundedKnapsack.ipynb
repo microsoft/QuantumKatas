{
 "cells": [
  {
   "cell_type": "markdown",
   "metadata": {},
   "source": [
    "# Bounded Knapsack\n",
    "\n",
    "The Bounded Knapsack quantum kata is a series of exercises designed to teach you to use Grover search to solve the knapsack problem. The knapsack problem is a prominent computational problem; you can find its description at https:en.wikipedia.org/wiki/Knapsack_problem.\n",
    "\n",
    "The overall goal in this kata is to solve the knapsack optimization problem by running Grover's algorithm.\n",
    "\n",
    "The kata covers the following topics:\n",
    " - writing operations to perform arithmetic tasks.\n",
    " - writing oracles to implement constraints based on:\n",
    "  - the 0-1 knapsack problem, a simple version of the knapsack problem;\n",
    "  - the bounded knapsack problem.\n",
    " - using the oracle with Grover's algorithm to solve the knapsack decision problem.\n",
    " - using Grover's algorithm repeatedly to solve the knapsack optimization problem.\n",
    "\n",
    "You may find this kata to be more challenging than other Grover's search katas, so you might want to try SolveSATWithGrover or GraphColoring first. Hints for the more complicated tasks can be found in the Hints.qs file.\n",
    "\n",
    "Each task is wrapped in one operation preceded by the description of the task. Each task (except tasks in which you have to write a test) has a unit test associated with it, which initially fails. Your goal is to fill in the blank (marked with  ... comment) with some Q# code to make the failing test pass."
   ]
  },
  {
   "cell_type": "code",
   "execution_count": 1,
   "metadata": {},
   "outputs": [
    {
     "data": {
      "application/x-qsharp-data": "{\"LastUpdated\":\"2021-07-20T14:40:32.278484+02:00\",\"IsCompleted\":true,\"Description\":\"Reloading workspace\",\"Subtask\":\"done\"}",
      "text/plain": [
       "Reloading workspace: done!"
      ]
     },
     "metadata": {},
     "output_type": "display_data"
    },
    {
     "data": {
      "application/x-qsharp-data": "[\"Quantum.Kata.BoundedKnapsack.BoolArrayConcatenationAsIntArray\",\"Quantum.Kata.BoundedKnapsack.CalculateTotalValueOfSelectedItems\",\"Quantum.Kata.BoundedKnapsack.CalculateTotalValueOfSelectedItems_Reference\",\"Quantum.Kata.BoundedKnapsack.CalculateTotalValueOfSelectedItems01\",\"Quantum.Kata.BoundedKnapsack.CalculateTotalValueOfSelectedItems01_Reference\",\"Quantum.Kata.BoundedKnapsack.CompareQubitArrayGreaterThanInt\",\"Quantum.Kata.BoundedKnapsack.CompareQubitArrayGreaterThanInt_Reference\",\"Quantum.Kata.BoundedKnapsack.CompareQubitArrayLeqThanInt\",\"Quantum.Kata.BoundedKnapsack.CompareQubitArrayLeqThanInt_Reference\",\"Quantum.Kata.BoundedKnapsack.ExampleSets\",\"Quantum.Kata.BoundedKnapsack.ExampleSets01\",\"Quantum.Kata.BoundedKnapsack.IncrementByProduct\",\"Quantum.Kata.BoundedKnapsack.IncrementByProduct_Reference\",\"Quantum.Kata.BoundedKnapsack.MeasureCombination\",\"Quantum.Kata.BoundedKnapsack.MeasureCombination_Reference\",\"Quantum.Kata.BoundedKnapsack.MeasureCombination01\",\"Quantum.Kata.BoundedKnapsack.MeasureCombination01_Reference\",\"Quantum.Kata.BoundedKnapsack.NumBitsTotalValue\",\"Quantum.Kata.BoundedKnapsack.NumBitsTotalValue_Reference\",\"Quantum.Kata.BoundedKnapsack.NumBitsTotalValue01\",\"Quantum.Kata.BoundedKnapsack.NumBitsTotalValue01_Reference\",\"Quantum.Kata.BoundedKnapsack.RegisterAsJaggedArray\",\"Quantum.Kata.BoundedKnapsack.RegisterAsJaggedArray_Reference\",\"Quantum.Kata.BoundedKnapsack.RegisterSize\",\"Quantum.Kata.BoundedKnapsack.T11_MeasureCombination01\",\"Quantum.Kata.BoundedKnapsack.T12_NumBitsTotalValue01\",\"Quantum.Kata.BoundedKnapsack.T13_CalculateTotalValueOfSelectedItems01\",\"Quantum.Kata.BoundedKnapsack.T14_CompareQubitArrayGreaterThanInt\",\"Quantum.Kata.BoundedKnapsack.T15_CompareQubitArrayLeqThanInt\",\"Quantum.Kata.BoundedKnapsack.T16_VerifyTotalWeight01\",\"Quantum.Kata.BoundedKnapsack.T17_VerifyTotalProfit01\",\"Quantum.Kata.BoundedKnapsack.T18_KnapsackValidationOracle_01\",\"Quantum.Kata.BoundedKnapsack.T21_MeasureCombination\",\"Quantum.Kata.BoundedKnapsack.T22_RegisterAsJaggedArray\",\"Quantum.Kata.BoundedKnapsack.T23_VerifyLimits\",\"Quantum.Kata.BoundedKnapsack.T24_IncrementByProduct\",\"Quantum.Kata.BoundedKnapsack.T25_NumBitsTotalValue_Reference\",\"Quantum.Kata.BoundedKnapsack.T26_CalculateTotalValueOfSelectedItems\",\"Quantum.Kata.BoundedKnapsack.T27_VerifyTotalWeight\",\"Quantum.Kata.BoundedKnapsack.T28_VerifyTotalProfit\",\"Quantum.Kata.BoundedKnapsack.T29_KnapsackValidationOracle\",\"Quantum.Kata.BoundedKnapsack.ValidateComparator\",\"Quantum.Kata.BoundedKnapsack.ValidateTotalValueVerification\",\"Quantum.Kata.BoundedKnapsack.ValidateTotalValueVerification01\",\"Quantum.Kata.BoundedKnapsack.VerifyKnapsackProblemSolution\",\"Quantum.Kata.BoundedKnapsack.VerifyKnapsackProblemSolution_Reference\",\"Quantum.Kata.BoundedKnapsack.VerifyKnapsackProblemSolution01\",\"Quantum.Kata.BoundedKnapsack.VerifyKnapsackProblemSolution01_Reference\",\"Quantum.Kata.BoundedKnapsack.VerifyLimits\",\"Quantum.Kata.BoundedKnapsack.VerifyLimits_Reference\",\"Quantum.Kata.BoundedKnapsack.VerifyTotalProfit\",\"Quantum.Kata.BoundedKnapsack.VerifyTotalProfit_Reference\",\"Quantum.Kata.BoundedKnapsack.VerifyTotalProfit01\",\"Quantum.Kata.BoundedKnapsack.VerifyTotalProfit01_Reference\",\"Quantum.Kata.BoundedKnapsack.VerifyTotalWeight\",\"Quantum.Kata.BoundedKnapsack.VerifyTotalWeight_Reference\",\"Quantum.Kata.BoundedKnapsack.VerifyTotalWeight01\",\"Quantum.Kata.BoundedKnapsack.VerifyTotalWeight01_Reference\"]",
      "text/html": [
       "<ul><li>Quantum.Kata.BoundedKnapsack.BoolArrayConcatenationAsIntArray</li><li>Quantum.Kata.BoundedKnapsack.CalculateTotalValueOfSelectedItems</li><li>Quantum.Kata.BoundedKnapsack.CalculateTotalValueOfSelectedItems_Reference</li><li>Quantum.Kata.BoundedKnapsack.CalculateTotalValueOfSelectedItems01</li><li>Quantum.Kata.BoundedKnapsack.CalculateTotalValueOfSelectedItems01_Reference</li><li>Quantum.Kata.BoundedKnapsack.CompareQubitArrayGreaterThanInt</li><li>Quantum.Kata.BoundedKnapsack.CompareQubitArrayGreaterThanInt_Reference</li><li>Quantum.Kata.BoundedKnapsack.CompareQubitArrayLeqThanInt</li><li>Quantum.Kata.BoundedKnapsack.CompareQubitArrayLeqThanInt_Reference</li><li>Quantum.Kata.BoundedKnapsack.ExampleSets</li><li>Quantum.Kata.BoundedKnapsack.ExampleSets01</li><li>Quantum.Kata.BoundedKnapsack.IncrementByProduct</li><li>Quantum.Kata.BoundedKnapsack.IncrementByProduct_Reference</li><li>Quantum.Kata.BoundedKnapsack.MeasureCombination</li><li>Quantum.Kata.BoundedKnapsack.MeasureCombination_Reference</li><li>Quantum.Kata.BoundedKnapsack.MeasureCombination01</li><li>Quantum.Kata.BoundedKnapsack.MeasureCombination01_Reference</li><li>Quantum.Kata.BoundedKnapsack.NumBitsTotalValue</li><li>Quantum.Kata.BoundedKnapsack.NumBitsTotalValue_Reference</li><li>Quantum.Kata.BoundedKnapsack.NumBitsTotalValue01</li><li>Quantum.Kata.BoundedKnapsack.NumBitsTotalValue01_Reference</li><li>Quantum.Kata.BoundedKnapsack.RegisterAsJaggedArray</li><li>Quantum.Kata.BoundedKnapsack.RegisterAsJaggedArray_Reference</li><li>Quantum.Kata.BoundedKnapsack.RegisterSize</li><li>Quantum.Kata.BoundedKnapsack.T11_MeasureCombination01</li><li>Quantum.Kata.BoundedKnapsack.T12_NumBitsTotalValue01</li><li>Quantum.Kata.BoundedKnapsack.T13_CalculateTotalValueOfSelectedItems01</li><li>Quantum.Kata.BoundedKnapsack.T14_CompareQubitArrayGreaterThanInt</li><li>Quantum.Kata.BoundedKnapsack.T15_CompareQubitArrayLeqThanInt</li><li>Quantum.Kata.BoundedKnapsack.T16_VerifyTotalWeight01</li><li>Quantum.Kata.BoundedKnapsack.T17_VerifyTotalProfit01</li><li>Quantum.Kata.BoundedKnapsack.T18_KnapsackValidationOracle_01</li><li>Quantum.Kata.BoundedKnapsack.T21_MeasureCombination</li><li>Quantum.Kata.BoundedKnapsack.T22_RegisterAsJaggedArray</li><li>Quantum.Kata.BoundedKnapsack.T23_VerifyLimits</li><li>Quantum.Kata.BoundedKnapsack.T24_IncrementByProduct</li><li>Quantum.Kata.BoundedKnapsack.T25_NumBitsTotalValue_Reference</li><li>Quantum.Kata.BoundedKnapsack.T26_CalculateTotalValueOfSelectedItems</li><li>Quantum.Kata.BoundedKnapsack.T27_VerifyTotalWeight</li><li>Quantum.Kata.BoundedKnapsack.T28_VerifyTotalProfit</li><li>Quantum.Kata.BoundedKnapsack.T29_KnapsackValidationOracle</li><li>Quantum.Kata.BoundedKnapsack.ValidateComparator</li><li>Quantum.Kata.BoundedKnapsack.ValidateTotalValueVerification</li><li>Quantum.Kata.BoundedKnapsack.ValidateTotalValueVerification01</li><li>Quantum.Kata.BoundedKnapsack.VerifyKnapsackProblemSolution</li><li>Quantum.Kata.BoundedKnapsack.VerifyKnapsackProblemSolution_Reference</li><li>Quantum.Kata.BoundedKnapsack.VerifyKnapsackProblemSolution01</li><li>Quantum.Kata.BoundedKnapsack.VerifyKnapsackProblemSolution01_Reference</li><li>Quantum.Kata.BoundedKnapsack.VerifyLimits</li><li>Quantum.Kata.BoundedKnapsack.VerifyLimits_Reference</li><li>Quantum.Kata.BoundedKnapsack.VerifyTotalProfit</li><li>Quantum.Kata.BoundedKnapsack.VerifyTotalProfit_Reference</li><li>Quantum.Kata.BoundedKnapsack.VerifyTotalProfit01</li><li>Quantum.Kata.BoundedKnapsack.VerifyTotalProfit01_Reference</li><li>Quantum.Kata.BoundedKnapsack.VerifyTotalWeight</li><li>Quantum.Kata.BoundedKnapsack.VerifyTotalWeight_Reference</li><li>Quantum.Kata.BoundedKnapsack.VerifyTotalWeight01</li><li>Quantum.Kata.BoundedKnapsack.VerifyTotalWeight01_Reference</li></ul>"
      ],
      "text/plain": [
       "Quantum.Kata.BoundedKnapsack.BoolArrayConcatenationAsIntArray, Quantum.Kata.BoundedKnapsack.CalculateTotalValueOfSelectedItems, Quantum.Kata.BoundedKnapsack.CalculateTotalValueOfSelectedItems_Reference, Quantum.Kata.BoundedKnapsack.CalculateTotalValueOfSelectedItems01, Quantum.Kata.BoundedKnapsack.CalculateTotalValueOfSelectedItems01_Reference, Quantum.Kata.BoundedKnapsack.CompareQubitArrayGreaterThanInt, Quantum.Kata.BoundedKnapsack.CompareQubitArrayGreaterThanInt_Reference, Quantum.Kata.BoundedKnapsack.CompareQubitArrayLeqThanInt, Quantum.Kata.BoundedKnapsack.CompareQubitArrayLeqThanInt_Reference, Quantum.Kata.BoundedKnapsack.ExampleSets, Quantum.Kata.BoundedKnapsack.ExampleSets01, Quantum.Kata.BoundedKnapsack.IncrementByProduct, Quantum.Kata.BoundedKnapsack.IncrementByProduct_Reference, Quantum.Kata.BoundedKnapsack.MeasureCombination, Quantum.Kata.BoundedKnapsack.MeasureCombination_Reference, Quantum.Kata.BoundedKnapsack.MeasureCombination01, Quantum.Kata.BoundedKnapsack.MeasureCombination01_Reference, Quantum.Kata.BoundedKnapsack.NumBitsTotalValue, Quantum.Kata.BoundedKnapsack.NumBitsTotalValue_Reference, Quantum.Kata.BoundedKnapsack.NumBitsTotalValue01, Quantum.Kata.BoundedKnapsack.NumBitsTotalValue01_Reference, Quantum.Kata.BoundedKnapsack.RegisterAsJaggedArray, Quantum.Kata.BoundedKnapsack.RegisterAsJaggedArray_Reference, Quantum.Kata.BoundedKnapsack.RegisterSize, Quantum.Kata.BoundedKnapsack.T11_MeasureCombination01, Quantum.Kata.BoundedKnapsack.T12_NumBitsTotalValue01, Quantum.Kata.BoundedKnapsack.T13_CalculateTotalValueOfSelectedItems01, Quantum.Kata.BoundedKnapsack.T14_CompareQubitArrayGreaterThanInt, Quantum.Kata.BoundedKnapsack.T15_CompareQubitArrayLeqThanInt, Quantum.Kata.BoundedKnapsack.T16_VerifyTotalWeight01, Quantum.Kata.BoundedKnapsack.T17_VerifyTotalProfit01, Quantum.Kata.BoundedKnapsack.T18_KnapsackValidationOracle_01, Quantum.Kata.BoundedKnapsack.T21_MeasureCombination, Quantum.Kata.BoundedKnapsack.T22_RegisterAsJaggedArray, Quantum.Kata.BoundedKnapsack.T23_VerifyLimits, Quantum.Kata.BoundedKnapsack.T24_IncrementByProduct, Quantum.Kata.BoundedKnapsack.T25_NumBitsTotalValue_Reference, Quantum.Kata.BoundedKnapsack.T26_CalculateTotalValueOfSelectedItems, Quantum.Kata.BoundedKnapsack.T27_VerifyTotalWeight, Quantum.Kata.BoundedKnapsack.T28_VerifyTotalProfit, Quantum.Kata.BoundedKnapsack.T29_KnapsackValidationOracle, Quantum.Kata.BoundedKnapsack.ValidateComparator, Quantum.Kata.BoundedKnapsack.ValidateTotalValueVerification, Quantum.Kata.BoundedKnapsack.ValidateTotalValueVerification01, Quantum.Kata.BoundedKnapsack.VerifyKnapsackProblemSolution, Quantum.Kata.BoundedKnapsack.VerifyKnapsackProblemSolution_Reference, Quantum.Kata.BoundedKnapsack.VerifyKnapsackProblemSolution01, Quantum.Kata.BoundedKnapsack.VerifyKnapsackProblemSolution01_Reference, Quantum.Kata.BoundedKnapsack.VerifyLimits, Quantum.Kata.BoundedKnapsack.VerifyLimits_Reference, Quantum.Kata.BoundedKnapsack.VerifyTotalProfit, Quantum.Kata.BoundedKnapsack.VerifyTotalProfit_Reference, Quantum.Kata.BoundedKnapsack.VerifyTotalProfit01, Quantum.Kata.BoundedKnapsack.VerifyTotalProfit01_Reference, Quantum.Kata.BoundedKnapsack.VerifyTotalWeight, Quantum.Kata.BoundedKnapsack.VerifyTotalWeight_Reference, Quantum.Kata.BoundedKnapsack.VerifyTotalWeight01, Quantum.Kata.BoundedKnapsack.VerifyTotalWeight01_Reference"
      ]
     },
     "execution_count": 1,
     "metadata": {},
     "output_type": "execute_result"
    }
   ],
   "source": [
    "%workspace reload"
   ]
  },
  {
   "cell_type": "markdown",
   "metadata": {},
   "source": [
    "## Part I. 0-1 Knapsack Problem\n",
    "\n",
    "**Introduction:**  \n",
    "There exist $n$ items, indexed $0$ to $n-1$. The item with index $i$ has a weight of $w_i$ and yields a profit of $p_i$. In the original $0-1$ knapsack decision problem, we wish to determine whether we can put items in a knapsack to get a total profit of at least $P$, while not exceeding a maximum weight $W$.\n",
    "\n",
    "However, we will slightly modify the problem for this part of the kata: the total profit must be strictly greater than $P$, rather than at least $P$.\n",
    "\n",
    "In the following tasks you will implement an oracle that evaluates whether a particular register of n qubits, representing an item combination, satisfies the described conditions."
   ]
  },
  {
   "cell_type": "markdown",
   "metadata": {},
   "source": [
    "### Task 1.1. Read combination from a register\n",
    "\n",
    "**Input:** An array of $n$ qubits, which are guaranteed to be in one of the $2^n$ basis states.  \n",
    "\n",
    "**Output:** The item combination that this state represents, expressed as a boolean array of length $n$. The $i$-th element of the array should be true (indicating that $i$-th item is selected) if and only if the i-th qubit of the register is in the $|1\\rangle$ state. The operation should not change the state of the qubits.\n",
    "     \n",
    "**Example:** For $n = 3$ and the qubits state $|101\\rangle$, return `[true, false, true]`."
   ]
  },
  {
   "cell_type": "code",
   "execution_count": 2,
   "metadata": {},
   "outputs": [
    {
     "name": "stderr",
     "output_type": "stream",
     "text": [
      "Unexpected length of the result: expected 1, got 0\n",
      "Try again!\n"
     ]
    }
   ],
   "source": [
    "%kata T11_MeasureCombination01\n",
    "\n",
    "operation MeasureCombination01 (selectedItems : Qubit[]) : Bool[] {\n",
    "    // ...\n",
    "    return new Bool[0];\n",
    "}"
   ]
  },
  {
   "cell_type": "markdown",
   "metadata": {},
   "source": [
    "### Task 1.2. Calculate the number of (qu)bits necessary to hold the maximum total value\n",
    "\n",
    "**Input:** An array of n positive integers, describing the value (the weight or the profit) of each item.\\\n",
    "\n",
    "**Output:** The minimum number of (qu)bits needed to store the maximum total weight/profit of the items.\n",
    "\n",
    "Example: For $n = 4$ and `itemValues = [1, 2, 3, 4]`, the maximum possible total value is $10$, which requires at least $4$ qubits to store it, so $4$ is returned."
   ]
  },
  {
   "cell_type": "code",
   "execution_count": 6,
   "metadata": {},
   "outputs": [
    {
     "name": "stderr",
     "output_type": "stream",
     "text": [
      "Invalid test name: T12_NumBitsTotalValue01\r\n"
     ]
    }
   ],
   "source": [
    "%kata T12_NumBitsTotalValue01\n",
    "\n",
    "function NumBitsTotalValue01 (itemValues : Int[]) : Int {\n",
    "    // ...\n",
    "    return 0;\n",
    "}"
   ]
  },
  {
   "cell_type": "markdown",
   "metadata": {},
   "source": [
    "### Task 1.3. Calculate total value of selected items\n",
    "\n",
    "**Inputs:**\n",
    "     1) An array of $n$ integers, describing the values (the weights or the profits) of the items.\n",
    "     2) An array of $n$ qubits, describing whether each item is put into the knapsack.\n",
    "     3) An array of qubits \"total\" in the $|0...0\\rangle$ state to store the total value of the selected items. \n",
    "It is guaranteed that there are enough qubits to store the total value.\n",
    "\n",
    "**Goal:** Transform the \"total\" array to represent, in little-endian format, the sum of the values of the items that are put in the knapsack. The input qubits can be in a superposition state. Leave the qubits in selectedItems in the same state they started in.\n",
    "\n",
    "Example: For $n = 4$ and `itemValues = [1, 2, 3, 4]`, the input state $|1001\\rangle|0000\\rangle$ should be transformed to $|1001\\rangle|1010\\rangle$, since items $0$ and $3$ are put in the knapsack, and `itemValues[0] + itemValues[3] = 1 + 4 = 5 = 1010₂`."
   ]
  },
  {
   "cell_type": "code",
   "execution_count": null,
   "metadata": {},
   "outputs": [],
   "source": [
    "operation CalculateTotalValueOfSelectedItems01 (itemValues : Int[], selectedItems : Qubit[], total : Qubit[]) : Unit is Adj+Ctl {\n",
    "    // ...\n",
    "}"
   ]
  },
  {
   "cell_type": "markdown",
   "metadata": {},
   "source": [
    "### Task 1.4. Compare an integer stored in a qubit array with an integer (>)\n",
    "\n",
    "**Inputs:**\n",
    "1. An array of `D` qubits representing an integer in little-endian format.\n",
    "2. An integer $b (0 ≤ b ≤ 2^D - 1)$.\n",
    "3. A qubit in an arbitrary state (target qubit).\n",
    "     \n",
    "**Goal:** Flip the state of the target qubit if the integer represented by the qubit array is greater than $b$. The input qubits can be in superposition. Leave the qubits in the qubit array in the same state they started in.\n",
    "\n",
    "Example: For $b = 11$, the input state $|1011\\rangle|0\\rangle$ should be transformed to $|1011\\rangle|1\\rangle$, since $1101_2 = 13_{10} > 11_{10}$."
   ]
  },
  {
   "cell_type": "code",
   "execution_count": null,
   "metadata": {},
   "outputs": [],
   "source": [
    "operation CompareQubitArrayGreaterThanInt (qs : Qubit[], b : Int, target : Qubit) : Unit is Adj+Ctl {\n",
    "    // ...\n",
    "}"
   ]
  },
  {
   "cell_type": "markdown",
   "metadata": {},
   "source": [
    "### Task 1.5. Compare an integer stored in a qubit array with an integer (≤)\n",
    "\n",
    "**Inputs:**\n",
    "1. An array of D qubits representing an integer in little-endian format.\n",
    "2. An integer $b (0 ≤ b ≤ 2^D - 1)$.\n",
    "3. A qubit in an arbitrary state (target qubit).\n",
    "\n",
    "**Goal:** Flip the state of the target qubit if the integer represented by the qubit array is less than or equal to b. The input qubits can be in superposition. Leave the qubits in the qubit array in the same state they started in.\n",
    "\n",
    "Example: For b = 7, the input state |1010⟩|0⟩ should be transformed to |1010⟩|1⟩, since 0101₂ = 5₁₀ ≤ 7₁₀."
   ]
  },
  {
   "cell_type": "code",
   "execution_count": null,
   "metadata": {},
   "outputs": [],
   "source": [
    "operation CompareQubitArrayLeqThanInt (qs : Qubit[], b : Int, target : Qubit) : Unit is Adj+Ctl {\n",
    "    // ...\n",
    "}"
   ]
  },
  {
   "cell_type": "markdown",
   "metadata": {},
   "source": [
    "### Task 1.6. Verify that the total weight doesn't exceed the limit W\n",
    "**Inputs:**\n",
    "1. An integer `W`, the maximum weight the knapsack can hold.\n",
    "2. An array of $n$ integers, describing the weights of the items: `itemWeights[i] = wᵢ`.\n",
    "3. An array of $n$ qubits, describing whether each item is put into the knapsack.\n",
    "4. A qubit in an arbitrary state (target qubit).\n",
    "\n",
    "**Goal:** Flip the state of the target qubit if the total weight is less than or equal to `W`. The input qubits can be in superposition. Leave the qubits in the qubit array in the same state they started in."
   ]
  },
  {
   "cell_type": "code",
   "execution_count": null,
   "metadata": {},
   "outputs": [],
   "source": [
    "operation VerifyTotalWeight01 (W : Int, itemWeights : Int[], selectedItems : Qubit[], target : Qubit) : Unit is Adj+Ctl {\n",
    "    // ...\n",
    "}"
   ]
  },
  {
   "cell_type": "markdown",
   "metadata": {},
   "source": [
    "### Task 1.7. Verify that the total profit exceeds the threshold P\n",
    "**Inputs:**\n",
    "1. An integer `P`, the threshold which the total profit must exceed.\n",
    "2. An array of $n$ integers, describing the profits of the items: `itemProfits[i] = pᵢ`.\n",
    "3. An array of $n$ qubits, describing whether each item is put into the knapsack.\n",
    "4. A qubit in an arbitrary state (target qubit).\n",
    "\n",
    "**Goal:** Flip the state of the target qubit if the total profit is greater than `P`. The input qubits can be in superposition. Leave the qubits in the qubit array in the same state they started in."
   ]
  },
  {
   "cell_type": "code",
   "execution_count": null,
   "metadata": {},
   "outputs": [],
   "source": [
    "operation VerifyTotalProfit01 (P : Int, itemProfits : Int[], selectedItems : Qubit[], target : Qubit) : Unit is Adj+Ctl {\n",
    "    // ...\n",
    "}"
   ]
  },
  {
   "cell_type": "markdown",
   "metadata": {},
   "source": [
    "### Task 1.8. Verify the solution to the 0-1 knapsack problem\n",
    "\n",
    "**Inputs:**\n",
    "1. An integer `W`, the maximum weight the knapsack can hold.\n",
    "2. An integer `P`, the threshold which the total profit must exceed.\n",
    "3. An array of $n$ integers, describing the weights of the items: `itemWeights[i] = wᵢ`.\n",
    "4. An array of $n$ integers, describing the profits of the items: `itemProfits[i] = pᵢ`.\n",
    "5. An array of $n$ qubits, describing whether each item is put into the knapsack.\n",
    "6. A qubit in an arbitrary state (target qubit).\n",
    "\n",
    "**Goal:** Flip the state of the target qubit if the selection of the items in selectedItems satisfies both constraints:\n",
    "* the total weight of all items is less than or equal to `W`, and\n",
    "* the total profit of all items is greater than `P`.\n",
    "\n",
    "The input qubits can be in superposition. Leave the qubits in the qubit array in the same state they started in."
   ]
  },
  {
   "cell_type": "code",
   "execution_count": null,
   "metadata": {},
   "outputs": [],
   "source": [
    "operation VerifyKnapsackProblemSolution01 (W : Int, P : Int, itemWeights : Int[], itemProfits : Int[], selectedItems : Qubit[], target : Qubit) : Unit is Adj+Ctl {\n",
    "    // ...\n",
    "}"
   ]
  },
  {
   "cell_type": "markdown",
   "metadata": {},
   "source": [
    "## Part II. Bounded Knapsack Problem\n",
    "\n",
    "**Introduction:**\n",
    "\n",
    "In this version of the problem we still consider $n$ items, indexed $0$ to $n-1$, the item with index $i$ has a weight of $w_i$ and yields a profit of $p_i$. But in the bounded knapsack version of the problem, unlike in the $0-1$ knapsack problem, each type of item can have more than one copy, and can be selected multiple times. Specifically, there are $b_i$ copies of item type $i$ available, so this item type can be selected between $0$ and $b_i$ times, inclusive.\n",
    "Let $x_i$ represent the number of copies of index $i$ that are put into the knapsack; $0 ≤ x_i ≤ b_i$ for all $i$. Thus, we seek a combination `xs = [x₀, x₁, ..., xₙ₋₁]` which has total weight at most W, and has total profit that is greater than $P$.\n",
    "\n",
    "Again, we slightly modify the problem, such that the total profit must be strictly greater than $P$, rather than at least $P$.\n",
    "\n",
    "The comparators from Part I can be reused, but the operations for calculating total weight and profit will need to be rewritten."
   ]
  },
  {
   "cell_type": "markdown",
   "metadata": {},
   "source": [
    "### Task 2.1. Read combination from a jagged array of \n",
    "\n",
    "**Input:** A jagged array of qubits of length $n$. Array `selectedItemCounts[i]` represents the binary notation of $x_i$ in little-endian format. Each qubit is guaranteed to be in one of the basis states ($|0\\rangle$ or $|1\\rangle$).\\\n",
    "\n",
    "**Output:** An integer array of length $n$, containing the combination that this jagged array represents. The integer at index $i$ in the output array should have value $x_i$. The operation should not change the state of the qubits.\n",
    "\n",
    "Example: For state `selectedItemCounts = [|101⟩, |1110⟩, |0100⟩]`, return `[5, 7, 2]`."
   ]
  },
  {
   "cell_type": "code",
   "execution_count": null,
   "metadata": {},
   "outputs": [],
   "source": [
    "operation MeasureCombination (selectedItemCounts : Qubit[][]) : Int[] {\n",
    "    // ...\n",
    "    return new Int[0];\n",
    "}"
   ]
  },
  {
   "cell_type": "markdown",
   "metadata": {},
   "source": [
    "### Task 2.2. Convert an array into a jagged array\n",
    "\n",
    "To simplify access to the register as an array of integers within the oracle, we reorganize the register into several qubit arrays that represent, in little-endian format,  the number of copies of each item type. We can do the same transformation with arrays of other types, for example, arrays of classical bits (boolean or integer) that store binary notations of several integers. To make our code reusable, we can make it type-parameterized.\n",
    "\n",
    "**Inputs:**\n",
    "1. An array of type `T` (`T` could be qubits or classical bits).\n",
    "2. An array of $n$ integers $b_i$.\n",
    "\n",
    "**Output:** A jagged array of n arrays of type `T`. $i$-th element of the return value should have enough bits to represent the integer $b_i$ in binary notation. The length of the input array of `T` is defined to be able to store all integers $b_i$.\n",
    "\n",
    "**Example:** For `b = [6, 15, 13]` and a register of qubits in state $|10111100100\\rangle$, you need to use $3$, $4$, and $4$ bits to represent the integers $b_i$, so you'll return an array of qubit arrays `[|101⟩, |1110⟩, |0100⟩]`."
   ]
  },
  {
   "cell_type": "code",
   "execution_count": null,
   "metadata": {},
   "outputs": [],
   "source": [
    "function RegisterAsJaggedArray<'T> (array : 'T[], b : Int[]) : 'T[][] {\n",
    "    // ...\n",
    "    return new 'T[][0];\n",
    "}"
   ]
  },
  {
   "cell_type": "markdown",
   "metadata": {},
   "source": [
    "### Task 2.3. Verification of limits satisfaction\n",
    "\n",
    "**Inputs:**\n",
    "1. An array of $n$ integers `itemCountLimits[i] = bᵢ`.\n",
    "2. A jagged array of $n$ qubits. Each array `selectedItemCounts[i]` represents the number of items $x_i$ in little-endian format.\n",
    "3. A qubit in an arbitrary state (target qubit).\n",
    "\n",
    "**Goal:** Flip the state of the target qubit if $x_i ≤ b_i$ for all $i$. The input qubits can be in superposition. Leave the qubits in qubit array in the same state they started in."
   ]
  },
  {
   "cell_type": "code",
   "execution_count": null,
   "metadata": {},
   "outputs": [],
   "source": [
    "operation VerifyLimits (itemCountLimits : Int[], selectedItemCounts : Qubit[][], target : Qubit) : Unit is Adj+Ctl {\n",
    "    // ...\n",
    "}"
   ]
  },
  {
   "cell_type": "markdown",
   "metadata": {},
   "source": [
    "### Task 2.4. Increment a quantum integer by a product of classical and quantum integers\n",
    "\n",
    "**Inputs:**\n",
    "1. An integer `x`.\n",
    "2. An array of n qubits, representing an arbitrary integer `y`.\n",
    "3. An array of m qubits, representing an arbitrary integer `z`.\n",
    "\n",
    "**Goal:** Increment register `z` by the product of `x` and `y`. Perform the increment modulo $2^m$ (you don't need to track the carry bit). The input qubits can be in superposition. Leave the qubits in register `y` in the same state they started in."
   ]
  },
  {
   "cell_type": "code",
   "execution_count": null,
   "metadata": {},
   "outputs": [],
   "source": [
    "operation IncrementByProduct (x : Int, y : Qubit[], z : Qubit[]) : Unit is Adj+Ctl {\n",
    "    // ...\n",
    "}"
   ]
  },
  {
   "cell_type": "markdown",
   "metadata": {},
   "source": [
    "### Task 2.5. Calculate the number of (qu)bits necessary to hold the maximum total value\n",
    "\n",
    "**Inputs:**\n",
    "1. An array of $n$ positive integers, describing the value (the weight or the profit) of each item.\n",
    "2. An array of $n$ positive integers, describing the $b_i$ - the limits on the maximum number of items of type $i$ that can be selected.\n",
    "\n",
    "**Output:** The minimum number of (qu)bits needed to store the maximum total weight/profit of the items.\n",
    "\n",
    "**Example:** For `n = 4`, `itemValues = [1, 2, 3, 4]`, and `itemCountLimits = [2, 5, 4, 3]`, the maximum possible total weight is  $1 \\cdot 2 + 2 \\cdot 5 + 3 \\cdot 4 + 4 \\cdot 3 = 36$, which requires at least $6$ qubits, so $6$ is returned."
   ]
  },
  {
   "cell_type": "code",
   "execution_count": null,
   "metadata": {},
   "outputs": [],
   "source": [
    "function NumBitsTotalValue (itemValues : Int[], itemCountLimits : Int[]) : Int {\n",
    "    // ...\n",
    "    return 0;\n",
    "}"
   ]
  },
  {
   "cell_type": "markdown",
   "metadata": {},
   "source": [
    "### Task 2.6. Calculate total value of selected items\n",
    "\n",
    "**Inputs:**\n",
    "1. An array of $n$ integers, describing the values (the weights or the profits) of the items.\n",
    "2. A jagged array of qubits of length $n$. Array `selectedItems[i]` represents the number of items of type $i x_i$ in little-endian format.\n",
    "3. An array of qubits `total` in the $|0...0\\ranble$ state to store the total value of the selected items. It is guaranteed that there are enough qubits to store the total value.\n",
    "\n",
    "**Goal:** Transform the `total` array to represent, in little-endian format, the sum of the values of the items that are put in the knapsack. The input qubits can be in a superposition state. Leave the qubits in `selectedCounts` in the same state they started in."
   ]
  },
  {
   "cell_type": "code",
   "execution_count": null,
   "metadata": {},
   "outputs": [],
   "source": [
    "operation CalculateTotalValueOfSelectedItems (itemValues : Int[], selectedCounts : Qubit[][], total : Qubit[]) : Unit is Adj+Ctl {\n",
    "    // ...\n",
    "}"
   ]
  },
  {
   "cell_type": "markdown",
   "metadata": {},
   "source": [
    "### Task 2.7. Verify that the total weight doesn't exceed the limit W\n",
    "\n",
    "**Inputs:**\n",
    "1. An integer `W`, the maximum weight the knapsack can hold.\n",
    "2. An array of $n$ integers, describing the weights of the items: `itemWeights[i] = wᵢ`.\n",
    "3. An array of $n$ positive integers, describing the $b_i$ - the limits on the maximum number of items of type $i$ that can be selected.\n",
    "4. A jagged array of qubits, describing the number of each item type put into the knapsack. Array `selectedCounts[i]` represents $x_i$ in little-endian format.\n",
    "5. A qubit in an arbitrary state (target qubit).\n",
    "\n",
    "**Goal:** Flip the state of the `target` qubit if the total weight is less than or equal to `W`. The input qubits can be in superposition. Leave the qubits in the `selectedCounts` array in the same state they started in."
   ]
  },
  {
   "cell_type": "code",
   "execution_count": null,
   "metadata": {},
   "outputs": [],
   "source": [
    "operation VerifyTotalWeight (W : Int, itemWeights : Int[], itemCountLimits : Int[], selectedCounts : Qubit[][], target : Qubit) : Unit is Adj+Ctl {\n",
    "    // ...\n",
    "}"
   ]
  },
  {
   "cell_type": "markdown",
   "metadata": {},
   "source": [
    "### Task 2.8. Verify that the total profit exceeds threshold P\n",
    "\n",
    "**Inputs:**\n",
    "1. An integer `P`, the threshold which the total profit must exceed.\n",
    "2. An array of $n$ integers, describing the profits of the items: `itemProfits[i] = pᵢ`.\n",
    "3. An array of $n$ positive integers, describing the $b_i$ - the limits on the maximum number of items of type $i$ that can be selected.\n",
    "4. A jagged array of qubits, describing the number of each item type put into the knapsack. Array `selectedCounts[i]` represents $x_i$ in little-endian format.\n",
    "5. A qubit in an arbitrary state (target qubit).\n",
    "\n",
    "**Goal:** Flip the state of the `target` qubit if the total profit is greater than P. The input qubits can be in superposition. Leave the qubits in the `selectedCounts` array in the same state they started in."
   ]
  },
  {
   "cell_type": "code",
   "execution_count": null,
   "metadata": {},
   "outputs": [],
   "source": [
    "    operation VerifyTotalProfit (P : Int, itemProfits : Int[], itemCountLimits : Int[], selectedCounts : Qubit[][], target : Qubit) : Unit is Adj+Ctl {\n",
    "        // ...\n",
    "    }"
   ]
  },
  {
   "cell_type": "markdown",
   "metadata": {},
   "source": [
    "### Task 2.9. Verify the solution to the bounded knapsack problem\n",
    "\n",
    "**Inputs:**\n",
    "1. An integer `W`, the maximum weight the knapsack can hold.\n",
    "2. An integer `P`, the threshold which the total profit must exceed.\n",
    "3. An array of $n$ integers, describing the weights of the items: `itemWeights[i] = wᵢ`.\n",
    "4. An array of $n$ integers, describing the profits of the items: `itemProfits[i] = pᵢ`.\n",
    "5. An array of $n$ integers, describing the maximum numbers of each type of item that can be selected: `itemCountLimits[i] = bᵢ`.\n",
    "6. An array of $Q$ qubits, describing the numbers of each type of item selected for the knapsack. ($Q$ is the minimum number of qubits necessary to store a concatenation of the numbers up to $b_i$.)\n",
    "7. A qubit in an arbitrary state (target qubit)\n",
    "\n",
    "**Goal:** Flip the state of the target qubit if the selection of the items in `selectedCountsRegister` satisfies both constraints:\n",
    "* the total weight of all items is less than or equal to `W`, \n",
    "* the total profit of all items is greater than `P`, and\n",
    "* the number of $i$-th type of item is less than or equal to $b_i$.\n",
    "\n",
    "The input qubits can be in superposition. Leave the qubits in register in the same state they started in."
   ]
  },
  {
   "cell_type": "code",
   "execution_count": null,
   "metadata": {},
   "outputs": [],
   "source": [
    "    operation VerifyKnapsackProblemSolution (W : Int, P : Int, itemWeights : Int[], itemProfits : Int[], itemCountLimits : Int[], selectedCountsRegister : Qubit[], target : Qubit) : Unit is Adj+Ctl {\n",
    "        // ...\n",
    "    }"
   ]
  },
  {
   "cell_type": "markdown",
   "metadata": {},
   "source": [
    "## Part III. Using Grover's algorithm for knapsack optimization problems\n",
    "\n",
    "Coming soon..."
   ]
  }
 ],
 "metadata": {
  "kernelspec": {
   "display_name": "Q#",
   "language": "qsharp",
   "name": "iqsharp"
  },
  "language_info": {
   "file_extension": ".qs",
   "mimetype": "text/x-qsharp",
   "name": "qsharp",
   "version": "0.14"
  }
 },
 "nbformat": 4,
 "nbformat_minor": 2
}
