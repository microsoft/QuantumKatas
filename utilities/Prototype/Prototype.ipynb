{
 "cells": [
  {
   "cell_type": "markdown",
   "metadata": {},
   "source": [
    "# Prototype tutorial\n",
    "\n",
    "**Prototype** tutorial is designed to test if kata magic is successfull for multiple simulators."
   ]
  },
  {
   "cell_type": "markdown",
   "metadata": {},
   "source": [
    "## Setup\n",
    "- Follow the instructions as mentioned in the Contribution guide to use the custom version.\n",
    "- Otherwise it would use the current katas package instead of the custom version"
   ]
  },
  {
   "cell_type": "code",
   "execution_count": null,
   "metadata": {},
   "outputs": [],
   "source": [
    "// %package Microsoft.Quantum.Katas::<katas-version>"
   ]
  },
  {
   "cell_type": "code",
   "execution_count": null,
   "metadata": {},
   "outputs": [],
   "source": [
    "// %workspace reload"
   ]
  },
  {
   "cell_type": "markdown",
   "metadata": {},
   "source": [
    "## Toffoli Simulator\n",
    "The test below allocates and manipulates $150$ qubits. Toffoli simulator can support a large number of qubits. However, it can only support the `X`, `CNOT`, `CCNOT` and controlled variants of `X` gates.  Run the cell below to see the passing test. "
   ]
  },
  {
   "cell_type": "code",
   "execution_count": null,
   "metadata": {
    "tags": [
     "invalid_code"
    ]
   },
   "outputs": [],
   "source": [
    "%kata T11_PassOnToffoliSimulator\n",
    "\n",
    "operation FlipZerosToOnes(qs: Qubit[]): Unit{\n",
    "    ApplyToEach(X, qs);\n",
    "}"
   ]
  },
  {
   "cell_type": "markdown",
   "metadata": {},
   "source": [
    "**Note:** A full state simulator will run out of memory during the qubit allocation if large number of qubits are allocated. Run the cells below to see the failing tests. "
   ]
  },
  {
   "cell_type": "code",
   "execution_count": null,
   "metadata": {
    "tags": [
     "invalid_code"
    ]
   },
   "outputs": [],
   "source": [
    "%kata T12_FailOnQuantumSimulator\n",
    "\n",
    "operation FlipZerosToOnes(qs: Qubit[]): Unit{\n",
    "    ApplyToEach(X, qs);\n",
    "}"
   ]
  },
  {
   "cell_type": "code",
   "execution_count": null,
   "metadata": {
    "tags": [
     "invalid_code"
    ]
   },
   "outputs": [],
   "source": [
    "%kata T13_FailOnCounterSimulator\n",
    "\n",
    "operation FlipZerosToOnes(qs: Qubit[]): Unit{\n",
    "    ApplyToEach(X, qs);\n",
    "}"
   ]
  },
  {
   "cell_type": "markdown",
   "metadata": {},
   "source": [
    "## Counter Simulator\n",
    "* The test allows user to use only $H$ gate to convert $|0\\rangle$ to $|+\\rangle$ state. It uses `ResetOracleCallsCount()` and `GetOracleCallsCount()` functionality offered by the `CounterSimulator` to accomplish this.<br>\n",
    "\n",
    "Run the cell below to see the passing test."
   ]
  },
  {
   "cell_type": "code",
   "execution_count": null,
   "metadata": {},
   "outputs": [],
   "source": [
    "%kata T21_PassOnCounterSimulator\n",
    "\n",
    "operation FlipZeroToPlusRestriction(q: Qubit) : Unit{\n",
    "    H(q);\n",
    "}"
   ]
  },
  {
   "cell_type": "markdown",
   "metadata": {},
   "source": [
    "* The above test would fail on `Toffoli` and `Quantum Simulator` since they do not support `ResetOracleCallsCount()` and `GetOracleCallsCount()` functionality. <br>\n",
    "\n",
    "Run the cells below to see failing tests."
   ]
  },
  {
   "cell_type": "code",
   "execution_count": null,
   "metadata": {
    "tags": [
     "invalid_code"
    ]
   },
   "outputs": [],
   "source": [
    "%kata T22_FailOnQuantumSimulator\n",
    "\n",
    "operation FlipZeroToPlusRestriction(q: Qubit) : Unit{\n",
    "    H(q);\n",
    "}"
   ]
  },
  {
   "cell_type": "code",
   "execution_count": null,
   "metadata": {
    "tags": [
     "invalid_code"
    ]
   },
   "outputs": [],
   "source": [
    "%kata T23_FailOnToffoliSimulator\n",
    "\n",
    "operation FlipZeroToPlusRestriction(q: Qubit) : Unit{\n",
    "    H(q);\n",
    "}"
   ]
  },
  {
   "cell_type": "markdown",
   "metadata": {},
   "source": [
    "## Quantum Simulator\n",
    "* The test imposes no limitation on the number of $H$ gates that can be called by the user to convert $|0\\rangle$ to $|+\\rangle$ state.\n",
    "\n",
    "  Run the cell below to see the test pass\n",
    "> Note : We can't design a test that passes on `QuantumSimulator` but fails on `CounterSimulator`, since latter offers all the functionality of the former."
   ]
  },
  {
   "cell_type": "code",
   "execution_count": null,
   "metadata": {},
   "outputs": [],
   "source": [
    "%kata T31_PassOnQuantumSimulator\n",
    "\n",
    "operation FlipZeroToPlusNoRestriction(q: Qubit) : Unit{\n",
    "    H(q);\n",
    "    H(q);\n",
    "    H(q);\n",
    "}"
   ]
  },
  {
   "cell_type": "markdown",
   "metadata": {},
   "source": [
    "However, the above test cant be simulated using`ToffoliSimulator` because it allows to simulate`X`, `CNOT`, `CCNOT` and controlled version of `X` gates.<br>\n",
    "\n",
    "Run the cell below to see the failing test"
   ]
  },
  {
   "cell_type": "code",
   "execution_count": null,
   "metadata": {
    "tags": [
     "invalid_code"
    ]
   },
   "outputs": [],
   "source": [
    "%kata T32_FailOnToffoliSimulator\n",
    "\n",
    "operation FlipZeroToPlusNoRestriction(q: Qubit) : Unit{\n",
    "    H(q);\n",
    "    H(q);\n",
    "    H(q);\n",
    "}"
   ]
  },
  {
   "cell_type": "markdown",
   "metadata": {},
   "source": [
    "## Multiple Simulator Check\n",
    "Checks if a test is sucessful on the following simulators\n",
    "- Quantum Simulator\n",
    "- Counter Simulator\n",
    "- Tofoli Simulator"
   ]
  },
  {
   "cell_type": "code",
   "execution_count": null,
   "metadata": {},
   "outputs": [],
   "source": [
    "%kata MultipleSimulatorCheck\n",
    "\n",
    "operation FlipZerosToOnes(qs: Qubit[]): Unit{\n",
    "    ApplyToEach(X, qs);\n",
    "}"
   ]
  },
  {
   "cell_type": "code",
   "execution_count": null,
   "metadata": {},
   "outputs": [],
   "source": []
  }
 ],
 "metadata": {
  "kernelspec": {
   "display_name": "Q#",
   "language": "qsharp",
   "name": "iqsharp"
  },
  "language_info": {
   "file_extension": ".qs",
   "mimetype": "text/x-qsharp",
   "name": "qsharp",
   "version": "0.14"
  }
 },
 "nbformat": 4,
 "nbformat_minor": 2
}
